{
 "cells": [
  {
   "cell_type": "code",
   "execution_count": 0,
   "metadata": {
    "application/vnd.databricks.v1+cell": {
     "cellMetadata": {
      "byteLimit": 2048000,
      "rowLimit": 10000
     },
     "inputWidgets": {},
     "nuid": "115a2cd9-1df6-4d25-a97d-8ea6af24ca7a",
     "showTitle": false,
     "title": ""
    }
   },
   "outputs": [
    {
     "output_type": "display_data",
     "data": {
      "text/html": [
       "\n",
       "            <div>\n",
       "                <p><b>SparkSession - hive</b></p>\n",
       "                \n",
       "        <div>\n",
       "            <p><b>SparkContext</b></p>\n",
       "\n",
       "            <p><a href=\"/?o=3070667060362216#setting/sparkui/0531-200740-ptogozs7/driver-3212701688094503077\">Spark UI</a></p>\n",
       "\n",
       "            <dl>\n",
       "              <dt>Version</dt>\n",
       "                <dd><code>v3.3.2</code></dd>\n",
       "              <dt>Master</dt>\n",
       "                <dd><code>local[8]</code></dd>\n",
       "              <dt>AppName</dt>\n",
       "                <dd><code>Databricks Shell</code></dd>\n",
       "            </dl>\n",
       "        </div>\n",
       "        \n",
       "            </div>\n",
       "        "
      ]
     },
     "metadata": {
      "application/vnd.databricks.v1+output": {
       "addedWidgets": {},
       "arguments": {},
       "data": "\n            <div>\n                <p><b>SparkSession - hive</b></p>\n                \n        <div>\n            <p><b>SparkContext</b></p>\n\n            <p><a href=\"/?o=3070667060362216#setting/sparkui/0531-200740-ptogozs7/driver-3212701688094503077\">Spark UI</a></p>\n\n            <dl>\n              <dt>Version</dt>\n                <dd><code>v3.3.2</code></dd>\n              <dt>Master</dt>\n                <dd><code>local[8]</code></dd>\n              <dt>AppName</dt>\n                <dd><code>Databricks Shell</code></dd>\n            </dl>\n        </div>\n        \n            </div>\n        ",
       "datasetInfos": [],
       "metadata": {},
       "removedWidgets": [],
       "textData": null,
       "type": "htmlSandbox"
      }
     },
     "output_type": "display_data"
    }
   ],
   "source": [
    "spark\n"
   ]
  },
  {
   "cell_type": "code",
   "execution_count": 0,
   "metadata": {
    "application/vnd.databricks.v1+cell": {
     "cellMetadata": {
      "byteLimit": 2048000,
      "rowLimit": 10000
     },
     "inputWidgets": {},
     "nuid": "a93024d1-4f1e-4b36-a404-88f50d27e664",
     "showTitle": false,
     "title": ""
    }
   },
   "outputs": [],
   "source": [
    "#creating for own spark session\n",
    "\n",
    "#importing spark session from pyspark.sql\n",
    "\n",
    "from pyspark.sql import SparkSession\n",
    "\n",
    "#creating a spark session\n",
    "my_spark_session=SparkSession.builder.appName(\"IPL Data Analysis\").getOrCreate()"
   ]
  },
  {
   "cell_type": "code",
   "execution_count": 0,
   "metadata": {
    "application/vnd.databricks.v1+cell": {
     "cellMetadata": {
      "byteLimit": 2048000,
      "rowLimit": 10000
     },
     "inputWidgets": {},
     "nuid": "c0bcdd1a-7004-4258-8dc7-10386e9743ee",
     "showTitle": false,
     "title": ""
    }
   },
   "outputs": [
    {
     "output_type": "display_data",
     "data": {
      "text/html": [
       "\n",
       "            <div>\n",
       "                <p><b>SparkSession - hive</b></p>\n",
       "                \n",
       "        <div>\n",
       "            <p><b>SparkContext</b></p>\n",
       "\n",
       "            <p><a href=\"/?o=3070667060362216#setting/sparkui/0601-042341-ayo9vk7t/driver-7146020758538039077\">Spark UI</a></p>\n",
       "\n",
       "            <dl>\n",
       "              <dt>Version</dt>\n",
       "                <dd><code>v3.3.2</code></dd>\n",
       "              <dt>Master</dt>\n",
       "                <dd><code>local[8]</code></dd>\n",
       "              <dt>AppName</dt>\n",
       "                <dd><code>Databricks Shell</code></dd>\n",
       "            </dl>\n",
       "        </div>\n",
       "        \n",
       "            </div>\n",
       "        "
      ]
     },
     "metadata": {
      "application/vnd.databricks.v1+output": {
       "addedWidgets": {},
       "arguments": {},
       "data": "\n            <div>\n                <p><b>SparkSession - hive</b></p>\n                \n        <div>\n            <p><b>SparkContext</b></p>\n\n            <p><a href=\"/?o=3070667060362216#setting/sparkui/0601-042341-ayo9vk7t/driver-7146020758538039077\">Spark UI</a></p>\n\n            <dl>\n              <dt>Version</dt>\n                <dd><code>v3.3.2</code></dd>\n              <dt>Master</dt>\n                <dd><code>local[8]</code></dd>\n              <dt>AppName</dt>\n                <dd><code>Databricks Shell</code></dd>\n            </dl>\n        </div>\n        \n            </div>\n        ",
       "datasetInfos": [],
       "metadata": {},
       "removedWidgets": [],
       "textData": null,
       "type": "htmlSandbox"
      }
     },
     "output_type": "display_data"
    }
   ],
   "source": [
    "my_spark_session"
   ]
  },
  {
   "cell_type": "code",
   "execution_count": 0,
   "metadata": {
    "application/vnd.databricks.v1+cell": {
     "cellMetadata": {
      "byteLimit": 2048000,
      "rowLimit": 10000
     },
     "inputWidgets": {},
     "nuid": "759c64b6-9d1c-430f-addb-ada2dc80e2af",
     "showTitle": false,
     "title": ""
    }
   },
   "outputs": [],
   "source": [
    "# importing the data from the s3\n",
    "\n",
    "ball_by_ball_df=my_spark_session.read.format(\"csv\")\\\n",
    "    .option(\"header\",\"true\")\\\n",
    "    .option(\"inferSchema\",\"true\")\\\n",
    "    .load(\"/mnt/ipl_s3/raghu543-ipl-data-till-2017/Ball_By_Ball.csv\")"
   ]
  },
  {
   "cell_type": "code",
   "execution_count": 0,
   "metadata": {
    "application/vnd.databricks.v1+cell": {
     "cellMetadata": {
      "byteLimit": 2048000,
      "rowLimit": 10000
     },
     "inputWidgets": {},
     "nuid": "8e0af8bf-934a-4b56-9969-19b507e95b04",
     "showTitle": false,
     "title": ""
    }
   },
   "outputs": [],
   "source": [
    "#we can see that the above data is not properly data formated. so we can use our own schema\n",
    "\n",
    "from pyspark.sql.types import StructType,StructField,StringType,IntegerType,BooleanType,DateType,DecimalType"
   ]
  },
  {
   "cell_type": "code",
   "execution_count": 0,
   "metadata": {
    "application/vnd.databricks.v1+cell": {
     "cellMetadata": {
      "byteLimit": 2048000,
      "rowLimit": 10000
     },
     "inputWidgets": {},
     "nuid": "bb91d3fd-7fa4-45bb-8026-da6d3e13f578",
     "showTitle": false,
     "title": ""
    }
   },
   "outputs": [],
   "source": [
    "ball_schema=StructType([\n",
    "    StructField(\"match_id\", IntegerType(), True),\n",
    "    StructField(\"over_id\", IntegerType(), True),\n",
    "    StructField(\"ball_id\", IntegerType(), True),\n",
    "    StructField(\"innings_no\", IntegerType(), True),\n",
    "    StructField(\"team_batting\", StringType(), True),\n",
    "    StructField(\"team_bowling\", StringType(), True),\n",
    "    StructField(\"striker_batting_position\", IntegerType(), True),\n",
    "    StructField(\"extra_type\", StringType(), True),\n",
    "    StructField(\"runs_scored\", IntegerType(), True),\n",
    "    StructField(\"extra_runs\", IntegerType(), True),\n",
    "    StructField(\"wides\", IntegerType(), True),\n",
    "    StructField(\"legbyes\", IntegerType(), True),\n",
    "    StructField(\"byes\", IntegerType(), True),\n",
    "    StructField(\"noballs\", IntegerType(), True),\n",
    "    StructField(\"penalty\", IntegerType(), True),\n",
    "    StructField(\"bowler_extras\", IntegerType(), True),\n",
    "    StructField(\"out_type\", StringType(), True),\n",
    "    StructField(\"caught\", BooleanType(), True),\n",
    "    StructField(\"bowled\", BooleanType(), True),\n",
    "    StructField(\"run_out\", BooleanType(), True),\n",
    "    StructField(\"lbw\", BooleanType(), True),\n",
    "    StructField(\"retired_hurt\", BooleanType(), True),\n",
    "    StructField(\"stumped\", BooleanType(), True),\n",
    "    StructField(\"caught_and_bowled\", BooleanType(), True),\n",
    "    StructField(\"hit_wicket\", BooleanType(), True),\n",
    "    StructField(\"obstructingfeild\", BooleanType(), True),\n",
    "    StructField(\"bowler_wicket\", BooleanType(), True),\n",
    "    StructField(\"match_date\", DateType(), True),\n",
    "    StructField(\"season\", IntegerType(), True),\n",
    "    StructField(\"striker\", IntegerType(), True),\n",
    "    StructField(\"non_striker\", IntegerType(), True),\n",
    "    StructField(\"bowler\", IntegerType(), True),\n",
    "    StructField(\"player_out\", IntegerType(), True),\n",
    "    StructField(\"fielders\", IntegerType(), True),\n",
    "    StructField(\"striker_match_sk\", IntegerType(), True),\n",
    "    StructField(\"strikersk\", IntegerType(), True),\n",
    "    StructField(\"nonstriker_match_sk\", IntegerType(), True),\n",
    "    StructField(\"nonstriker_sk\", IntegerType(), True),\n",
    "    StructField(\"fielder_match_sk\", IntegerType(), True),\n",
    "    StructField(\"fielder_sk\", IntegerType(), True),\n",
    "    StructField(\"bowler_match_sk\", IntegerType(), True),\n",
    "    StructField(\"bowler_sk\", IntegerType(), True),\n",
    "    StructField(\"playerout_match_sk\", IntegerType(), True),\n",
    "    StructField(\"battingteam_sk\", IntegerType(), True),\n",
    "    StructField(\"bowlingteam_sk\", IntegerType(), True),\n",
    "    StructField(\"keeper_catch\", BooleanType(), True),\n",
    "    StructField(\"player_out_sk\", IntegerType(), True),\n",
    "    StructField(\"matchdatesk\", DateType(), True)\n",
    "])"
   ]
  },
  {
   "cell_type": "code",
   "execution_count": 0,
   "metadata": {
    "application/vnd.databricks.v1+cell": {
     "cellMetadata": {
      "byteLimit": 2048000,
      "rowLimit": 10000
     },
     "inputWidgets": {},
     "nuid": "71138ede-1261-4597-8c4d-ff4da179c421",
     "showTitle": false,
     "title": ""
    }
   },
   "outputs": [],
   "source": [
    "# importing the data from the s3\n",
    "\n",
    "ball_by_ball_df=my_spark_session.read.format(\"csv\")\\\n",
    "    .schema(ball_schema)\\\n",
    "    .option(\"header\",\"true\")\\\n",
    "    .load(\"/mnt/ipl_s3/raghu543-ipl-data-till-2017/Ball_By_Ball.csv\")"
   ]
  },
  {
   "cell_type": "code",
   "execution_count": 0,
   "metadata": {
    "application/vnd.databricks.v1+cell": {
     "cellMetadata": {
      "byteLimit": 2048000,
      "rowLimit": 10000
     },
     "inputWidgets": {},
     "nuid": "376ae5b2-deb0-45af-8e25-0a90739e365a",
     "showTitle": false,
     "title": ""
    }
   },
   "outputs": [],
   "source": [
    "from pyspark.sql.types import DateType, StringType, DoubleType, BooleanType"
   ]
  },
  {
   "cell_type": "code",
   "execution_count": 0,
   "metadata": {
    "application/vnd.databricks.v1+cell": {
     "cellMetadata": {
      "byteLimit": 2048000,
      "rowLimit": 10000
     },
     "inputWidgets": {},
     "nuid": "d07749cb-7362-49d3-a9cf-5606edb6c8f4",
     "showTitle": false,
     "title": ""
    }
   },
   "outputs": [],
   "source": [
    "match_schema = StructType([\n",
    "    StructField(\"match_sk\", IntegerType(), True),\n",
    "    StructField(\"match_id\", IntegerType(), True),\n",
    "    StructField(\"team1\", StringType(), True),\n",
    "    StructField(\"team2\", StringType(), True),\n",
    "    StructField(\"match_date\", StringType(), True),\n",
    "    StructField(\"season_year\", IntegerType(), True),\n",
    "    StructField(\"venue_name\", StringType(), True),\n",
    "    StructField(\"city_name\", StringType(), True),\n",
    "    StructField(\"country_name\", StringType(), True),\n",
    "    StructField(\"toss_winner\", StringType(), True),\n",
    "    StructField(\"match_winner\", StringType(), True),\n",
    "    StructField(\"toss_name\", StringType(), True),\n",
    "    StructField(\"win_type\", StringType(), True),\n",
    "    StructField(\"outcome_type\", StringType(), True),\n",
    "    StructField(\"manofmach\", StringType(), True),\n",
    "    StructField(\"win_margin\", IntegerType(), True),\n",
    "    StructField(\"country_id\", IntegerType(), True)\n",
    "])\n",
    "match_df = spark.read.schema(match_schema).format(\"csv\").option(\"header\",\"true\").load(\"/mnt/ipl_s3/raghu543-ipl-data-till-2017/Match.csv\")\n"
   ]
  },
  {
   "cell_type": "code",
   "execution_count": 0,
   "metadata": {
    "application/vnd.databricks.v1+cell": {
     "cellMetadata": {
      "byteLimit": 2048000,
      "rowLimit": 10000
     },
     "inputWidgets": {},
     "nuid": "d2a97819-f008-400d-8dfb-1cc26ec0ac9b",
     "showTitle": false,
     "title": ""
    }
   },
   "outputs": [],
   "source": [
    "match_df=match_df.withColumn('match_date',to_date(col('match_date'),'M/d/yyyy').cast('date').alias('match_date'))"
   ]
  },
  {
   "cell_type": "code",
   "execution_count": 0,
   "metadata": {
    "application/vnd.databricks.v1+cell": {
     "cellMetadata": {
      "byteLimit": 2048000,
      "rowLimit": 10000
     },
     "inputWidgets": {},
     "nuid": "94289507-a65c-4feb-b416-73f8362af232",
     "showTitle": false,
     "title": ""
    }
   },
   "outputs": [],
   "source": [
    "player_schema = StructType([\n",
    "    StructField(\"player_sk\", IntegerType(), True),\n",
    "    StructField(\"player_id\", IntegerType(), True),\n",
    "    StructField(\"player_name\", StringType(), True),\n",
    "    StructField(\"dob\", StringType(), True),\n",
    "    StructField(\"batting_hand\", StringType(), True),\n",
    "    StructField(\"bowling_skill\", StringType(), True),\n",
    "    StructField(\"country_name\", StringType(), True)\n",
    "])\n",
    "\n",
    "player_df = spark.read.schema(player_schema).format(\"csv\").option(\"header\",\"true\").load(\"/mnt/ipl_s3/raghu543-ipl-data-till-2017/Player.csv\")\n"
   ]
  },
  {
   "cell_type": "code",
   "execution_count": 0,
   "metadata": {
    "application/vnd.databricks.v1+cell": {
     "cellMetadata": {
      "byteLimit": 2048000,
      "rowLimit": 10000
     },
     "inputWidgets": {},
     "nuid": "46eb9d01-90bc-46e4-9c17-6c4d060dd840",
     "showTitle": false,
     "title": ""
    }
   },
   "outputs": [],
   "source": [
    "player_df=player_df.withColumn('dob',to_date(col('dob'),'M/d/yyyy').cast('date').alias('dob'))"
   ]
  },
  {
   "cell_type": "code",
   "execution_count": 0,
   "metadata": {
    "application/vnd.databricks.v1+cell": {
     "cellMetadata": {
      "byteLimit": 2048000,
      "rowLimit": 10000
     },
     "inputWidgets": {},
     "nuid": "1ea3f37d-c21e-4601-94e9-9918cfeda011",
     "showTitle": false,
     "title": ""
    }
   },
   "outputs": [],
   "source": [
    "player_match_schema = StructType([\n",
    "    StructField(\"player_match_sk\", IntegerType(), True),\n",
    "    StructField(\"playermatch_key\", DecimalType(), True),\n",
    "    StructField(\"match_id\", IntegerType(), True),\n",
    "    StructField(\"player_id\", IntegerType(), True),\n",
    "    StructField(\"player_name\", StringType(), True),\n",
    "    StructField(\"dob\", StringType(), True),\n",
    "    StructField(\"batting_hand\", StringType(), True),\n",
    "    StructField(\"bowling_skill\", StringType(), True),\n",
    "    StructField(\"country_name\", StringType(), True),\n",
    "    StructField(\"role_desc\", StringType(), True),\n",
    "    StructField(\"player_team\", StringType(), True),\n",
    "    StructField(\"opposit_team\", StringType(), True),\n",
    "    StructField(\"season_year\", IntegerType(), True),\n",
    "    StructField(\"is_manofthematch\", IntegerType(), True),\n",
    "    StructField(\"age_as_on_match\", IntegerType(), True),\n",
    "    StructField(\"isplayers_team_won\", IntegerType(), True),\n",
    "    StructField(\"batting_status\", StringType(), True),\n",
    "    StructField(\"bowling_status\", StringType(), True),\n",
    "    StructField(\"player_captain\", StringType(), True),\n",
    "    StructField(\"opposit_captain\", StringType(), True),\n",
    "    StructField(\"player_keeper\", StringType(), True),\n",
    "    StructField(\"opposit_keeper\", StringType(), True)\n",
    "])\n",
    "\n",
    "player_match_df = spark.read.schema(player_match_schema).format(\"csv\").option(\"header\",\"true\").load(\"/mnt/ipl_s3/raghu543-ipl-data-till-2017/Player_match.csv\")\n"
   ]
  },
  {
   "cell_type": "code",
   "execution_count": 0,
   "metadata": {
    "application/vnd.databricks.v1+cell": {
     "cellMetadata": {
      "byteLimit": 2048000,
      "rowLimit": 10000
     },
     "inputWidgets": {},
     "nuid": "d2fd5e7f-48da-41bf-921e-b20990c4deef",
     "showTitle": false,
     "title": ""
    }
   },
   "outputs": [],
   "source": [
    "player_match_df=player_match_df.withColumn('dob',to_date(col('dob'),'M/d/yyyy').cast('date').alias('dob'))"
   ]
  },
  {
   "cell_type": "code",
   "execution_count": 0,
   "metadata": {
    "application/vnd.databricks.v1+cell": {
     "cellMetadata": {
      "byteLimit": 2048000,
      "rowLimit": 10000
     },
     "inputWidgets": {},
     "nuid": "42a8731b-e948-4d1e-a864-afcbff44652a",
     "showTitle": false,
     "title": ""
    }
   },
   "outputs": [],
   "source": [
    "player_match_df=player_match_df.withColumn('is_manofthematch',col('is_manofthematch').cast('boolean').alias('is_manofthematch'))\n",
    "player_match_df=player_match_df.withColumn('isplayers_team_won',col('isplayers_team_won').cast('boolean').alias('isplayers_team_won'))"
   ]
  },
  {
   "cell_type": "code",
   "execution_count": 0,
   "metadata": {
    "application/vnd.databricks.v1+cell": {
     "cellMetadata": {
      "byteLimit": 2048000,
      "rowLimit": 10000
     },
     "inputWidgets": {},
     "nuid": "291963d0-09bb-4836-871b-0ddbd30b584f",
     "showTitle": false,
     "title": ""
    }
   },
   "outputs": [],
   "source": [
    "player_match_df=player_match_df.filter(col('player_match_sk')!=-1)"
   ]
  },
  {
   "cell_type": "code",
   "execution_count": 0,
   "metadata": {
    "application/vnd.databricks.v1+cell": {
     "cellMetadata": {
      "byteLimit": 2048000,
      "rowLimit": 10000
     },
     "inputWidgets": {},
     "nuid": "2069c062-38d5-4bab-a999-6a06ea1b3351",
     "showTitle": false,
     "title": ""
    }
   },
   "outputs": [],
   "source": [
    "team_schema = StructType([\n",
    "    StructField(\"team_sk\", IntegerType(), True),\n",
    "    StructField(\"team_id\", IntegerType(), True),\n",
    "    StructField(\"team_name\", StringType(), True)\n",
    "])\n",
    "\n",
    "team_df = spark.read.schema(team_schema).format(\"csv\").option(\"header\",\"true\").load(\"/mnt/ipl_s3/raghu543-ipl-data-till-2017/Ball_By_Ball.csv\")"
   ]
  },
  {
   "cell_type": "code",
   "execution_count": 0,
   "metadata": {
    "application/vnd.databricks.v1+cell": {
     "cellMetadata": {
      "byteLimit": 2048000,
      "rowLimit": 10000
     },
     "inputWidgets": {},
     "nuid": "39d1b606-c085-4215-afcd-22b542ff81bd",
     "showTitle": false,
     "title": ""
    }
   },
   "outputs": [],
   "source": [
    "# import * from pyspark.sql.functions\n",
    "\n",
    "from pyspark.sql.functions import *"
   ]
  },
  {
   "cell_type": "code",
   "execution_count": 0,
   "metadata": {
    "application/vnd.databricks.v1+cell": {
     "cellMetadata": {
      "byteLimit": 2048000,
      "rowLimit": 10000
     },
     "inputWidgets": {},
     "nuid": "5d673365-fc7e-4546-90a2-5f836d197800",
     "showTitle": false,
     "title": ""
    }
   },
   "outputs": [
    {
     "output_type": "stream",
     "name": "stdout",
     "output_type": "stream",
     "text": [
      "root\n |-- match_id: integer (nullable = true)\n |-- over_id: integer (nullable = true)\n |-- ball_id: integer (nullable = true)\n |-- innings_no: integer (nullable = true)\n |-- team_batting: string (nullable = true)\n |-- team_bowling: string (nullable = true)\n |-- striker_batting_position: integer (nullable = true)\n |-- extra_type: string (nullable = true)\n |-- runs_scored: integer (nullable = true)\n |-- extra_runs: integer (nullable = true)\n |-- wides: integer (nullable = true)\n |-- legbyes: integer (nullable = true)\n |-- byes: integer (nullable = true)\n |-- noballs: integer (nullable = true)\n |-- penalty: integer (nullable = true)\n |-- bowler_extras: integer (nullable = true)\n |-- out_type: string (nullable = true)\n |-- caught: boolean (nullable = true)\n |-- bowled: boolean (nullable = true)\n |-- run_out: boolean (nullable = true)\n |-- lbw: boolean (nullable = true)\n |-- retired_hurt: boolean (nullable = true)\n |-- stumped: boolean (nullable = true)\n |-- caught_and_bowled: boolean (nullable = true)\n |-- hit_wicket: boolean (nullable = true)\n |-- obstructingfeild: boolean (nullable = true)\n |-- bowler_wicket: boolean (nullable = true)\n |-- match_date: date (nullable = true)\n |-- season: integer (nullable = true)\n |-- striker: integer (nullable = true)\n |-- non_striker: integer (nullable = true)\n |-- bowler: integer (nullable = true)\n |-- player_out: integer (nullable = true)\n |-- fielders: integer (nullable = true)\n |-- striker_match_sk: integer (nullable = true)\n |-- strikersk: integer (nullable = true)\n |-- nonstriker_match_sk: integer (nullable = true)\n |-- nonstriker_sk: integer (nullable = true)\n |-- fielder_match_sk: integer (nullable = true)\n |-- fielder_sk: integer (nullable = true)\n |-- bowler_match_sk: integer (nullable = true)\n |-- bowler_sk: integer (nullable = true)\n |-- playerout_match_sk: integer (nullable = true)\n |-- battingteam_sk: integer (nullable = true)\n |-- bowlingteam_sk: integer (nullable = true)\n |-- keeper_catch: boolean (nullable = true)\n |-- player_out_sk: integer (nullable = true)\n |-- matchdatesk: date (nullable = true)\n\n"
     ]
    }
   ],
   "source": [
    "# Data cleaning \n",
    "# removing unwanted data from ball by ball dataset \n",
    "ball_by_ball_df.printSchema()"
   ]
  },
  {
   "cell_type": "code",
   "execution_count": 0,
   "metadata": {
    "application/vnd.databricks.v1+cell": {
     "cellMetadata": {
      "byteLimit": 2048000,
      "rowLimit": 10000
     },
     "inputWidgets": {},
     "nuid": "1934f599-c34d-460a-b8d1-05b297af0d8d",
     "showTitle": false,
     "title": ""
    }
   },
   "outputs": [],
   "source": [
    "new_ball_df=ball_by_ball_df.drop(col('legbyes'),col('byes'),col('caught'),col('bowled'),col('retired_hurt'),col('obstructingfeild'),col('lbw'),col('matchdatesk'),col('player_out_sk'),col('battingteam_sk'),col('bowlingteam_sk'),col('fielder_sk'),col('fielder_match_sk'),col('striker_match_sk'),col('strikersk'),col('nonstriker_match_sk'),col('nonstriker_sk'),col('bowler_match_sk'),col('bowler_sk'),col('playerout_match_sk'),col('stumped'),col('run_out'),col('caught_and_bowled'))"
   ]
  },
  {
   "cell_type": "code",
   "execution_count": 0,
   "metadata": {
    "application/vnd.databricks.v1+cell": {
     "cellMetadata": {
      "byteLimit": 2048000,
      "rowLimit": 10000
     },
     "inputWidgets": {},
     "nuid": "d64b5478-8af9-44c5-b38d-064a12566f5c",
     "showTitle": false,
     "title": ""
    }
   },
   "outputs": [],
   "source": [
    "# Filter to include only valid deliveries ( excluding extras like wides and no balls)\n",
    "\n",
    "ball_df=new_ball_df.filter((col(\"wides\")==0) & (col(\"noballs\")==0))"
   ]
  },
  {
   "cell_type": "code",
   "execution_count": 0,
   "metadata": {
    "application/vnd.databricks.v1+cell": {
     "cellMetadata": {
      "byteLimit": 2048000,
      "rowLimit": 10000
     },
     "inputWidgets": {},
     "nuid": "eacac0fe-6357-4cd4-8f93-18b50df79671",
     "showTitle": false,
     "title": ""
    }
   },
   "outputs": [
    {
     "output_type": "stream",
     "name": "stdout",
     "output_type": "stream",
     "text": [
      "root\n |-- match_id: integer (nullable = true)\n |-- over_id: integer (nullable = true)\n |-- ball_id: integer (nullable = true)\n |-- innings_no: integer (nullable = true)\n |-- team_batting: string (nullable = true)\n |-- team_bowling: string (nullable = true)\n |-- striker_batting_position: integer (nullable = true)\n |-- extra_type: string (nullable = true)\n |-- runs_scored: integer (nullable = true)\n |-- extra_runs: integer (nullable = true)\n |-- wides: integer (nullable = true)\n |-- noballs: integer (nullable = true)\n |-- penalty: integer (nullable = true)\n |-- bowler_extras: integer (nullable = true)\n |-- out_type: string (nullable = true)\n |-- hit_wicket: boolean (nullable = true)\n |-- bowler_wicket: boolean (nullable = true)\n |-- match_date: date (nullable = true)\n |-- season: integer (nullable = true)\n |-- striker: integer (nullable = true)\n |-- non_striker: integer (nullable = true)\n |-- bowler: integer (nullable = true)\n |-- player_out: integer (nullable = true)\n |-- fielders: integer (nullable = true)\n |-- keeper_catch: boolean (nullable = true)\n\n"
     ]
    }
   ],
   "source": [
    "ball_df.printSchema()"
   ]
  },
  {
   "cell_type": "code",
   "execution_count": 0,
   "metadata": {
    "application/vnd.databricks.v1+cell": {
     "cellMetadata": {
      "byteLimit": 2048000,
      "rowLimit": 10000
     },
     "inputWidgets": {},
     "nuid": "9dac5882-2aa8-43bf-b703-e342366665d5",
     "showTitle": false,
     "title": ""
    }
   },
   "outputs": [
    {
     "output_type": "stream",
     "name": "stdout",
     "output_type": "stream",
     "text": [
      "+---------------------+-----+\n|out_type             |count|\n+---------------------+-----+\n|caught               |3678 |\n|bowled               |1382 |\n|run out              |755  |\n|Keeper Catch         |695  |\n|lbw                  |455  |\n|stumped              |243  |\n|caught and bowled    |211  |\n|hit wicket           |9    |\n|retired hurt         |9    |\n|obstructing the field|1    |\n+---------------------+-----+\n\n"
     ]
    }
   ],
   "source": [
    "new_ball_df.filter(col('out_type')!='Not Applicable').groupBy('out_type').agg(count('out_type').alias('count')).orderBy(desc('count')).show(truncate=False)"
   ]
  },
  {
   "cell_type": "code",
   "execution_count": 0,
   "metadata": {
    "application/vnd.databricks.v1+cell": {
     "cellMetadata": {
      "byteLimit": 2048000,
      "rowLimit": 10000
     },
     "inputWidgets": {},
     "nuid": "76d69bd6-d671-4034-a052-2e5f5579a05b",
     "showTitle": false,
     "title": ""
    }
   },
   "outputs": [],
   "source": [
    "ball_cln_df=new_ball_df.withColumn('extra_type',lower(col('extra_type')))"
   ]
  },
  {
   "cell_type": "code",
   "execution_count": 0,
   "metadata": {
    "application/vnd.databricks.v1+cell": {
     "cellMetadata": {
      "byteLimit": 2048000,
      "rowLimit": 10000
     },
     "inputWidgets": {},
     "nuid": "11c5cc4d-03ec-4690-b965-09d664b82a40",
     "showTitle": false,
     "title": ""
    }
   },
   "outputs": [
    {
     "output_type": "stream",
     "name": "stdout",
     "output_type": "stream",
     "text": [
      "+----------+-----+\n|extra_type|count|\n+----------+-----+\n|     wides| 4575|\n|   legbyes| 2590|\n|   noballs|  618|\n|      byes|  412|\n|   penalty|    1|\n+----------+-----+\n\n"
     ]
    }
   ],
   "source": [
    "ball_cln_df.filter(col('extra_type')!='no extras').groupBy('extra_type').agg(count('extra_type').alias('count')).orderBy(desc('count')).show()"
   ]
  },
  {
   "cell_type": "code",
   "execution_count": 0,
   "metadata": {
    "application/vnd.databricks.v1+cell": {
     "cellMetadata": {
      "byteLimit": 2048000,
      "rowLimit": 10000
     },
     "inputWidgets": {},
     "nuid": "833c69c1-acf9-48de-b254-55bc3e363b5d",
     "showTitle": false,
     "title": ""
    }
   },
   "outputs": [],
   "source": [
    "# Aggregation : compute the total and average runs scored in each match and innings\n",
    "\n",
    "total_avg_runs= ball_cln_df.groupBy(\"match_id\",\"innings_no\").agg(\n",
    "    sum(\"runs_scored\").alias(\"total_runs\"),\n",
    "    round(avg(\"runs_scored\"),2).alias(\"avg_runs\")\n",
    ")"
   ]
  },
  {
   "cell_type": "code",
   "execution_count": 0,
   "metadata": {
    "application/vnd.databricks.v1+cell": {
     "cellMetadata": {
      "byteLimit": 2048000,
      "rowLimit": 10000
     },
     "collapsed": true,
     "inputWidgets": {},
     "nuid": "7ce01538-6004-494d-915c-ef86c46411a5",
     "showTitle": false,
     "title": ""
    }
   },
   "outputs": [
    {
     "output_type": "stream",
     "name": "stdout",
     "output_type": "stream",
     "text": [
      "+--------+----------+----------+--------+\n|match_id|innings_no|total_runs|avg_runs|\n+--------+----------+----------+--------+\n|  335987|         1|       205|    1.65|\n|  335987|         2|        63|    0.62|\n|  335988|         1|       234|    1.89|\n|  335988|         2|       196|    1.58|\n|  335989|         1|       118|    0.97|\n|  335989|         2|       122|    1.26|\n|  335990|         1|       154|    1.25|\n|  335990|         2|       161|    1.31|\n|  335991|         1|       100|    0.85|\n|  335991|         2|        84|    0.69|\n|  335992|         1|       162|    1.33|\n|  335992|         2|       156|    1.31|\n|  335993|         1|       137|    1.12|\n|  335993|         2|       131|    1.58|\n|  335994|         1|       190|     1.5|\n|  335994|         2|       189|    1.48|\n|  335995|         1|       208|    1.65|\n|  335995|         2|       210|    1.72|\n|  335996|         1|       175|    1.41|\n|  335996|         2|       109|    0.87|\n+--------+----------+----------+--------+\nonly showing top 20 rows\n\n"
     ]
    }
   ],
   "source": [
    "total_avg_runs.orderBy('match_id','innings_no').show()"
   ]
  },
  {
   "cell_type": "code",
   "execution_count": 0,
   "metadata": {
    "application/vnd.databricks.v1+cell": {
     "cellMetadata": {
      "byteLimit": 2048000,
      "rowLimit": 10000
     },
     "collapsed": true,
     "inputWidgets": {},
     "nuid": "1652e06b-dea4-4a16-88a4-1f37ba1325ee",
     "showTitle": false,
     "title": ""
    }
   },
   "outputs": [],
   "source": [
    "# Window Function: Calculate the total no.runs in each match over each over\n",
    "from pyspark.sql.window import *\n",
    "\n",
    "win=Window.partitionBy(\"match_id\",\"innings_no\").orderBy(\"over_id\")\n",
    "\n",
    "win_df=ball_cln_df.withColumn(\n",
    "    \"total runs per over\",\n",
    "    sum(\"runs_scored\").over(win)\n",
    ")"
   ]
  },
  {
   "cell_type": "code",
   "execution_count": 0,
   "metadata": {
    "application/vnd.databricks.v1+cell": {
     "cellMetadata": {
      "byteLimit": 2048000,
      "rowLimit": 10000
     },
     "collapsed": true,
     "inputWidgets": {},
     "nuid": "dcb4d72d-ed1f-4293-b742-6ca8b54da4e3",
     "showTitle": false,
     "title": ""
    }
   },
   "outputs": [
    {
     "output_type": "stream",
     "name": "stdout",
     "output_type": "stream",
     "text": [
      "+--------+-------+-------+----------+------------+------------+------------------------+----------+-----------+----------+-----+-------+-------+-------------+--------------+----------+-------------+----------+------+-------+-----------+------+----------+--------+------------+-------------------+\n|match_id|over_id|ball_id|innings_no|team_batting|team_bowling|striker_batting_position|extra_type|runs_scored|extra_runs|wides|noballs|penalty|bowler_extras|      out_type|hit_wicket|bowler_wicket|match_date|season|striker|non_striker|bowler|player_out|fielders|keeper_catch|total runs per over|\n+--------+-------+-------+----------+------------+------------+------------------------+----------+-----------+----------+-----+-------+-------+-------------+--------------+----------+-------------+----------+------+-------+-----------+------+----------+--------+------------+-------------------+\n|  335987|      1|      1|         1|           1|           2|                       1|   legbyes|          0|         1|    0|      0|      0|            0|Not Applicable|      null|         null|      null|  2008|      1|          2|    14|      null|    null|        null|                  0|\n|  335987|      1|      2|         1|           1|           2|                       2| no extras|          0|         0|    0|      0|      0|            0|Not Applicable|      null|         null|      null|  2008|      2|          1|    14|      null|    null|        null|                  0|\n|  335987|      1|      3|         1|           1|           2|                       2|     wides|          0|         1|    1|      0|      0|            1|Not Applicable|      null|         null|      null|  2008|      2|          1|    14|      null|    null|        null|                  0|\n|  335987|      1|      4|         1|           1|           2|                       2| no extras|          0|         0|    0|      0|      0|            0|Not Applicable|      null|         null|      null|  2008|      2|          1|    14|      null|    null|        null|                  0|\n|  335987|      1|      5|         1|           1|           2|                       2| no extras|          0|         0|    0|      0|      0|            0|Not Applicable|      null|         null|      null|  2008|      2|          1|    14|      null|    null|        null|                  0|\n|  335987|      1|      6|         1|           1|           2|                       2| no extras|          0|         0|    0|      0|      0|            0|Not Applicable|      null|         null|      null|  2008|      2|          1|    14|      null|    null|        null|                  0|\n|  335987|      1|      7|         1|           1|           2|                       2|   legbyes|          0|         1|    0|      0|      0|            0|Not Applicable|      null|         null|      null|  2008|      2|          1|    14|      null|    null|        null|                  0|\n|  335987|      2|      1|         1|           1|           2|                       2| no extras|          0|         0|    0|      0|      0|            0|Not Applicable|      null|         null|      null|  2008|      2|          1|    15|      null|    null|        null|                 18|\n|  335987|      2|      2|         1|           1|           2|                       2| no extras|          4|         0|    0|      0|      0|            0|Not Applicable|      null|         null|      null|  2008|      2|          1|    15|      null|    null|        null|                 18|\n|  335987|      2|      3|         1|           1|           2|                       2| no extras|          4|         0|    0|      0|      0|            0|Not Applicable|      null|         null|      null|  2008|      2|          1|    15|      null|    null|        null|                 18|\n|  335987|      2|      4|         1|           1|           2|                       2| no extras|          6|         0|    0|      0|      0|            0|Not Applicable|      null|         null|      null|  2008|      2|          1|    15|      null|    null|        null|                 18|\n|  335987|      2|      5|         1|           1|           2|                       2| no extras|          4|         0|    0|      0|      0|            0|Not Applicable|      null|         null|      null|  2008|      2|          1|    15|      null|    null|        null|                 18|\n|  335987|      2|      6|         1|           1|           2|                       2| no extras|          0|         0|    0|      0|      0|            0|Not Applicable|      null|         null|      null|  2008|      2|          1|    15|      null|    null|        null|                 18|\n|  335987|      3|      1|         1|           1|           2|                       1| no extras|          0|         0|    0|      0|      0|            0|Not Applicable|      null|         null|      null|  2008|      1|          2|    14|      null|    null|        null|                 23|\n|  335987|      3|      2|         1|           1|           2|                       1| no extras|          0|         0|    0|      0|      0|            0|Not Applicable|      null|         null|      null|  2008|      1|          2|    14|      null|    null|        null|                 23|\n|  335987|      3|      3|         1|           1|           2|                       1|   legbyes|          0|         1|    0|      0|      0|            0|Not Applicable|      null|         null|      null|  2008|      1|          2|    14|      null|    null|        null|                 23|\n|  335987|      3|      4|         1|           1|           2|                       2| no extras|          4|         0|    0|      0|      0|            0|Not Applicable|      null|         null|      null|  2008|      2|          1|    14|      null|    null|        null|                 23|\n|  335987|      3|      5|         1|           1|           2|                       2| no extras|          1|         0|    0|      0|      0|            0|Not Applicable|      null|         null|      null|  2008|      2|          1|    14|      null|    null|        null|                 23|\n|  335987|      3|      6|         1|           1|           2|                       1| no extras|          0|         0|    0|      0|      0|            0|Not Applicable|      null|         null|      null|  2008|      1|          2|    14|      null|    null|        null|                 23|\n|  335987|      4|      1|         1|           1|           2|                       2|     wides|          0|         5|    5|      0|      0|            5|Not Applicable|      null|         null|      null|  2008|      2|          1|    13|      null|    null|        null|                 40|\n+--------+-------+-------+----------+------------+------------+------------------------+----------+-----------+----------+-----+-------+-------+-------------+--------------+----------+-------------+----------+------+-------+-----------+------+----------+--------+------------+-------------------+\nonly showing top 20 rows\n\n"
     ]
    }
   ],
   "source": [
    "win_df.show()"
   ]
  },
  {
   "cell_type": "code",
   "execution_count": 0,
   "metadata": {
    "application/vnd.databricks.v1+cell": {
     "cellMetadata": {
      "byteLimit": 2048000,
      "rowLimit": 10000
     },
     "collapsed": true,
     "inputWidgets": {},
     "nuid": "7dec25e6-8622-4a67-889c-7441bb9ee170",
     "showTitle": false,
     "title": ""
    }
   },
   "outputs": [
    {
     "output_type": "stream",
     "name": "stdout",
     "output_type": "stream",
     "text": [
      "+--------+-------+-------+----------+------------+------------+------------------------+----------+-----------+----------+-----+-------+-------+-------------+--------------+----------+-------------+----------+------+-------+-----------+------+----------+--------+------------+-----------+\n|match_id|over_id|ball_id|innings_no|team_batting|team_bowling|striker_batting_position|extra_type|runs_scored|extra_runs|wides|noballs|penalty|bowler_extras|      out_type|hit_wicket|bowler_wicket|match_date|season|striker|non_striker|bowler|player_out|fielders|keeper_catch|high_impact|\n+--------+-------+-------+----------+------------+------------+------------------------+----------+-----------+----------+-----+-------+-------+-------------+--------------+----------+-------------+----------+------+-------+-----------+------+----------+--------+------------+-----------+\n|  598028|     15|      6|         1|           5|           2|                       6| no extras|          4|         0|    0|      0|      0|            0|Not Applicable|      null|         null|      null|  2013|    277|        104|    83|      null|    null|        null|      false|\n|  598028|     14|      1|         1|           5|           2|                       5| no extras|          1|         0|    0|      0|      0|            0|Not Applicable|      null|         null|      null|  2013|    104|          6|   346|      null|    null|        null|      false|\n|  598028|     14|      2|         1|           5|           2|                       3| no extras|          1|         0|    0|      0|      0|            0|Not Applicable|      null|         null|      null|  2013|      6|        104|   346|      null|    null|        null|      false|\n|  598028|     14|      3|         1|           5|           2|                       5| no extras|          1|         0|    0|      0|      0|            0|Not Applicable|      null|         null|      null|  2013|    104|          6|   346|      null|    null|        null|      false|\n|  598028|     14|      4|         1|           5|           2|                       3| no extras|          0|         0|    0|      0|      0|            0|Not Applicable|      null|         null|      null|  2013|      6|        104|   346|      null|    null|        null|      false|\n|  598028|     14|      5|         1|           5|           2|                       3| no extras|          4|         0|    0|      0|      0|            0|Not Applicable|      null|         null|      null|  2013|      6|        104|   346|      null|    null|        null|      false|\n|  598028|     14|      6|         1|           5|           2|                       3| no extras|          2|         0|    0|      0|      0|            0|Not Applicable|      null|         null|      null|  2013|      6|        104|   346|      null|    null|        null|      false|\n|  598028|     13|      1|         1|           5|           2|                       5| no extras|          1|         0|    0|      0|      0|            0|Not Applicable|      null|         null|      null|  2013|    104|          6|    83|      null|    null|        null|      false|\n|  598028|     13|      2|         1|           5|           2|                       3| no extras|          4|         0|    0|      0|      0|            0|Not Applicable|      null|         null|      null|  2013|      6|        104|    83|      null|    null|        null|      false|\n|  598028|     13|      3|         1|           5|           2|                       3| no extras|          1|         0|    0|      0|      0|            0|Not Applicable|      null|         null|      null|  2013|      6|        104|    83|      null|    null|        null|      false|\n|  598028|     13|      4|         1|           5|           2|                       5| no extras|          0|         0|    0|      0|      0|            0|Not Applicable|      null|         null|      null|  2013|    104|          6|    83|      null|    null|        null|      false|\n|  598028|     13|      5|         1|           5|           2|                       5| no extras|          0|         0|    0|      0|      0|            0|Not Applicable|      null|         null|      null|  2013|    104|          6|    83|      null|    null|        null|      false|\n|  598028|     13|      6|         1|           5|           2|                       5| no extras|          1|         0|    0|      0|      0|            0|Not Applicable|      null|         null|      null|  2013|    104|          6|    83|      null|    null|        null|      false|\n|  598028|     12|      1|         1|           5|           2|                       3| no extras|          1|         0|    0|      0|      0|            0|Not Applicable|      null|         null|      null|  2013|      6|        104|   346|      null|    null|        null|      false|\n|  598028|     12|      2|         1|           5|           2|                       5| no extras|          0|         0|    0|      0|      0|            0|Not Applicable|      null|         null|      null|  2013|    104|          6|   346|      null|    null|        null|      false|\n|  598028|     12|      3|         1|           5|           2|                       5| no extras|          1|         0|    0|      0|      0|            0|Not Applicable|      null|         null|      null|  2013|    104|          6|   346|      null|    null|        null|      false|\n|  598028|     12|      4|         1|           5|           2|                       3| no extras|          1|         0|    0|      0|      0|            0|Not Applicable|      null|         null|      null|  2013|      6|        104|   346|      null|    null|        null|      false|\n|  598028|     12|      5|         1|           5|           2|                       5| no extras|          0|         0|    0|      0|      0|            0|Not Applicable|      null|         null|      null|  2013|    104|          6|   346|      null|    null|        null|      false|\n|  598028|     12|      6|         1|           5|           2|                       5| no extras|          1|         0|    0|      0|      0|            0|Not Applicable|      null|         null|      null|  2013|    104|          6|   346|      null|    null|        null|      false|\n|  598028|     11|      1|         1|           5|           2|                       5| no extras|          0|         0|    0|      0|      0|            0|Not Applicable|      null|         null|      null|  2013|    104|          6|    83|      null|    null|        null|      false|\n+--------+-------+-------+----------+------------+------------+------------------------+----------+-----------+----------+-----+-------+-------+-------------+--------------+----------+-------------+----------+------+-------+-----------+------+----------+--------+------------+-----------+\nonly showing top 20 rows\n\n"
     ]
    }
   ],
   "source": [
    "# Conditional Column: Flag for high impact balls (either a wicket or more than 6 runs including extras)\n",
    "ball_cln_df.withColumn(\n",
    "    \"high_impact\",\n",
    "    when((col(\"runs_scored\") + col(\"extra_runs\") > 6) | (col(\"bowler_wicket\") == True), True).otherwise(False)\n",
    ").show()"
   ]
  },
  {
   "cell_type": "code",
   "execution_count": 0,
   "metadata": {
    "application/vnd.databricks.v1+cell": {
     "cellMetadata": {
      "byteLimit": 2048000,
      "rowLimit": 10000
     },
     "inputWidgets": {},
     "nuid": "fbf1694b-8912-422a-8d1c-6c87d32414d9",
     "showTitle": false,
     "title": ""
    }
   },
   "outputs": [],
   "source": [
    "from pyspark.sql.functions import year, month, dayofmonth, when\n",
    "\n",
    "# Extracting year, month, and day from the match date for more detailed time-based analysis\n",
    "match_df = match_df.withColumn(\"year\", year(\"match_date\"))\n",
    "match_df = match_df.withColumn(\"month\", month(\"match_date\"))\n",
    "match_df = match_df.withColumn(\"day\", dayofmonth(\"match_date\"))\n",
    "\n"
   ]
  },
  {
   "cell_type": "code",
   "execution_count": 0,
   "metadata": {
    "application/vnd.databricks.v1+cell": {
     "cellMetadata": {
      "byteLimit": 2048000,
      "rowLimit": 10000
     },
     "inputWidgets": {},
     "nuid": "a5431132-1ed8-474a-be02-06f69427e541",
     "showTitle": false,
     "title": ""
    }
   },
   "outputs": [
    {
     "output_type": "stream",
     "name": "stdout",
     "output_type": "stream",
     "text": [
      "root\n |-- match_sk: integer (nullable = true)\n |-- match_id: integer (nullable = true)\n |-- team1: string (nullable = true)\n |-- team2: string (nullable = true)\n |-- match_date: date (nullable = true)\n |-- season_year: integer (nullable = true)\n |-- venue_name: string (nullable = true)\n |-- city_name: string (nullable = true)\n |-- country_name: string (nullable = true)\n |-- toss_winner: string (nullable = true)\n |-- match_winner: string (nullable = true)\n |-- toss_name: string (nullable = true)\n |-- win_type: string (nullable = true)\n |-- outcome_type: string (nullable = true)\n |-- manofmach: string (nullable = true)\n |-- win_margin: integer (nullable = true)\n |-- country_id: integer (nullable = true)\n |-- year: integer (nullable = true)\n |-- month: integer (nullable = true)\n |-- day: integer (nullable = true)\n\n"
     ]
    }
   ],
   "source": [
    "match_df.printSchema()"
   ]
  },
  {
   "cell_type": "code",
   "execution_count": 0,
   "metadata": {
    "application/vnd.databricks.v1+cell": {
     "cellMetadata": {
      "byteLimit": 2048000,
      "rowLimit": 10000
     },
     "inputWidgets": {},
     "nuid": "45aadcee-66c5-4631-a7c7-724c388e5d60",
     "showTitle": false,
     "title": ""
    }
   },
   "outputs": [],
   "source": [
    "man_of_match_tbl=match_df.select('match_id','manofmach').groupBy('manofmach').agg(count('manofmach').alias('count')).orderBy(desc('count'))"
   ]
  },
  {
   "cell_type": "code",
   "execution_count": 0,
   "metadata": {
    "application/vnd.databricks.v1+cell": {
     "cellMetadata": {
      "byteLimit": 2048000,
      "rowLimit": 10000
     },
     "inputWidgets": {},
     "nuid": "3cc0d525-f17c-4ce9-94ec-93adec3ac9ba",
     "showTitle": false,
     "title": ""
    }
   },
   "outputs": [
    {
     "output_type": "stream",
     "name": "stdout",
     "output_type": "stream",
     "text": [
      "+-----------------+-----+\n|manofmach        |count|\n+-----------------+-----+\n|CH Gayle         |18   |\n|YK Pathan        |16   |\n|AB de Villiers   |15   |\n|DA Warner        |15   |\n|RG Sharma        |14   |\n|SK Raina         |14   |\n|G Gambhir        |13   |\n|MS Dhoni         |13   |\n|AM Rahane        |12   |\n|MEK Hussey       |12   |\n|DR Smith         |11   |\n|V Sehwag         |11   |\n|V Kohli          |11   |\n|JH Kallis        |10   |\n|SR Watson        |10   |\n|KA Pollard       |9    |\n|A Mishra         |9    |\n|SE Marsh         |9    |\n|SR Tendulkar     |8    |\n|RV Uthappa       |7    |\n|RA Jadeja        |7    |\n|AC Gilchrist     |7    |\n|AT Rayudu        |7    |\n|M Vijay          |6    |\n|UT Yadav         |6    |\n|AD Russell       |6    |\n|Harbhajan Singh  |6    |\n|A Nehra          |6    |\n|BJ Hodge         |6    |\n|KC Sangakkara    |5    |\n|B Kumar          |5    |\n|SP Narine        |5    |\n|DPMD Jayawardene |5    |\n|SL Malinga       |5    |\n|GJ Maxwell       |5    |\n|Yuvraj Singh     |5    |\n|BB McCullum      |5    |\n|AJ Finch         |5    |\n|Sandeep Sharma   |5    |\n|JP Faulkner      |5    |\n|DW Steyn         |5    |\n|SC Ganguly       |5    |\n|AR Patel         |4    |\n|NM Coulter-Nile  |4    |\n|JD Unadkat       |4    |\n|KH Pandya        |4    |\n|MK Pandey        |4    |\n|KD Karthik       |4    |\n|ML Hayden        |4    |\n|SPD Smith        |4    |\n|SK Warne         |4    |\n|JP Duminy        |4    |\n|PA Patel         |4    |\n|SV Samson        |3    |\n|M Vohra          |3    |\n|BA Stokes        |3    |\n|A Kumble         |3    |\n|R Vinay Kumar    |3    |\n|LRPL Taylor      |3    |\n|LMP Simmons      |3    |\n|KP Pietersen     |3    |\n|L Balaji         |3    |\n|MK Tiwary        |3    |\n|DA Miller        |3    |\n|Mandeep Singh    |3    |\n|A Symonds        |3    |\n|KK Nair          |3    |\n|PP Chawla        |3    |\n|NULL             |3    |\n|CJ Anderson      |3    |\n|WP Saha          |3    |\n|M Muralitharan   |2    |\n|B Lee            |2    |\n|SK Trivedi       |2    |\n|MP Stoinis       |2    |\n|N Rana           |2    |\n|HH Pandya        |2    |\n|SS Iyer          |2    |\n|S Dhawan         |2    |\n|R Dravid         |2    |\n|Rashid Khan      |2    |\n|AB Dinda         |2    |\n|M Ntini          |2    |\n|PC Valthaty      |2    |\n|GC Smith         |2    |\n|Shakib Al Hasan  |2    |\n|DE Bollinger     |2    |\n|AJ Tye           |2    |\n|M Morkel         |2    |\n|R Sharma         |2    |\n|DJ Bravo         |2    |\n|RR Pant          |2    |\n|DJ Hussey        |2    |\n|I Sharma         |2    |\n|MC Henriques     |2    |\n|Sohail Tanvir    |2    |\n|Harmeet Singh    |2    |\n|Azhar Mahmood    |2    |\n|GH Vihari        |2    |\n|BW Hilfenhaus    |2    |\n|MM Sharma        |2    |\n|MJ McClenaghan   |2    |\n|SM Pollock       |2    |\n|Iqbal Abdulla    |2    |\n|IK Pathan        |2    |\n|P Negi           |2    |\n|KM Jadhav        |2    |\n|F du Plessis     |2    |\n|JA Morkel        |2    |\n|ST Jayasuriya    |2    |\n|CH Morris        |2    |\n|CA Lynn          |2    |\n|P Kumar          |2    |\n|MM Patel         |2    |\n|PV Tambe         |2    |\n|HM Amla          |2    |\n|MV Boucher       |2    |\n|MG Johnson       |2    |\n|TM Dilshan       |1    |\n|S Anirudha       |1    |\n|J Botha          |1    |\n|SA Yadav         |1    |\n|HV Patel         |1    |\n|S Badrinath      |1    |\n|A Singh          |1    |\n|R McLaren        |1    |\n|CR Brathwaite    |1    |\n|R Ashwin         |1    |\n|Mohammed Siraj   |1    |\n|MS Gony          |1    |\n|P Parameswaran   |1    |\n|A Chandila       |1    |\n|BCJ Cutting      |1    |\n|MF Maharoof      |1    |\n|SA Asnodkar      |1    |\n|S Aravind        |1    |\n|MS Bisla         |1    |\n|AD Mascarenhas   |1    |\n|NA               |1    |\n|DJG Sammy        |1    |\n|KMDN Kulasekara  |1    |\n|KV Sharma        |1    |\n|J Theron         |1    |\n|NV Ojha          |1    |\n|LJ Wright        |1    |\n|GJ Bailey        |1    |\n|MA Starc         |1    |\n|GD McGrath       |1    |\n|R Bhatia         |1    |\n|JC Buttler       |1    |\n|MA Agarwal       |1    |\n|JJ Bumrah        |1    |\n|YS Chahal        |1    |\n|LR Shukla        |1    |\n|PD Collingwood   |1    |\n|A Zampa          |1    |\n|S Sreesanth      |1    |\n|CL White         |1    |\n|LH Ferguson      |1    |\n|S Sohal          |1    |\n|Narine           |1    |\n|DP Nannes        |1    |\n|Mohammed Shami   |1    |\n|SB Jakati        |1    |\n|S Nadeem         |1    |\n|Umar Gul         |1    |\n|TL Suman         |1    |\n|MR Marsh         |1    |\n|BA Bhatt         |1    |\n|AP Tare          |1    |\n|VR Aaron         |1    |\n|RS Bopara        |1    |\n|PP Ojha          |1    |\n|CRD Fernando     |1    |\n|AD Mathews       |1    |\n|MJ Lumb          |1    |\n|SP Goswami       |1    |\n|RP Singh         |1    |\n|HH Gibbs         |1    |\n|AA Jhunjhunwala  |1    |\n|M Kartik         |1    |\n|JD Ryder         |1    |\n|RE Levi          |1    |\n|MN Samuels       |1    |\n|DJ Hooda         |1    |\n|KK Cooper        |1    |\n|JEC Franklin     |1    |\n|TA Boult         |1    |\n|Q de Kock        |1    |\n|WPUJC Vaas       |1    |\n|DL Vettori       |1    |\n|EJG Morgan       |1    |\n|KS Williamson    |1    |\n|JDP Oram         |1    |\n|SB Wagh          |1    |\n|Wasington Sundar |1    |\n|RJ Harris        |1    |\n|MD Mishra        |1    |\n|AC Voges         |1    |\n|Mustafizur Rahman|1    |\n|SM Katich        |1    |\n|Shoaib Akhtar    |1    |\n|Z Khan           |1    |\n|RA Tripathi      |1    |\n+-----------------+-----+\n\n"
     ]
    }
   ],
   "source": [
    "man_of_match_tbl.show(man_of_match_tbl.count(),truncate=False)"
   ]
  },
  {
   "cell_type": "code",
   "execution_count": 0,
   "metadata": {
    "application/vnd.databricks.v1+cell": {
     "cellMetadata": {
      "byteLimit": 2048000,
      "rowLimit": 10000
     },
     "collapsed": true,
     "inputWidgets": {},
     "nuid": "957d78ca-4884-41c1-b7e5-3b382eedbc3b",
     "showTitle": false,
     "title": ""
    }
   },
   "outputs": [],
   "source": [
    "# to get the remaining values as well we use window func\n",
    "\n",
    "match_window=Window.partitionBy('manofmach')\n",
    "\n",
    "match_win_df=match_df.withColumn('Count of manofmach', count('manofmach').over(match_window))\n",
    "\n"
   ]
  },
  {
   "cell_type": "code",
   "execution_count": 0,
   "metadata": {
    "application/vnd.databricks.v1+cell": {
     "cellMetadata": {
      "byteLimit": 2048000,
      "rowLimit": 10000
     },
     "inputWidgets": {},
     "nuid": "c723855e-2086-4e80-b208-555f2351753d",
     "showTitle": false,
     "title": ""
    }
   },
   "outputs": [
    {
     "output_type": "stream",
     "name": "stdout",
     "output_type": "stream",
     "text": [
      "+---------+------------------+\n|manofmach|count of manofmach|\n+---------+------------------+\n| CH Gayle|                18|\n| CH Gayle|                18|\n| CH Gayle|                18|\n| CH Gayle|                18|\n| CH Gayle|                18|\n| CH Gayle|                18|\n| CH Gayle|                18|\n| CH Gayle|                18|\n| CH Gayle|                18|\n| CH Gayle|                18|\n| CH Gayle|                18|\n| CH Gayle|                18|\n| CH Gayle|                18|\n| CH Gayle|                18|\n| CH Gayle|                18|\n| CH Gayle|                18|\n| CH Gayle|                18|\n| CH Gayle|                18|\n|YK Pathan|                16|\n|YK Pathan|                16|\n+---------+------------------+\nonly showing top 20 rows\n\n"
     ]
    }
   ],
   "source": [
    "match_win_df.select('manofmach','count of manofmach').orderBy(desc('count of manofmach')).show()"
   ]
  },
  {
   "cell_type": "code",
   "execution_count": 0,
   "metadata": {
    "application/vnd.databricks.v1+cell": {
     "cellMetadata": {
      "byteLimit": 2048000,
      "rowLimit": 10000
     },
     "inputWidgets": {},
     "nuid": "e7208e71-da3f-4545-a66e-bd0690d34201",
     "showTitle": false,
     "title": ""
    }
   },
   "outputs": [
    {
     "output_type": "stream",
     "name": "stdout",
     "output_type": "stream",
     "text": [
      "+---------------------------+-----+\n|match_winner               |count|\n+---------------------------+-----+\n|Mumbai Indians             |91   |\n|Chennai Super Kings        |79   |\n|Kolkata Knight Riders      |77   |\n|Royal Challengers Bangalore|73   |\n|Kings XI Punjab            |70   |\n|Rajasthan Royals           |63   |\n|Delhi Daredevils           |62   |\n|Sunrisers Hyderabad        |42   |\n|Deccan Chargers            |29   |\n|Rising Pune Supergiants    |15   |\n|Gujarat Lions              |13   |\n|Pune Warriors              |12   |\n|Kochi Tuskers Kerala       |6    |\n|NULL                       |3    |\n|tied                       |1    |\n|abandoned                  |1    |\n+---------------------------+-----+\n\n"
     ]
    }
   ],
   "source": [
    "# find which team won more matches\n",
    "\n",
    "match_win_df.groupBy('match_winner').agg(count('match_winner').alias('count')).orderBy(desc('count')).show(truncate=False)"
   ]
  },
  {
   "cell_type": "code",
   "execution_count": 0,
   "metadata": {
    "application/vnd.databricks.v1+cell": {
     "cellMetadata": {
      "byteLimit": 2048000,
      "rowLimit": 10000
     },
     "collapsed": true,
     "inputWidgets": {},
     "nuid": "c510d705-0cf7-4928-b1be-bbfde0ea797c",
     "showTitle": false,
     "title": ""
    }
   },
   "outputs": [
    {
     "output_type": "stream",
     "name": "stdout",
     "output_type": "stream",
     "text": [
      "+--------+--------+--------------------+--------------------+----------+-----------+--------------------+---------+------------+--------------------+--------------------+---------+--------+------------+-----------+----------+----------+----+-----+---+-----------------+-------------------+\n|match_sk|match_id|               team1|               team2|match_date|season_year|          venue_name|city_name|country_name|         toss_winner|        match_winner|toss_name|win_type|outcome_type|  manofmach|win_margin|country_id|year|month|day|toss_match_winner|win_margin_category|\n+--------+--------+--------------------+--------------------+----------+-----------+--------------------+---------+------------+--------------------+--------------------+---------+--------+------------+-----------+----------+----------+----+-----+---+-----------------+-------------------+\n|       0|  335987|Royal Challengers...|Kolkata Knight Ri...|2008-04-18|       2008|M Chinnaswamy Sta...|Bangalore|       India|Royal Challengers...|Kolkata Knight Ri...|    field|    runs|      Result|BB McCullum|       140|         1|2008|    4| 18|               No|               High|\n+--------+--------+--------------------+--------------------+----------+-----------+--------------------+---------+------------+--------------------+--------------------+---------+--------+------------+-----------+----------+----------+----+-----+---+-----------------+-------------------+\nonly showing top 1 row\n\n"
     ]
    }
   ],
   "source": [
    "# High margin win: categorizing win margins into 'high', 'medium', and 'low'\n",
    "match_df.withColumn(\n",
    "    \"win_margin_category\",\n",
    "    when(col(\"win_margin\") >= 100, \"High\")\n",
    "    .when((col(\"win_margin\") >= 50) & (col(\"win_margin\") < 100), \"Medium\")\n",
    "    .otherwise(\"Low\")\n",
    ").show(1)\n",
    "\n",
    "\n"
   ]
  },
  {
   "cell_type": "code",
   "execution_count": 0,
   "metadata": {
    "application/vnd.databricks.v1+cell": {
     "cellMetadata": {
      "byteLimit": 2048000,
      "rowLimit": 10000
     },
     "inputWidgets": {},
     "nuid": "01abd96f-f23c-4dea-a6b4-66fc8723686c",
     "showTitle": false,
     "title": ""
    }
   },
   "outputs": [
    {
     "output_type": "stream",
     "name": "stdout",
     "output_type": "stream",
     "text": [
      "+--------+--------+--------------------+--------------------+----------+-----------+--------------------+----------+------------+--------------------+--------------------+---------+--------+------------+-----------+----------+----------+----+-----+---+-----------------+\n|match_sk|match_id|               team1|               team2|match_date|season_year|          venue_name| city_name|country_name|         toss_winner|        match_winner|toss_name|win_type|outcome_type|  manofmach|win_margin|country_id|year|month|day|toss_match_winner|\n+--------+--------+--------------------+--------------------+----------+-----------+--------------------+----------+------------+--------------------+--------------------+---------+--------+------------+-----------+----------+----------+----+-----+---+-----------------+\n|       0|  335987|Royal Challengers...|Kolkata Knight Ri...|2008-04-18|       2008|M Chinnaswamy Sta...| Bangalore|       India|Royal Challengers...|Kolkata Knight Ri...|    field|    runs|      Result|BB McCullum|       140|         1|2008|    4| 18|               No|\n|       1|  335988|     Kings XI Punjab| Chennai Super Kings|2008-04-19|       2008|Punjab Cricket As...|Chandigarh|       India| Chennai Super Kings| Chennai Super Kings|      bat|    runs|      Result| MEK Hussey|        33|         1|2008|    4| 19|              Yes|\n+--------+--------+--------------------+--------------------+----------+-----------+--------------------+----------+------------+--------------------+--------------------+---------+--------+------------+-----------+----------+----------+----+-----+---+-----------------+\nonly showing top 2 rows\n\n"
     ]
    }
   ],
   "source": [
    "# Analyze the impact of the toss: who wins the toss and the match\n",
    "match_df = match_df.withColumn(\n",
    "    \"toss_match_winner\",\n",
    "    when(col(\"toss_winner\") == col(\"match_winner\"), \"Yes\").otherwise(\"No\")\n",
    ")\n",
    "\n",
    "# Show the enhanced match DataFrame\n",
    "match_df.show(2)"
   ]
  },
  {
   "cell_type": "code",
   "execution_count": 0,
   "metadata": {
    "application/vnd.databricks.v1+cell": {
     "cellMetadata": {
      "byteLimit": 2048000,
      "rowLimit": 10000
     },
     "inputWidgets": {},
     "nuid": "452962ef-5008-4a8b-bdb1-4adc2b1c841b",
     "showTitle": false,
     "title": ""
    }
   },
   "outputs": [
    {
     "output_type": "stream",
     "name": "stdout",
     "output_type": "stream",
     "text": [
      "+---------+---------+-----------+----------+--------------+----------------+------------+-------------+\n|player_sk|player_id|player_name|       dob|  batting_hand|   bowling_skill|country_name|batting_style|\n+---------+---------+-----------+----------+--------------+----------------+------------+-------------+\n|        0|        1| sc ganguly|1972-07-08| Left-hand bat|Right-arm medium|       India| Right-Handed|\n|        1|        2|bb mccullum|1981-09-27|Right-hand bat|Right-arm medium| New Zealand| Right-Handed|\n+---------+---------+-----------+----------+--------------+----------------+------------+-------------+\nonly showing top 2 rows\n\n"
     ]
    }
   ],
   "source": [
    "from pyspark.sql.functions import lower, regexp_replace\n",
    "\n",
    "# Normalize and clean player names\n",
    "player_df = player_df.withColumn(\"player_name\", lower(regexp_replace(\"player_name\", \"[^a-zA-Z0-9 ]\", \"\")))\n",
    "\n",
    "# Handle missing values in 'batting_hand' and 'bowling_skill' with a default 'unknown'\n",
    "player_df = player_df.na.fill({\"batting_hand\": \"unknown\", \"bowling_skill\": \"unknown\"})\n",
    "\n",
    "# Categorizing players based on batting hand\n",
    "player_df = player_df.withColumn(\n",
    "    \"batting_style\",\n",
    "    when(col(\"batting_hand\").contains(\"left\"), \"Left-Handed\").otherwise(\"Right-Handed\")\n",
    ")\n",
    "\n",
    "# Show the modified player DataFrame\n",
    "player_df.show(2)"
   ]
  },
  {
   "cell_type": "code",
   "execution_count": 0,
   "metadata": {
    "application/vnd.databricks.v1+cell": {
     "cellMetadata": {
      "byteLimit": 2048000,
      "rowLimit": 10000
     },
     "inputWidgets": {},
     "nuid": "e2738b22-d847-4661-b208-6eb887d2a903",
     "showTitle": false,
     "title": ""
    }
   },
   "outputs": [],
   "source": [
    "player_match_df=player_match_df.drop(col('player_match_sk'),col('playermatch_id'),col('batting_status'),col('bowling_status'),col('playermatch_key'))"
   ]
  },
  {
   "cell_type": "code",
   "execution_count": 0,
   "metadata": {
    "application/vnd.databricks.v1+cell": {
     "cellMetadata": {
      "byteLimit": 2048000,
      "rowLimit": 10000
     },
     "inputWidgets": {},
     "nuid": "731d13f3-90c1-4613-a368-d07cfa713669",
     "showTitle": false,
     "title": ""
    }
   },
   "outputs": [
    {
     "output_type": "stream",
     "name": "stdout",
     "output_type": "stream",
     "text": [
      "+--------+---------+-----------+----------+--------------+------------------+------------+---------+--------------------+--------------------+-----------+----------------+---------------+------------------+--------------+---------------+-------------+--------------+\n|match_id|player_id|player_name|       dob|  batting_hand|     bowling_skill|country_name|role_desc|         player_team|        opposit_team|season_year|is_manofthematch|age_as_on_match|isplayers_team_won|player_captain|opposit_captain|player_keeper|opposit_keeper|\n+--------+---------+-----------+----------+--------------+------------------+------------+---------+--------------------+--------------------+-----------+----------------+---------------+------------------+--------------+---------------+-------------+--------------+\n|  335987|        6|   R Dravid|1973-01-11|Right-hand bat|Right-arm offbreak|       India|  Captain|Royal Challengers...|Kolkata Knight Ri...|       2008|           false|             35|             false|      R Dravid|     SC Ganguly|   MV Boucher|       WP Saha|\n+--------+---------+-----------+----------+--------------+------------------+------------+---------+--------------------+--------------------+-----------+----------------+---------------+------------------+--------------+---------------+-------------+--------------+\nonly showing top 1 row\n\n"
     ]
    }
   ],
   "source": [
    "player_match_df.show(1)"
   ]
  },
  {
   "cell_type": "code",
   "execution_count": 0,
   "metadata": {
    "application/vnd.databricks.v1+cell": {
     "cellMetadata": {
      "byteLimit": 2048000,
      "rowLimit": 10000
     },
     "inputWidgets": {},
     "nuid": "d5a8f8a5-7775-48c0-829e-9cd27a0ebb6e",
     "showTitle": false,
     "title": ""
    }
   },
   "outputs": [
    {
     "output_type": "stream",
     "name": "stdout",
     "output_type": "stream",
     "text": [
      "+--------+---------+---------------+----------+--------------+--------------------+------------+---------+--------------------+--------------------+-----------+----------------+---------------+------------------+--------------+---------------+-------------+--------------+--------------+\n|match_id|player_id|    player_name|       dob|  batting_hand|       bowling_skill|country_name|role_desc|         player_team|        opposit_team|season_year|is_manofthematch|age_as_on_match|isplayers_team_won|player_captain|opposit_captain|player_keeper|opposit_keeper|veteran_status|\n+--------+---------+---------------+----------+--------------+--------------------+------------+---------+--------------------+--------------------+-----------+----------------+---------------+------------------+--------------+---------------+-------------+--------------+--------------+\n|  335987|        6|       R Dravid|1973-01-11|Right-hand bat|  Right-arm offbreak|       India|  Captain|Royal Challengers...|Kolkata Knight Ri...|       2008|           false|             35|             false|      R Dravid|     SC Ganguly|   MV Boucher|       WP Saha|       Veteran|\n|  335987|        7|       W Jaffer|1978-02-16|Right-hand bat|  Right-arm offbreak|       India|   Player|Royal Challengers...|Kolkata Knight Ri...|       2008|           false|             30|             false|      R Dravid|     SC Ganguly|   MV Boucher|       WP Saha|   Non-Veteran|\n|  335987|        8|        V Kohli|1988-11-05|Right-hand bat|    Right-arm medium|       India|   Player|Royal Challengers...|Kolkata Knight Ri...|       2008|           false|             20|             false|      R Dravid|     SC Ganguly|   MV Boucher|       WP Saha|   Non-Veteran|\n|  335987|        9|      JH Kallis|1975-10-16|Right-hand bat|Right-arm fast-me...|South Africa|   Player|Royal Challengers...|Kolkata Knight Ri...|       2008|           false|             33|             false|      R Dravid|     SC Ganguly|   MV Boucher|       WP Saha|   Non-Veteran|\n|  335987|       10|       CL White|1983-08-18|Right-hand bat|     Legbreak googly|   Australia|   Player|Royal Challengers...|Kolkata Knight Ri...|       2008|           false|             25|             false|      R Dravid|     SC Ganguly|   MV Boucher|       WP Saha|   Non-Veteran|\n|  335987|       11|     MV Boucher|1976-12-03|Right-hand bat|    Right-arm medium|South Africa|   Keeper|Royal Challengers...|Kolkata Knight Ri...|       2008|           false|             32|             false|      R Dravid|     SC Ganguly|   MV Boucher|       WP Saha|   Non-Veteran|\n|  335987|       12|        B Akhil|1977-10-07|Right-hand bat|Right-arm medium-...|       India|   Player|Royal Challengers...|Kolkata Knight Ri...|       2008|           false|             31|             false|      R Dravid|     SC Ganguly|   MV Boucher|       WP Saha|   Non-Veteran|\n|  335987|       13|      AA Noffke|1977-04-30|Right-hand bat|Right-arm fast-me...|   Australia|   Player|Royal Challengers...|Kolkata Knight Ri...|       2008|           false|             31|             false|      R Dravid|     SC Ganguly|   MV Boucher|       WP Saha|   Non-Veteran|\n|  335987|       14|        P Kumar|1986-10-02|Right-hand bat|    Right-arm medium|       India|   Player|Royal Challengers...|Kolkata Knight Ri...|       2008|           false|             22|             false|      R Dravid|     SC Ganguly|   MV Boucher|       WP Saha|   Non-Veteran|\n|  335987|       15|         Z Khan|1978-10-07|Right-hand bat|Left-arm fast-medium|       India|   Player|Royal Challengers...|Kolkata Knight Ri...|       2008|           false|             30|             false|      R Dravid|     SC Ganguly|   MV Boucher|       WP Saha|   Non-Veteran|\n|  335987|       16|       SB Joshi|1970-06-06| Left-hand bat|Slow left-arm ort...|       India|   Player|Royal Challengers...|Kolkata Knight Ri...|       2008|           false|             38|             false|      R Dravid|     SC Ganguly|   MV Boucher|       WP Saha|       Veteran|\n|  335987|        1|     SC Ganguly|1972-07-08| Left-hand bat|    Right-arm medium|       India|  Captain|Kolkata Knight Ri...|Royal Challengers...|       2008|           false|             36|              true|    SC Ganguly|       R Dravid|      WP Saha|    MV Boucher|       Veteran|\n|  335987|        2|    BB McCullum|1981-09-27|Right-hand bat|    Right-arm medium| New Zealand|   Player|Kolkata Knight Ri...|Royal Challengers...|       2008|            true|             27|              true|    SC Ganguly|       R Dravid|      WP Saha|    MV Boucher|   Non-Veteran|\n|  335987|        3|     RT Ponting|1974-12-19|Right-hand bat|    Right-arm medium|   Australia|   Player|Kolkata Knight Ri...|Royal Challengers...|       2008|           false|             34|              true|    SC Ganguly|       R Dravid|      WP Saha|    MV Boucher|   Non-Veteran|\n|  335987|        4|      DJ Hussey|1977-07-15|Right-hand bat|  Right-arm offbreak|   Australia|   Player|Kolkata Knight Ri...|Royal Challengers...|       2008|           false|             31|              true|    SC Ganguly|       R Dravid|      WP Saha|    MV Boucher|   Non-Veteran|\n|  335987|        5|Mohammad Hafeez|1980-10-17|Right-hand bat|  Right-arm offbreak|    Pakistan|   Player|Kolkata Knight Ri...|Royal Challengers...|       2008|           false|             28|              true|    SC Ganguly|       R Dravid|      WP Saha|    MV Boucher|   Non-Veteran|\n|  335987|       62|        WP Saha|1984-10-24|Right-hand bat|                 N/A|       India|   Keeper|Kolkata Knight Ri...|Royal Challengers...|       2008|           false|             24|              true|    SC Ganguly|       R Dravid|      WP Saha|    MV Boucher|   Non-Veteran|\n|  335987|       63|      LR Shukla|1981-05-06|Right-hand bat|    Right-arm medium|       India|   Player|Kolkata Knight Ri...|Royal Challengers...|       2008|           false|             27|              true|    SC Ganguly|       R Dravid|      WP Saha|    MV Boucher|   Non-Veteran|\n|  335987|       82|     AB Agarkar|1977-12-04|Right-hand bat|      Right-arm fast|       India|   Player|Kolkata Knight Ri...|Royal Challengers...|       2008|           false|             31|              true|    SC Ganguly|       R Dravid|      WP Saha|    MV Boucher|   Non-Veteran|\n|  335987|       83|       M Kartik|1976-09-11| Left-hand bat|Slow left-arm ort...|       India|   Player|Kolkata Knight Ri...|Royal Challengers...|       2008|           false|             32|              true|    SC Ganguly|       R Dravid|      WP Saha|    MV Boucher|   Non-Veteran|\n+--------+---------+---------------+----------+--------------+--------------------+------------+---------+--------------------+--------------------+-----------+----------------+---------------+------------------+--------------+---------------+-------------+--------------+--------------+\nonly showing top 20 rows\n\n"
     ]
    }
   ],
   "source": [
    "from pyspark.sql.functions import col, when, current_date, expr\n",
    "\n",
    "# Add a 'veteran_status' column based on player age\n",
    "player_match_df.withColumn(\n",
    "    \"veteran_status\",\n",
    "    when(col(\"age_as_on_match\") >= 35, \"Veteran\").otherwise(\"Non-Veteran\")\n",
    ").show()\n",
    "\n",
    "\n"
   ]
  },
  {
   "cell_type": "code",
   "execution_count": 0,
   "metadata": {
    "application/vnd.databricks.v1+cell": {
     "cellMetadata": {
      "byteLimit": 2048000,
      "rowLimit": 10000
     },
     "inputWidgets": {},
     "nuid": "abd047b6-4a5f-4580-bb91-35fb94d72f9f",
     "showTitle": false,
     "title": ""
    }
   },
   "outputs": [
    {
     "output_type": "stream",
     "name": "stdout",
     "output_type": "stream",
     "text": [
      "+--------+---------+---------------+----------+--------------+--------------------+------------+---------+--------------------+--------------------+-----------+----------------+---------------+------------------+--------------+---------------+-------------+--------------+-----------------+\n|match_id|player_id|    player_name|       dob|  batting_hand|       bowling_skill|country_name|role_desc|         player_team|        opposit_team|season_year|is_manofthematch|age_as_on_match|isplayers_team_won|player_captain|opposit_captain|player_keeper|opposit_keeper|years_since_debut|\n+--------+---------+---------------+----------+--------------+--------------------+------------+---------+--------------------+--------------------+-----------+----------------+---------------+------------------+--------------+---------------+-------------+--------------+-----------------+\n|  335987|        6|       R Dravid|1973-01-11|Right-hand bat|  Right-arm offbreak|       India|  Captain|Royal Challengers...|Kolkata Knight Ri...|       2008|           false|             35|             false|      R Dravid|     SC Ganguly|   MV Boucher|       WP Saha|               16|\n|  335987|        7|       W Jaffer|1978-02-16|Right-hand bat|  Right-arm offbreak|       India|   Player|Royal Challengers...|Kolkata Knight Ri...|       2008|           false|             30|             false|      R Dravid|     SC Ganguly|   MV Boucher|       WP Saha|               16|\n|  335987|        8|        V Kohli|1988-11-05|Right-hand bat|    Right-arm medium|       India|   Player|Royal Challengers...|Kolkata Knight Ri...|       2008|           false|             20|             false|      R Dravid|     SC Ganguly|   MV Boucher|       WP Saha|               16|\n|  335987|        9|      JH Kallis|1975-10-16|Right-hand bat|Right-arm fast-me...|South Africa|   Player|Royal Challengers...|Kolkata Knight Ri...|       2008|           false|             33|             false|      R Dravid|     SC Ganguly|   MV Boucher|       WP Saha|               16|\n|  335987|       10|       CL White|1983-08-18|Right-hand bat|     Legbreak googly|   Australia|   Player|Royal Challengers...|Kolkata Knight Ri...|       2008|           false|             25|             false|      R Dravid|     SC Ganguly|   MV Boucher|       WP Saha|               16|\n|  335987|       11|     MV Boucher|1976-12-03|Right-hand bat|    Right-arm medium|South Africa|   Keeper|Royal Challengers...|Kolkata Knight Ri...|       2008|           false|             32|             false|      R Dravid|     SC Ganguly|   MV Boucher|       WP Saha|               16|\n|  335987|       12|        B Akhil|1977-10-07|Right-hand bat|Right-arm medium-...|       India|   Player|Royal Challengers...|Kolkata Knight Ri...|       2008|           false|             31|             false|      R Dravid|     SC Ganguly|   MV Boucher|       WP Saha|               16|\n|  335987|       13|      AA Noffke|1977-04-30|Right-hand bat|Right-arm fast-me...|   Australia|   Player|Royal Challengers...|Kolkata Knight Ri...|       2008|           false|             31|             false|      R Dravid|     SC Ganguly|   MV Boucher|       WP Saha|               16|\n|  335987|       14|        P Kumar|1986-10-02|Right-hand bat|    Right-arm medium|       India|   Player|Royal Challengers...|Kolkata Knight Ri...|       2008|           false|             22|             false|      R Dravid|     SC Ganguly|   MV Boucher|       WP Saha|               16|\n|  335987|       15|         Z Khan|1978-10-07|Right-hand bat|Left-arm fast-medium|       India|   Player|Royal Challengers...|Kolkata Knight Ri...|       2008|           false|             30|             false|      R Dravid|     SC Ganguly|   MV Boucher|       WP Saha|               16|\n|  335987|       16|       SB Joshi|1970-06-06| Left-hand bat|Slow left-arm ort...|       India|   Player|Royal Challengers...|Kolkata Knight Ri...|       2008|           false|             38|             false|      R Dravid|     SC Ganguly|   MV Boucher|       WP Saha|               16|\n|  335987|        1|     SC Ganguly|1972-07-08| Left-hand bat|    Right-arm medium|       India|  Captain|Kolkata Knight Ri...|Royal Challengers...|       2008|           false|             36|              true|    SC Ganguly|       R Dravid|      WP Saha|    MV Boucher|               16|\n|  335987|        2|    BB McCullum|1981-09-27|Right-hand bat|    Right-arm medium| New Zealand|   Player|Kolkata Knight Ri...|Royal Challengers...|       2008|            true|             27|              true|    SC Ganguly|       R Dravid|      WP Saha|    MV Boucher|               16|\n|  335987|        3|     RT Ponting|1974-12-19|Right-hand bat|    Right-arm medium|   Australia|   Player|Kolkata Knight Ri...|Royal Challengers...|       2008|           false|             34|              true|    SC Ganguly|       R Dravid|      WP Saha|    MV Boucher|               16|\n|  335987|        4|      DJ Hussey|1977-07-15|Right-hand bat|  Right-arm offbreak|   Australia|   Player|Kolkata Knight Ri...|Royal Challengers...|       2008|           false|             31|              true|    SC Ganguly|       R Dravid|      WP Saha|    MV Boucher|               16|\n|  335987|        5|Mohammad Hafeez|1980-10-17|Right-hand bat|  Right-arm offbreak|    Pakistan|   Player|Kolkata Knight Ri...|Royal Challengers...|       2008|           false|             28|              true|    SC Ganguly|       R Dravid|      WP Saha|    MV Boucher|               16|\n|  335987|       62|        WP Saha|1984-10-24|Right-hand bat|                 N/A|       India|   Keeper|Kolkata Knight Ri...|Royal Challengers...|       2008|           false|             24|              true|    SC Ganguly|       R Dravid|      WP Saha|    MV Boucher|               16|\n|  335987|       63|      LR Shukla|1981-05-06|Right-hand bat|    Right-arm medium|       India|   Player|Kolkata Knight Ri...|Royal Challengers...|       2008|           false|             27|              true|    SC Ganguly|       R Dravid|      WP Saha|    MV Boucher|               16|\n|  335987|       82|     AB Agarkar|1977-12-04|Right-hand bat|      Right-arm fast|       India|   Player|Kolkata Knight Ri...|Royal Challengers...|       2008|           false|             31|              true|    SC Ganguly|       R Dravid|      WP Saha|    MV Boucher|               16|\n|  335987|       83|       M Kartik|1976-09-11| Left-hand bat|Slow left-arm ort...|       India|   Player|Kolkata Knight Ri...|Royal Challengers...|       2008|           false|             32|              true|    SC Ganguly|       R Dravid|      WP Saha|    MV Boucher|               16|\n+--------+---------+---------------+----------+--------------+--------------------+------------+---------+--------------------+--------------------+-----------+----------------+---------------+------------------+--------------+---------------+-------------+--------------+-----------------+\nonly showing top 20 rows\n\n"
     ]
    }
   ],
   "source": [
    "# Dynamic column to calculate years since debut\n",
    "player_match_df.withColumn(\n",
    "    \"years_since_debut\",\n",
    "    (year(current_date()) - col(\"season_year\"))\n",
    ").show()"
   ]
  },
  {
   "cell_type": "code",
   "execution_count": 0,
   "metadata": {
    "application/vnd.databricks.v1+cell": {
     "cellMetadata": {
      "byteLimit": 2048000,
      "rowLimit": 10000
     },
     "inputWidgets": {},
     "nuid": "7d34db13-57f1-41ca-b4ee-3cdb1b07d55d",
     "showTitle": false,
     "title": ""
    }
   },
   "outputs": [],
   "source": [
    "win_df.createOrReplaceTempView(\"ball_by_ball\")\n",
    "match_win_df.createOrReplaceTempView(\"match\")\n",
    "player_df.createOrReplaceTempView(\"player\")\n",
    "player_match_df.createOrReplaceTempView(\"player_match\")\n",
    "team_df.createOrReplaceTempView(\"team\")"
   ]
  },
  {
   "cell_type": "markdown",
   "metadata": {
    "application/vnd.databricks.v1+cell": {
     "cellMetadata": {},
     "inputWidgets": {},
     "nuid": "dbfe4d9b-d32d-465e-8f9c-4a174ddc028e",
     "showTitle": false,
     "title": ""
    }
   },
   "source": [
    "Exploratory Data Analysis"
   ]
  },
  {
   "cell_type": "code",
   "execution_count": 0,
   "metadata": {
    "application/vnd.databricks.v1+cell": {
     "cellMetadata": {
      "byteLimit": 2048000,
      "rowLimit": 10000
     },
     "inputWidgets": {},
     "nuid": "efa3186e-03e2-4307-a530-c5bb5fbcf169",
     "showTitle": false,
     "title": ""
    }
   },
   "outputs": [
    {
     "output_type": "stream",
     "name": "stdout",
     "output_type": "stream",
     "text": [
      "+---------------------+-----+\n|out_type             |count|\n+---------------------+-----+\n|caught               |3678 |\n|bowled               |1382 |\n|run out              |755  |\n|Keeper Catch         |695  |\n|lbw                  |455  |\n|stumped              |243  |\n|caught and bowled    |211  |\n|hit wicket           |9    |\n|retired hurt         |9    |\n|obstructing the field|1    |\n+---------------------+-----+\n\n"
     ]
    }
   ],
   "source": [
    "new_ball_df.filter(col('out_type')!='Not Applicable').groupBy('out_type').agg(count('out_type').alias('count')).orderBy(desc('count')).show(truncate=False)"
   ]
  },
  {
   "cell_type": "markdown",
   "metadata": {
    "application/vnd.databricks.v1+cell": {
     "cellMetadata": {},
     "inputWidgets": {},
     "nuid": "341233c7-d70b-4874-8b4d-11e36bdcab18",
     "showTitle": false,
     "title": ""
    }
   },
   "source": [
    "The table provides insights into the various methods by which batsmen are dismissed in cricket, presenting \"caught\" as the most frequent dismissal type with 3678 occurrences, followed by \"bowled\" at 1382, and \"run out\" at 755, indicating the commonality of fielding and bowling-related dismissals. The presence of \"Keeper Catch\" (695) and \"stumped\" (243) emphasizes the crucial role of the wicketkeeper in securing dismissals, while \"lbw\" (455) highlights the effectiveness of bowling strategies aimed at hitting the stumps. Additionally, dismissals such as \"caught and bowled\" (211), \"hit wicket\" (9), and \"retired hurt\" (9) are relatively rare, underscoring the diversity of unusual events that can occur during a cricket match. The solitary instance of \"obstructing the field\" further emphasizes the infrequency of dismissals resulting from rule infractions. Overall, this data provides valuable insights into the distribution and diversity of dismissal types in cricket, shedding light on the various aspects of gameplay and skill execution involved in the sport.\n",
    "\n",
    "new_ball_df.filter(col('out_type')!='Not Applicable').groupBy('out_type').agg(count('out_type').alias('count')).orderBy(desc('count')).show(truncate=False)"
   ]
  },
  {
   "cell_type": "code",
   "execution_count": 0,
   "metadata": {
    "application/vnd.databricks.v1+cell": {
     "cellMetadata": {
      "byteLimit": 2048000,
      "rowLimit": 10000
     },
     "inputWidgets": {},
     "nuid": "96635691-4f95-4a14-8b48-cf5fa9dc6461",
     "showTitle": false,
     "title": ""
    }
   },
   "outputs": [
    {
     "output_type": "stream",
     "name": "stdout",
     "output_type": "stream",
     "text": [
      "+----------+-----+\n|extra_type|count|\n+----------+-----+\n|     wides| 4575|\n|   legbyes| 2590|\n|   noballs|  618|\n|      byes|  412|\n|   penalty|    1|\n+----------+-----+\n\n"
     ]
    }
   ],
   "source": [
    "ball_cln_df.filter(col('extra_type')!='no extras').groupBy('extra_type').agg(count('extra_type').alias('count')).orderBy(desc('count')).show()"
   ]
  },
  {
   "cell_type": "markdown",
   "metadata": {
    "application/vnd.databricks.v1+cell": {
     "cellMetadata": {},
     "inputWidgets": {},
     "nuid": "6947e14f-1851-4d07-91e6-c51a650e773c",
     "showTitle": false,
     "title": ""
    }
   },
   "source": [
    "The table presents the frequencies of different types of extras in cricket, indicating that \"wides\" are the most common type with 4575 occurrences, followed by \"legbyes\" at 2590, and \"noballs\" at 618, highlighting the frequency of bowling-related extras. Comparatively, \"byes\" (412) occur less frequently, indicating that runs scored due to the ball passing the batsman and wicketkeeper are less common than those caused by errors in line and length. The single instance of \"penalty\" underscores the rarity of rule infractions leading to penalty runs. This data provides valuable insights into the distribution of extra runs in cricket matches, highlighting the commonality of wides and legbyes while also emphasizing the infrequency of penalties.\n",
    "\n",
    "ball_cln_df.filter(col('extra_type')!='no extras').groupBy('extra_type').agg(count('extra_type').alias('count')).orderBy(desc('count')).show()"
   ]
  },
  {
   "cell_type": "code",
   "execution_count": 0,
   "metadata": {
    "application/vnd.databricks.v1+cell": {
     "cellMetadata": {
      "byteLimit": 2048000,
      "rowLimit": 10000
     },
     "inputWidgets": {},
     "nuid": "1217ce78-f47a-46bd-b5d7-81f218f286d9",
     "showTitle": false,
     "title": ""
    }
   },
   "outputs": [
    {
     "output_type": "stream",
     "name": "stdout",
     "output_type": "stream",
     "text": [
      "+-----------------+-----+\n|manofmach        |count|\n+-----------------+-----+\n|CH Gayle         |18   |\n|YK Pathan        |16   |\n|AB de Villiers   |15   |\n|DA Warner        |15   |\n|RG Sharma        |14   |\n|SK Raina         |14   |\n|G Gambhir        |13   |\n|MS Dhoni         |13   |\n|AM Rahane        |12   |\n|MEK Hussey       |12   |\n|DR Smith         |11   |\n|V Sehwag         |11   |\n|V Kohli          |11   |\n|JH Kallis        |10   |\n|SR Watson        |10   |\n|KA Pollard       |9    |\n|A Mishra         |9    |\n|SE Marsh         |9    |\n|SR Tendulkar     |8    |\n|RV Uthappa       |7    |\n|RA Jadeja        |7    |\n|AC Gilchrist     |7    |\n|AT Rayudu        |7    |\n|M Vijay          |6    |\n|UT Yadav         |6    |\n|AD Russell       |6    |\n|Harbhajan Singh  |6    |\n|A Nehra          |6    |\n|BJ Hodge         |6    |\n|KC Sangakkara    |5    |\n|B Kumar          |5    |\n|SP Narine        |5    |\n|DPMD Jayawardene |5    |\n|SL Malinga       |5    |\n|GJ Maxwell       |5    |\n|Yuvraj Singh     |5    |\n|BB McCullum      |5    |\n|AJ Finch         |5    |\n|Sandeep Sharma   |5    |\n|JP Faulkner      |5    |\n|DW Steyn         |5    |\n|SC Ganguly       |5    |\n|AR Patel         |4    |\n|NM Coulter-Nile  |4    |\n|JD Unadkat       |4    |\n|KH Pandya        |4    |\n|MK Pandey        |4    |\n|KD Karthik       |4    |\n|ML Hayden        |4    |\n|SPD Smith        |4    |\n|SK Warne         |4    |\n|JP Duminy        |4    |\n|PA Patel         |4    |\n|SV Samson        |3    |\n|M Vohra          |3    |\n|BA Stokes        |3    |\n|A Kumble         |3    |\n|R Vinay Kumar    |3    |\n|LRPL Taylor      |3    |\n|LMP Simmons      |3    |\n|KP Pietersen     |3    |\n|L Balaji         |3    |\n|MK Tiwary        |3    |\n|DA Miller        |3    |\n|Mandeep Singh    |3    |\n|A Symonds        |3    |\n|KK Nair          |3    |\n|PP Chawla        |3    |\n|NULL             |3    |\n|CJ Anderson      |3    |\n|WP Saha          |3    |\n|M Muralitharan   |2    |\n|B Lee            |2    |\n|SK Trivedi       |2    |\n|MP Stoinis       |2    |\n|N Rana           |2    |\n|HH Pandya        |2    |\n|SS Iyer          |2    |\n|S Dhawan         |2    |\n|R Dravid         |2    |\n|Rashid Khan      |2    |\n|AB Dinda         |2    |\n|M Ntini          |2    |\n|PC Valthaty      |2    |\n|GC Smith         |2    |\n|Shakib Al Hasan  |2    |\n|DE Bollinger     |2    |\n|AJ Tye           |2    |\n|M Morkel         |2    |\n|R Sharma         |2    |\n|DJ Bravo         |2    |\n|RR Pant          |2    |\n|DJ Hussey        |2    |\n|I Sharma         |2    |\n|MC Henriques     |2    |\n|Sohail Tanvir    |2    |\n|Harmeet Singh    |2    |\n|Azhar Mahmood    |2    |\n|GH Vihari        |2    |\n|BW Hilfenhaus    |2    |\n|MM Sharma        |2    |\n|MJ McClenaghan   |2    |\n|SM Pollock       |2    |\n|Iqbal Abdulla    |2    |\n|IK Pathan        |2    |\n|P Negi           |2    |\n|KM Jadhav        |2    |\n|F du Plessis     |2    |\n|JA Morkel        |2    |\n|ST Jayasuriya    |2    |\n|CH Morris        |2    |\n|CA Lynn          |2    |\n|P Kumar          |2    |\n|MM Patel         |2    |\n|PV Tambe         |2    |\n|HM Amla          |2    |\n|MV Boucher       |2    |\n|MG Johnson       |2    |\n|TM Dilshan       |1    |\n|S Anirudha       |1    |\n|J Botha          |1    |\n|SA Yadav         |1    |\n|HV Patel         |1    |\n|S Badrinath      |1    |\n|A Singh          |1    |\n|R McLaren        |1    |\n|CR Brathwaite    |1    |\n|R Ashwin         |1    |\n|Mohammed Siraj   |1    |\n|MS Gony          |1    |\n|P Parameswaran   |1    |\n|A Chandila       |1    |\n|BCJ Cutting      |1    |\n|MF Maharoof      |1    |\n|SA Asnodkar      |1    |\n|S Aravind        |1    |\n|MS Bisla         |1    |\n|AD Mascarenhas   |1    |\n|NA               |1    |\n|DJG Sammy        |1    |\n|KMDN Kulasekara  |1    |\n|KV Sharma        |1    |\n|J Theron         |1    |\n|NV Ojha          |1    |\n|LJ Wright        |1    |\n|GJ Bailey        |1    |\n|MA Starc         |1    |\n|GD McGrath       |1    |\n|R Bhatia         |1    |\n|JC Buttler       |1    |\n|MA Agarwal       |1    |\n|JJ Bumrah        |1    |\n|YS Chahal        |1    |\n|LR Shukla        |1    |\n|PD Collingwood   |1    |\n|A Zampa          |1    |\n|S Sreesanth      |1    |\n|CL White         |1    |\n|LH Ferguson      |1    |\n|S Sohal          |1    |\n|Narine           |1    |\n|DP Nannes        |1    |\n|Mohammed Shami   |1    |\n|SB Jakati        |1    |\n|S Nadeem         |1    |\n|Umar Gul         |1    |\n|TL Suman         |1    |\n|MR Marsh         |1    |\n|BA Bhatt         |1    |\n|AP Tare          |1    |\n|VR Aaron         |1    |\n|RS Bopara        |1    |\n|PP Ojha          |1    |\n|CRD Fernando     |1    |\n|AD Mathews       |1    |\n|MJ Lumb          |1    |\n|SP Goswami       |1    |\n|RP Singh         |1    |\n|HH Gibbs         |1    |\n|AA Jhunjhunwala  |1    |\n|M Kartik         |1    |\n|JD Ryder         |1    |\n|RE Levi          |1    |\n|MN Samuels       |1    |\n|DJ Hooda         |1    |\n|KK Cooper        |1    |\n|JEC Franklin     |1    |\n|TA Boult         |1    |\n|Q de Kock        |1    |\n|WPUJC Vaas       |1    |\n|DL Vettori       |1    |\n|EJG Morgan       |1    |\n|KS Williamson    |1    |\n|JDP Oram         |1    |\n|SB Wagh          |1    |\n|Wasington Sundar |1    |\n|RJ Harris        |1    |\n|MD Mishra        |1    |\n|AC Voges         |1    |\n|Mustafizur Rahman|1    |\n|SM Katich        |1    |\n|Shoaib Akhtar    |1    |\n|Z Khan           |1    |\n|RA Tripathi      |1    |\n+-----------------+-----+\n\n"
     ]
    }
   ],
   "source": [
    "man_of_match_tbl.show(man_of_match_tbl.count(),truncate=False)"
   ]
  },
  {
   "cell_type": "markdown",
   "metadata": {
    "application/vnd.databricks.v1+cell": {
     "cellMetadata": {},
     "inputWidgets": {},
     "nuid": "f2be7479-f21e-43d1-b82a-5ee311081d0f",
     "showTitle": false,
     "title": ""
    }
   },
   "source": [
    "The table presents the count of \"Man of the Match\" awards received by various players in the Indian Premier League (IPL), offering insights into the standout performers in the tournament. Notably, Chris Gayle leads the tally with 18 awards, followed closely by Yuvraj Singh, AB de Villiers, and David Warner with 15 each. This indicates their consistent contributions and match-winning performances for their respective teams over multiple seasons. Other notable players like Rohit Sharma, Suresh Raina, Gautam Gambhir, and MS Dhoni have also garnered significant recognition, showcasing their impact on the field. Additionally, the presence of players like Shane Watson, Virat Kohli, and Sunil Narine among the top performers highlights the all-round talent and versatility exhibited in the IPL. Overall, the table provides valuable insights into the individual contributions of players towards their team's success in the IPL tournament.\n",
    "\n"
   ]
  },
  {
   "cell_type": "code",
   "execution_count": 0,
   "metadata": {
    "application/vnd.databricks.v1+cell": {
     "cellMetadata": {
      "byteLimit": 2048000,
      "rowLimit": 10000
     },
     "inputWidgets": {},
     "nuid": "aecc74bc-5ef3-4ea3-ab1c-f9526dfde218",
     "showTitle": false,
     "title": ""
    }
   },
   "outputs": [
    {
     "output_type": "stream",
     "name": "stdout",
     "output_type": "stream",
     "text": [
      "+---------------------------+-----+\n|match_winner               |count|\n+---------------------------+-----+\n|Mumbai Indians             |91   |\n|Chennai Super Kings        |79   |\n|Kolkata Knight Riders      |77   |\n|Royal Challengers Bangalore|73   |\n|Kings XI Punjab            |70   |\n|Rajasthan Royals           |63   |\n|Delhi Daredevils           |62   |\n|Sunrisers Hyderabad        |42   |\n|Deccan Chargers            |29   |\n|Rising Pune Supergiants    |15   |\n|Gujarat Lions              |13   |\n|Pune Warriors              |12   |\n|Kochi Tuskers Kerala       |6    |\n|NULL                       |3    |\n|tied                       |1    |\n|abandoned                  |1    |\n+---------------------------+-----+\n\n"
     ]
    }
   ],
   "source": [
    "\n",
    "# find which team won more matches\n",
    "\n",
    "match_win_df.groupBy('match_winner').agg(count('match_winner').alias('count')).orderBy(desc('count')).show(truncate=False)"
   ]
  },
  {
   "cell_type": "markdown",
   "metadata": {
    "application/vnd.databricks.v1+cell": {
     "cellMetadata": {},
     "inputWidgets": {},
     "nuid": "b9c13847-9beb-43db-890c-2a17acd047fc",
     "showTitle": false,
     "title": ""
    }
   },
   "source": [
    "The table provides insights into the performance of various teams in the Indian Premier League (IPL), showcasing the number of matches won by each team. From the data, we observe that \"Mumbai Indians\" emerge as the most successful team with 91 wins, closely followed by \"Chennai Super Kings\" at 79 wins, and \"Kolkata Knight Riders\" with 77 wins. The distribution of wins among the teams underscores the competitiveness of the IPL, with several teams achieving notable success over the years. Additionally, the presence of teams like \"Deccan Chargers,\" \"Rising Pune Supergiants,\" \"Gujarat Lions,\" \"Pune Warriors,\" and \"Kochi Tuskers Kerala\" reflects the league's evolution and expansion over different seasons. The occurrences of \"NULL,\" \"tied,\" and \"abandoned\" entries suggest the presence of incomplete or inconclusive matches, highlighting the various outcomes and challenges inherent in professional cricket tournaments like the IPL.\n"
   ]
  },
  {
   "cell_type": "code",
   "execution_count": 0,
   "metadata": {
    "application/vnd.databricks.v1+cell": {
     "cellMetadata": {
      "byteLimit": 2048000,
      "rowLimit": 10000
     },
     "inputWidgets": {},
     "nuid": "7230574d-59c1-4ad9-a547-ebc8383dc56f",
     "showTitle": false,
     "title": ""
    }
   },
   "outputs": [
    {
     "output_type": "stream",
     "name": "stdout",
     "output_type": "stream",
     "text": [
      "+---------------------+-----+\n|out_type             |count|\n+---------------------+-----+\n|caught               |3678 |\n|bowled               |1382 |\n|run out              |755  |\n|Keeper Catch         |695  |\n|lbw                  |455  |\n|stumped              |243  |\n|caught and bowled    |211  |\n|hit wicket           |9    |\n|retired hurt         |9    |\n|obstructing the field|1    |\n+---------------------+-----+\n\n"
     ]
    }
   ],
   "source": [
    "new_ball_df.filter(col('out_type')!='Not Applicable').groupBy('out_type').agg(count('out_type').alias('count')).orderBy(desc('count')).show(truncate=False)"
   ]
  },
  {
   "cell_type": "markdown",
   "metadata": {
    "application/vnd.databricks.v1+cell": {
     "cellMetadata": {},
     "inputWidgets": {},
     "nuid": "470fc249-18e3-4125-8da3-2c0f46d49dfa",
     "showTitle": false,
     "title": ""
    }
   },
   "source": [
    "The table provides insights into the various methods by which batsmen are dismissed in cricket, presenting \"caught\" as the most frequent dismissal type with 3678 occurrences, followed by \"bowled\" at 1382, and \"run out\" at 755, indicating the commonality of fielding and bowling-related dismissals. The presence of \"Keeper Catch\" (695) and \"stumped\" (243) emphasizes the crucial role of the wicketkeeper in securing dismissals, while \"lbw\" (455) highlights the effectiveness of bowling strategies aimed at hitting the stumps. Additionally, dismissals such as \"caught and bowled\" (211), \"hit wicket\" (9), and \"retired hurt\" (9) are relatively rare, underscoring the diversity of unusual events that can occur during a cricket match. The solitary instance of \"obstructing the field\" further emphasizes the infrequency of dismissals resulting from rule infractions. Overall, this data provides valuable insights into the distribution and diversity of dismissal types in cricket, shedding light on the various aspects of gameplay and skill execution involved in the sport.\n",
    "\n"
   ]
  },
  {
   "cell_type": "code",
   "execution_count": 0,
   "metadata": {
    "application/vnd.databricks.v1+cell": {
     "cellMetadata": {
      "byteLimit": 2048000,
      "rowLimit": 10000
     },
     "inputWidgets": {},
     "nuid": "a8b27ed6-2ff0-4413-bdc1-239cff64c383",
     "showTitle": false,
     "title": ""
    }
   },
   "outputs": [],
   "source": [
    "top_scoring_batsmen_per_season = spark.sql(\"\"\"\n",
    "SELECT \n",
    "p.player_name,\n",
    "m.season_year,\n",
    "SUM(b.runs_scored) AS total_runs \n",
    "FROM ball_by_ball b\n",
    "JOIN match m ON b.match_id = m.match_id   \n",
    "JOIN player_match pm ON m.match_id = pm.match_id AND b.striker = pm.player_id     \n",
    "JOIN player p ON p.player_id = pm.player_id\n",
    "GROUP BY p.player_name, m.season_year\n",
    "ORDER BY m.season_year, total_runs DESC\n",
    "\"\"\")"
   ]
  },
  {
   "cell_type": "code",
   "execution_count": 0,
   "metadata": {
    "application/vnd.databricks.v1+cell": {
     "cellMetadata": {
      "byteLimit": 2048000,
      "rowLimit": 10000
     },
     "inputWidgets": {},
     "nuid": "d85b1433-2775-4f85-811c-55c69d13e5c4",
     "showTitle": false,
     "title": ""
    }
   },
   "outputs": [
    {
     "output_type": "stream",
     "name": "stdout",
     "output_type": "stream",
     "text": [
      "+-------------+-----------+----------+\n|  player_name|season_year|total_runs|\n+-------------+-----------+----------+\n|     se marsh|       2008|       616|\n|    g gambhir|       2008|       534|\n|st jayasuriya|       2008|       514|\n|    sr watson|       2008|       468|\n|     gc smith|       2008|       441|\n| ac gilchrist|       2008|       436|\n|    yk pathan|       2008|       435|\n|     sk raina|       2008|       421|\n|     ms dhoni|       2008|       414|\n|     v sehwag|       2008|       406|\n|    rg sharma|       2008|       404|\n|     r dravid|       2008|       371|\n|   sc ganguly|       2008|       349|\n|     s dhawan|       2008|       340|\n|   rv uthappa|       2008|       320|\n|kc sangakkara|       2008|       320|\n|    dj hussey|       2008|       319|\n|  sa asnodkar|       2008|       311|\n|     pa patel|       2008|       302|\n| yuvraj singh|       2008|       299|\n+-------------+-----------+----------+\nonly showing top 20 rows\n\n"
     ]
    }
   ],
   "source": [
    "top_scoring_batsmen_per_season.show()"
   ]
  },
  {
   "cell_type": "code",
   "execution_count": 0,
   "metadata": {
    "application/vnd.databricks.v1+cell": {
     "cellMetadata": {
      "byteLimit": 2048000,
      "rowLimit": 10000
     },
     "inputWidgets": {},
     "nuid": "af6aef0f-4e0a-42a4-bd97-44396d46c54b",
     "showTitle": false,
     "title": ""
    }
   },
   "outputs": [
    {
     "output_type": "stream",
     "name": "stdout",
     "output_type": "stream",
     "text": [
      "+--------+-----------+--------------------+---------+--------------------+-------------+\n|match_id|season_year|         toss_winner|toss_name|        match_winner|match_outcome|\n+--------+-----------+--------------------+---------+--------------------+-------------+\n|  335987|       2008|Royal Challengers...|    field|Kolkata Knight Ri...|         Lost|\n|  335988|       2008| Chennai Super Kings|      bat| Chennai Super Kings|          Won|\n|  335989|       2008|    Rajasthan Royals|      bat|    Delhi Daredevils|         Lost|\n|  335990|       2008|      Mumbai Indians|      bat|Royal Challengers...|         Lost|\n|  335991|       2008|     Deccan Chargers|      bat|Kolkata Knight Ri...|         Lost|\n|  335992|       2008|     Kings XI Punjab|      bat|    Rajasthan Royals|         Lost|\n|  335993|       2008|     Deccan Chargers|      bat|    Delhi Daredevils|         Lost|\n|  335994|       2008|      Mumbai Indians|    field| Chennai Super Kings|         Lost|\n|  335995|       2008|    Rajasthan Royals|    field|    Rajasthan Royals|          Won|\n|  335996|       2008|      Mumbai Indians|    field|     Kings XI Punjab|         Lost|\n|  335997|       2008|    Rajasthan Royals|    field|    Rajasthan Royals|          Won|\n|  335998|       2008|Kolkata Knight Ri...|      bat| Chennai Super Kings|         Lost|\n|  335999|       2008|     Deccan Chargers|    field|     Deccan Chargers|          Won|\n|  336000|       2008|    Delhi Daredevils|      bat|     Kings XI Punjab|         Lost|\n|  336001|       2008| Chennai Super Kings|      bat| Chennai Super Kings|          Won|\n|  336002|       2008|Kolkata Knight Ri...|      bat|      Mumbai Indians|         Lost|\n|  336003|       2008|Royal Challengers...|    field|    Delhi Daredevils|         Lost|\n|  336004|       2008|     Kings XI Punjab|    field|     Kings XI Punjab|          Won|\n|  336005|       2008|    Rajasthan Royals|      bat|    Rajasthan Royals|          Won|\n|  336006|       2008| Chennai Super Kings|      bat|    Delhi Daredevils|         Lost|\n+--------+-----------+--------------------+---------+--------------------+-------------+\nonly showing top 20 rows\n\n"
     ]
    }
   ],
   "source": [
    "toss_impact_individual_matches = spark.sql(\"\"\"\n",
    "SELECT m.match_id,m.season_year, m.toss_winner, m.toss_name, m.match_winner,\n",
    "       CASE WHEN m.toss_winner = m.match_winner THEN 'Won' ELSE 'Lost' END AS match_outcome\n",
    "FROM match m\n",
    "WHERE m.toss_name IS NOT NULL\n",
    "ORDER BY m.match_id\n",
    "\"\"\")\n",
    "toss_impact_individual_matches.show()\n"
   ]
  },
  {
   "cell_type": "code",
   "execution_count": 0,
   "metadata": {
    "application/vnd.databricks.v1+cell": {
     "cellMetadata": {
      "byteLimit": 2048000,
      "rowLimit": 10000
     },
     "inputWidgets": {},
     "nuid": "f64362e1-494d-4be8-84ee-4404e5e1cd47",
     "showTitle": false,
     "title": ""
    }
   },
   "outputs": [],
   "source": [
    "import matplotlib.pyplot as plt"
   ]
  },
  {
   "cell_type": "code",
   "execution_count": 0,
   "metadata": {
    "application/vnd.databricks.v1+cell": {
     "cellMetadata": {
      "byteLimit": 2048000,
      "rowLimit": 10000
     },
     "inputWidgets": {},
     "nuid": "ab6cef30-1c96-4f6f-86ba-467ba55a36e5",
     "showTitle": false,
     "title": ""
    }
   },
   "outputs": [
    {
     "output_type": "stream",
     "name": "stdout",
     "output_type": "stream",
     "text": [
      "+---------------+-----------------+\n|    player_name|avg_runs_per_ball|\n+---------------+-----------------+\n|     sm harwood|             0.32|\n|        a zampa|             0.43|\n|     ankit soni|              0.5|\n|      gr napier|              0.5|\n|       aj finch|              0.5|\n|     avesh khan|              0.5|\n|       nb singh|             0.56|\n|     ag murtaza|             0.65|\n|     fh edwards|             0.66|\n|      sb bangar|             0.67|\n|     d du preez|             0.67|\n|        s gopal|             0.67|\n|   kp pietersen|              0.7|\n|  la carseldine|             0.71|\n|      ss mundhe|             0.71|\n|       a kumble|             0.76|\n|       umar gul|             0.76|\n|j syed mohammad|             0.78|\n|c de grandhomme|             0.79|\n|smsm senanayake|             0.83|\n+---------------+-----------------+\nonly showing top 20 rows\n\n"
     ]
    }
   ],
   "source": [
    "economical_bowlers_powerplay = spark.sql(\"\"\"\n",
    "SELECT \n",
    "p.player_name, \n",
    "round(AVG(b.runs_scored),2) AS avg_runs_per_ball\n",
    "FROM ball_by_ball b\n",
    "JOIN player_match pm ON b.match_id = pm.match_id AND b.bowler = pm.player_id\n",
    "JOIN player p ON pm.player_id = p.player_id\n",
    "WHERE b.over_id <= 6\n",
    "GROUP BY p.player_name\n",
    "HAVING COUNT(*) >= 1\n",
    "ORDER BY avg_runs_per_ball\n",
    "\"\"\")\n",
    "economical_bowlers_powerplay.show()\n"
   ]
  },
  {
   "cell_type": "code",
   "execution_count": 0,
   "metadata": {
    "application/vnd.databricks.v1+cell": {
     "cellMetadata": {
      "byteLimit": 2048000,
      "rowLimit": 10000
     },
     "inputWidgets": {},
     "nuid": "eb5a3987-0c8b-4082-ae3e-bf3193cf4aa3",
     "showTitle": false,
     "title": ""
    }
   },
   "outputs": [
    {
     "output_type": "display_data",
     "data": {
      "image/png": "[encoded data removed]"
     },
     "metadata": {
      "application/vnd.databricks.v1+output": {
       "addedWidgets": {},
       "arguments": {},
       "data": "data:image/png;base64,iVBORw0KGgoAAAANSUhEUgAAA1gAAAI4CAYAAAB3HEhGAAAAOXRFWHRTb2Z0d2FyZQBNYXRwbG90bGliIHZlcnNpb24zLjUuMSwgaHR0cHM6Ly9tYXRwbG90bGliLm9yZy/YYfK9AAAACXBIWXMAAAsTAAALEwEAmpwYAABVb0lEQVR4nO3debh1c/3/8efLlCRU7soYSYMGFJqFUlQoIUIzTZpLmoRo0lzqG301EqVvpVKaVb8miohSKCFlHiLz+/fHZ51sx7nv+2Dts8+59/NxXfd1n732Ovu8zzp7WK/1mVJVSJIkSZLuuMVGXYAkSZIkLSoMWJIkSZLUEwOWJEmSJPXEgCVJkiRJPTFgSZIkSVJPDFiSJEmS1BMDliTNMUnekuTTd/Ax1khSSZboq67bUcM+Sb44Az/nDh+vuSLJT5K8eNR1zLQkL0ny4VHXMR1JfpPkwaOuQ9LwGLAkzbgkf0tyXZIVJ20/sTvpX+MOPn4lud8C7n9+khuT/HvSv5XvyM+dKVX1rqoa6kl09zf6T3dcLk3y7SSrDfNnDssdOV5JPts9V/+d5JIk30/ywL5rnAu6180pSa5O8s8kn0yywiyoayngbcCBSR4/8Hq+qnsvGHyNr97Tz3xndyxuSLLPFPc/J8nZXQ1fT3L3gbvfD+zXRx2SZicDlqRR+Suw08SNJA8FlpnBn//Lqlp20r9/zODPnwu2qqplgZWAfwEfG3E9AKSZyc+v93XHYVXgAuCzM/iz/2vErY2vB94LvBFYHngUcB/g+13A6fNn3dbfcxvgT1V1XlX9bOL1DEy0Eq0w8Br/e09lngHsCXx78h1d69SngF2BewFXA58Y2OVoYNMk9+6pFkmzjAFL0qh8AXjuwO3nAZ8f3CHJ8kk+n+TC7mrw2yZOrJPcL8lxSS5PclGSI7vtP+2+/ffdFetn39bCkqyW5P+6n3txko932xfrajg7yQVdbct39010uXtekr93Nb114DHvlOTDSf7R/ftwkjt1922S5Nwke3aPe36SZyR5apI/dy0nbxl4rFt0rUvyuCS/SHJZknOSPL/b/rSuVfCKbvs+t/VYAFTVNcBRwDoDP3NBf5uzkzyi+3rn7rg8uLv9oiRfn89xf9TA7/H7JJsM3PeTJAck+X+0E9b7di0qZyW5Mslfk+w8n8f97/Fa2N9pIcfhauBw4CHdYz2oq+uyJKcm2brbvma3beJ4HJLkgoF6vpDkNQPH8X+7v/l5SfZPsnh33/OT/L8kH0pyMbDPwLaPd8/9PyV54nx+77WS/Kh7Dl+U5LB0LU5J3pjkq5P2/2iSj0zxOMsB+wKvrKrvVtX1VfU3YAdgDWCXJCuntXjefeD71u9+7pLd7Rcm+WNai+ixSe4zsG8leUWSvwB/SfOh7vVwRVpr0UPm86fZEjhuPvcN/h4rJzm6ez2dkWS3gfv2SXJUkiO759Pvkqw7v8eqqs9V1XeAK6e4e2fgm1X106r6N/B2YNskd+2+9xrgt8BTFlazpLnJgCVpVH4FLNedpC4O7AhMHo/zMdrV8vsCT6AFshd0970T+B5wN1rLwscAqmrj7v51uyvWR96WorpavgWcTTt5XAU4orv7+d2/TbualgU+PukhHgc8AHgisHeSB3Xb30q76r8esC6wEa1b04R7A0t3P29v4BBgF+ARwOOBtydZc4p67wN8p/v953WPf1J391W0Y7YC8DTgZUmeMZ3jMOlnLAM8m/Y3m7Cgv81xwCbd108AzgI2Hrh9q5PhJKvQWgP2B+4OvAH4apJ5A7vtCuwO3BW4EPgosGVV3RV4DDf/3tMxv7/TfCVZlnbyfGIXGr5Jew7eE3glcFiSB1TVX4ErgPW7b90Y+PfAzxg8Bp8FbgDu1+3/ZGCwO+MjacfvXsABA9vOBFYE3gH8X27ZBe2/JQPvBlYGHgSsBuzT3fdFYIuBwLUE7TX4+Vs9Sju2SwP/N7ixCw/HAJt3rb+/BJ41sMtzgKOq6vok2wBvAbalPU9/Bnxp0s95Rve7rdMdh42B+9OeZzsAF09RG8BDgdPnc9+gI4BzacdjO+BdSTYbuH8b4Cu059/hwNcnwuFt9GDg9xM3qupM4Dra7zLhj7T3AUmLIAOWpFGaaMXanHbCcd7EHQOh681VdWV3xfwDtJNsgOtpXZRWrqprqurnt/FnP6prZZj4d2a3fSPaCdgbq+qqSY+9M/DBqjqrO7l8M7Bjbtmlad+q+k9V/Z52krXuwPfuV1UXVNWFtBaBXQe+73rggKq6nnYiuCLwke53PxU4jalPyJ4D/KCqvtS1LFxcVScBVNVPquqUqrqpqk6mndA+4TYco68nuQy4nPY3OhCm9bc5buDnPJ52kj9xe8qARQuTx1TVMV293wdOAJ46sM9nq+rUqrqBFkpuAh6S5M5VdX53nKZrfn+nqbyhOw5n0EL182lheVngPVV1XVX9iBbMJ7q9Hgc8ITd3Azuqu70msBythfVe3e/3mu65dgHwIdqxnfCPqvpYVd1QVf/ptl0AfLj7ex9JCxdPm1x0VZ1RVd+vqmu759wH6f4OVXU+8FNg+273LYCLquq3U/z+K3b33TDFfed390MLJTtB68bZ/R6Hd/e9FHh3Vf2xe5x3AesNtmJ191/S/Z7X04L0A4F033f+FD8f2gWEqVqS/itt/OBjgTd1r+mTgE9zy1b031bVUd1r8IO0UPmoBT3ufCxLe80Mupz2+0y4sqtb0iLIgCVplL5ACwjP59ZXzlcElqS1JE04m9bCA238Q4DfdN2zXngbf/avqmqFgX9rddtXA86ez8nkylPUswStdWHCPwe+vpp2sjW/7x2cVOPiqrqx+3riRPpfA/f/Z+CxBq1Ga824lSSPTPLjtG58l9NOclecat/5eEZVrUA70dwDOK4LDAv72xwHPD7JSsDiwJeBx6ZNXrI8U7c03QfYfjD00lqZVhrY55yJL6rqKlqr2kuB89Mm4bgtk0/M7+80lfd3z5F7V9XWXYvEysA5VXXTwH6Tj8EmtFaYnwI/oYWbJwA/677vPrTjeP7A7/wpWovYrX7nAedVVU36ubeaoCXJvZIc0XU9vILWajX49/8cLdjS/f+F+fz+FwErZuqxUSt19wN8FXh093ffmBaAf9bddx/gIwO/5yW01+8qA481+Pf9Ea11+CDggiQHd10Vp3IptwwvU1kZuKSqBoPY4N9r8s+/iZtbu26rf9NC9KDluGUIvCtw2e14bElzgAFL0shU1dm0yS6eyqTuR7STtolWqgmr07VyVdU/q2q3qloZeAnwiSxg5sDb4Bxg9fmcTP5jinpu4JZBaH6m+t4+JtU4B1hrPvcdThtQv1pVLQ/8D+2k9japqhur6v+AG2mhZ2F/mzNooeWVwE+r6gpaoNkd+PmkUDL4e3xhUui9S1W9Z7CUSXUdW1Wb007y/0TrVjlT/gGslltOtvHfY0AXMmkh6zjg57QWlMEWvHOAa4EVB37n5apqcArvW/zOnVW6FqLBnzvVc+ld3fc/tKqWo4Wowe/7OvCwbmzT04HD5vO7/rKrc9vBjV2XyS2BHwJU1aW0LpPPpl04OWIgCJ4DvGTS3/fOVfWL+f2uVfXRqnoErcvg/WkTbEzlZG7Z/W4q/wDuPjEOqjP494J2sWLid1uM1vX49rxGT2WgRTTJfYE7AX8e2OdBDHQjlLRoMWBJGrUXAZt1LRL/1bXmfBk4IMldu65Er6Mbp5Vk+ySrdrtfSjs5mzhx/xdtbNDt8Rtat6f3JLlLkqWTPLa770vAa9MmMViWdgJ75Hxauyb7EvC2JPPSpqffm1uPObs9DgOelGSHJEskuUeS9br77kq7an9Nko1oJ723WTfhwDa08W5/XNjfpnMcXatXd/snk25P9kVgqyRPSbJ4d9w3GfgbT67pXkm2SXIX2sn/v7n57z8Tfk0LkXsmWTJtQo6t6MbrVdVfaK2OuwDHdSHzX7QxSsd1+5xPCyQfSLJc2iQqayVZWDfOewKv6n7u9rST9WOm2O+utONyeTfG7RYBpW6evORw4Dc1nxn2qupyWpfWjyXZovu5a9CeA+dyy5avw2nd7rbj5u6B0ML9m3PzZCfLd7VPKcmGXQvskrSxhNcw/7/vMSyk62tVnQP8Anh399x6GO29Z/A5+4gk23YXV15De1796lYP1upbMsnStPOoJbrHXLy7+zDac/nx3fNzP+D/JlrPuu97BPD9BdUsae4yYEkaqao6s6pOmM/dr6SdXJ1FawE4HDi0u29D4NdJ/k1rpXl1VZ3V3bcP8LmuO9IO83nsR+fW62Bt2IWHrWiTDvyddgI5MRPhobSTyZ/SWt6u6Wqcjv1pY4pOBk4Bftdtu0O6k+KnAq+ndbs6iZuvnr8c2C/JlbRA9+Xb+PDf7I7vFbQJFp43MM5pQX8baCHirrRjNdXtyb/HObRJBt5Cm8DiHFogmN/n1GK0UPcP2u/9BOBlt/H3u92q6jra82RLWoveJ4DnVtWfBnY7jtb185yB26H97Sc8F1iKNsbuUlrgGewWOZVfA2t3P/cAYLuqmmoCiH2Bh9PG/3ybW7cSQ+sm+FDm3z0QgKp6H+1v837a8+HXtL/RE6vq2oFdj+5q+2c3vm3i+79Gm+b9iK674h9ox25+lqO1SF5K68p3Md0YwCl8E3hgFr6O3U60iWv+AXwNeEdV/WDg/m/QXuuX0sYTbtuNx5rKIbQAvRNtApv/dN9D9xp5KS1oXUB73r984Hu3An5SLgshLbJyy27ckiRptkqbgv/FVfW4nh5vdVr3ynt3rWxzUpLdgXWq6jW38/v3Ae5XVbssbN87KsmvgRdV1R+G/bMkjcbIFi2UJEmj040zeh1trNScDVcAVXXwqGuYrqp65KhrkDRcBixJksZMNzboX7Tud1uMuBxJWqTYRVCSJEmSeuIkF5IkSZLUk6F2EUyyBfAR2kKTn560nglJPgRs2t1cBrhnt6jlfK244oq1xhpr9F+sJEmSJE3Tb3/724uqat7k7UMLWN16EAcBm9OmOT4+ydFVddrEPlX12oH9Xwmsv7DHXWONNTjhhPnN6CxJkiRJw5fk7Km2D7OL4EbAGVV1VrdeyBG0NU7mZyfaQpySJEmSNCcNM2CtQluEcMK53bZbSXIfYE3gR/O5f/ckJyQ54cILL+y9UEmSJEnqw2yZ5GJH4KiqunGqO6vq4KraoKo2mDfvVt0cJUmSJGlWGGbAOg9YbeD2qt22qeyI3QMlSZIkzXHDDFjHA2snWTPJUrQQdfTknZI8ELgb8Msh1iJJkiRJQze0gFVVNwB7AMcCfwS+XFWnJtkvydYDu+4IHFGueCxJkiRpjhvqOlhVdQxwzKRte0+6vc8wa5AkSZKkmTJbJrmQJEmSpDnPgCVJkiRJPTFgSZIkSVJPDFiSJEmS1BMDliRJkiT1xIAlSZIkST0xYEmSJElSTwxYkiRJktQTA5YkSZIk9cSAJUmSJEk9MWBJkiRJUk8MWJIkSZLUEwOWJEmSJPXEgCVJkiRJPVli1AVIkiRJum3ec+JFoy5hRu21/oqjLmHabMGSJEmSpJ4YsCRJkiSpJwYsSZIkSeqJAUuSJEmSemLAkiRJkqSeOIugJEmSZgVnxtOiwBYsSZIkSeqJAUuSJEmSemLAkiRJkqSeGLAkSZIkqScGLEmSJEnqiQFLkiRJknriNO2SJElD5vTj0viwBUuSJEmSemLAkiRJkqSeGLAkSZIkqScGLEmSJEnqiQFLkiRJknpiwJIkSZKknhiwJEmSJKknBixJkiRJ6okBS5IkSZJ6YsCSJEmSpJ4YsCRJkiSpJwYsSZIkSeqJAUuSJEmSemLAkiRJkqSeGLAkSZIkqScGLEmSJEnqiQFLkiRJknpiwJIkSZKknhiwJEmSJKknBixJkiRJ6okBS5IkSZJ6YsCSJEmSpJ4YsCRJkiSpJwYsSZIkSeqJAUuSJEmSemLAkiRJkqSeGLAkSZIkqScGLEmSJEnqiQFLkiRJknoy1ICVZIskpyc5I8le89lnhySnJTk1yeHDrEeSJEmShmmJYT1wksWBg4DNgXOB45McXVWnDeyzNvBm4LFVdWmSew6rHkmSJEkatmG2YG0EnFFVZ1XVdcARwDaT9tkNOKiqLgWoqguGWI8kSZIkDdUwA9YqwDkDt8/ttg26P3D/JP8vya+SbDHVAyXZPckJSU648MILh1SuJEmSJN0xo57kYglgbWATYCfgkCQrTN6pqg6uqg2qaoN58+bNbIWSJEmSNE3DDFjnAasN3F612zboXODoqrq+qv4K/JkWuCRJkiRpzhlmwDoeWDvJmkmWAnYEjp60z9dprVckWZHWZfCsIdYkSZIkSUMztIBVVTcAewDHAn8EvlxVpybZL8nW3W7HAhcnOQ34MfDGqrp4WDVJkiRJ0jANbZp2gKo6Bjhm0ra9B74u4HXdP0mSJEma00Y9yYUkSZIkLTIMWJIkSZLUEwOWJEmSJPXEgCVJkiRJPTFgSZIkSVJPDFiSJEmS1BMDliRJkiT1xIAlSZIkST0xYEmSJElSTwxYkiRJktQTA5YkSZIk9cSAJUmSJEk9MWBJkiRJUk8MWJIkSZLUEwOWJEmSJPXEgCVJkiRJPTFgSZIkSVJPDFiSJEmS1BMDliRJkiT1xIAlSZIkST0xYEmSJElST5YYdQGSJGlues+JF426hBm11/orjroESXOALViSJEmS1BMDliRJkiT1xIAlSZIkST0xYEmSJElSTwxYkiRJktQTA5YkSZIk9cSAJUmSJEk9MWBJkiRJUk8MWJIkSZLUEwOWJEmSJPXEgCVJkiRJPTFgSZIkSVJPDFiSJEmS1BMDliRJkiT1xIAlSZIkST0xYEmSJElSTwxYkiRJktQTA5YkSZIk9cSAJUmSJEk9MWBJkiRJUk8MWJIkSZLUEwOWJEmSJPXEgCVJkiRJPTFgSZIkSVJPDFiSJEmS1BMDliRJkiT1xIAlSZIkST0xYEmSJElSTwxYkiRJktQTA5YkSZIk9cSAJUmSJEk9MWBJkiRJUk8MWJIkSZLUEwOWJEmSJPXEgCVJkiRJPRlqwEqyRZLTk5yRZK8p7n9+kguTnNT9e/Ew65EkSZKkYVpiWA+cZHHgIGBz4Fzg+CRHV9Vpk3Y9sqr2GFYdkiRJkjRThtmCtRFwRlWdVVXXAUcA2wzx50mSJEnSSA0zYK0CnDNw+9xu22TPSnJykqOSrDbEeiRJkiRpqIbWRXCavgl8qaquTfIS4HPAZpN3SrI7sDvA6quvPrMVSiPwnhMvGnUJM2qv9Ve83d/rsZq+cTpWHqfpuyPHSpJ0a8NswToPGGyRWrXb9l9VdXFVXdvd/DTwiKkeqKoOrqoNqmqDefPmDaVYSZIkSbqjhhmwjgfWTrJmkqWAHYGjB3dIstLAza2BPw6xHkmSJEkaqqF1EayqG5LsARwLLA4cWlWnJtkPOKGqjgZelWRr4AbgEuD5w6pHkiRJkoZtqGOwquoY4JhJ2/Ye+PrNwJuHWYMkSZIkzZShLjQsSZIkSePEgCVJkiRJPTFgSZIkSVJPDFiSJEmS1BMDliRJkiT1xIAlSZIkST0xYEmSJElSTwxYkiRJktQTA5YkSZIk9cSAJUmSJEk9MWBJkiRJUk8MWJIkSZLUEwOWJEmSJPXEgCVJkiRJPTFgSZIkSVJPDFiSJEmS1BMDliRJkiT1xIAlSZIkST0xYEmSJElSTwxYkiRJktQTA5YkSZIk9cSAJUmSJEk9MWBJkiRJUk8MWJIkSZLUEwOWJEmSJPXEgCVJkiRJPTFgSZIkSVJPDFiSJEmS1BMDliRJkiT1xIAlSZIkST0xYEmSJElSTwxYkiRJktQTA5YkSZIk9cSAJUmSJEk9MWBJkiRJUk8MWJIkSZLUEwOWJEmSJPXEgCVJkiRJPTFgSZIkSVJPDFiSJEmS1JMl5ndHkrsv6Bur6pL+y5EkSZKkuWu+AQv4LVBAprivgPsOpSItst5z4kWjLmFG7bX+iqMuQZIkSTNsvgGrqtacyUIkSZIkaa5bUBfBhy/oG6vqd/2XI0mSJElz14K6CH5gAfcVsFnPtUiSJEnSnLagLoKbzmQhkiRJkjTXLagF67+SPARYB1h6YltVfX5YRUmSJEnSXLTQgJXkHcAmtIB1DLAl8HPAgCVJkiRJA6az0PB2wBOBf1bVC4B1geWHWpUkSZIkzUHTCVj/qaqbgBuSLAdcAKw23LIkSZIkae6ZzhisE5KsABxCW3z438Avh1mUJEmSJM1FCw1YVfXy7sv/SfJdYLmqOnm4ZUmSJEnS3LPALoJJlkiS7uvVgA2AxWeiMEmSJEmaa+YbsJLsRhtvdXb39Q9pE14ckeRNM1SfJEmSJM0ZC+oi+BpgLeCuwB+B+1TVRUmWAY4H3jv88iRJkiRp7lhQwLquqi4FLk1yRlVdBFBVVye5bmbKkyRJkqS5Y0EB685J1qd1I1yq+zrdv6VnojhJkiRJmksWFLDOBz7Yff3Pga8nbkuSJEmSBsw3YFXVpnf0wZNsAXyENvPgp6vqPfPZ71nAUcCGVXXCHf25kiRJkjQKC5ym/Y5IsjhwELAlsA6wU5J1ptjvrsCrgV8PqxZJkiRJmglDC1jARsAZVXVWVV0HHAFsM8V+76TNSHjNEGuRJEmSpKFb2ELD6RYYvj1WAc4ZuH1ut23w8R8OrFZV315IHbsnOSHJCRdeeOHtLEeSJEmShmuBAauqCjhmGD84yWK0iTNev7B9q+rgqtqgqjaYN2/eMMqRJEmSpDtsOl0Ef5dkw9vx2OcBg61fq3bbJtwVeAjwkyR/Ax4FHJ1kg9vxsyRJkiRp5BY0TfuERwI7JzkbuIq2DlZV1cMW8n3HA2snWZMWrHYEnjNxZ1VdDqw4cTvJT4A3OIugJEmSpLlqOgHrKbfngavqhiR7AMfSpmk/tKpOTbIfcEJVHX17HleSJEmSZquFBqyqOjvJ44C1q+ozSeYBy07nwavqGCaN4aqqveez7ybTeUxJkiRJmq0WOgYryTuANwFv7jYtCXxxmEVJkiRJ0lw0nUkunglsTRt/RVX9gzZBhSRJkiRpwHQC1nXddO0FkOQuwy1JkiRJkuam6QSsLyf5FLBCkt2AHwCHDLcsSZIkSZp7pjPJxfuTbA5cAdwf2Luqvj/0yiRJkiRpjpnONO0ApwB3pnUTPGV45UiSJEnS3DWdWQRfDPwG2BbYDvhVkhcOuzBJkiRJmmum04L1RmD9qroYIMk9gF8Ahw6zMEmSJEmaa6YzycXFwJUDt6/stkmSJEmSBkynBesM4NdJvkEbg7UNcHKS1wFU1QeHWJ8kSZIkzRnTCVhndv8mfKP738WGJUmSJGnAdKZp33cmCpEkSZKkuW46Y7AkSZIkSdNgwJIkSZKknhiwJEmSJKkn01lo+H1JlkuyZJIfJrkwyS4zUZwkSZIkzSXTacF6clVdATwd+BtwP9riw5IkSZKkAdMJWBMzDT4N+EpVXT7EeiRJkiRpzprOOljfSvIn4D/Ay5LMA64ZblmSJEmSNPcstAWrqvYCHgNsUFXXA1cB2wy7MEmSJEmaa6bTggXwQGCNJIP7f34I9UiSJEnSnLXQgJXkC8BawEnAjd3mwoAlSZIkSbcwnRasDYB1qqqGXYwkSZIkzWXTmUXwD8C9h12IJEmSJM1102nBWhE4LclvgGsnNlbV1kOrSpIkSZLmoOkErH2GXYQkSZIkLQoWGrCq6riZKESSJEmS5rrpzCJ4JW3WQIClgCWBq6pquWEWJkmSJElzzXRasO468XWS0BYZftQwi5IkSZKkuWg6swj+VzVfB54ynHIkSZIkae6aThfBbQduLkZbF+uaoVUkSZIkSXPUdGYR3Grg6xuAvwFO0S5JkiRJk0xnDNYLBm8nuRvwcuCAYRUlSZIkSXPRfMdgJVktycFJvpXkRUnukuQDwOnAPWeuREmSJEmaGxbUgvV54Djgq8AWwAnAScDDquqfwy9NkiRJkuaWBQWsu1fVPt3XxybZHti5qm4aflmSJEmSNPcscAxWN94q3c2LgeW7tbCoqkuGXJskSZIkzSkLCljLA7/l5oAF8Lvu/wLuO6yiJEmSJGkumm/Aqqo1ZrAOSZIkSZrz5juLoCRJkiTptjFgSZIkSVJPDFiSJEmS1JNpBawkj0vygu7reUnWHG5ZkiRJkjT3LDRgJXkH8Cbgzd2mJYEvDrMoSZIkSZqLptOC9Uxga+AqgKr6B3DXYRYlSZIkSXPRdALWdVVVtLWvSHKX4ZYkSZIkSXPTdALWl5N8ClghyW7AD4BDhluWJEmSJM09811oeEJVvT/J5sAVwAOAvavq+0OvbA55z4kXjbqEGbPX+iuOugRJkiRp1lpowALoApWhSpIkSZIWYKEBK8mVdOOvBlwOnAC8vqrOGkZhkiRJkjTXTKcF68PAucDhQIAdgbWA3wGHApsMqTZJkiRJmlOmM8nF1lX1qaq6sqquqKqDgadU1ZHA3YZcnyRJkiTNGdMJWFcn2SHJYt2/HYBruvsmdx2UJEmSpLE1nYC1M7ArcAHwr+7rXZLcGdhjiLVJkiRJ0pwynWnazwK2ms/dP++3HEmSJEmau6Yzi+DSwIuABwNLT2yvqhcOsS5JkiRJmnOm00XwC8C9gacAxwGrAlcOsyhJkiRJmoumE7DuV1VvB66qqs8BTwMeOZ0HT7JFktOTnJFkrynuf2mSU5KclOTnSda5beVLkiRJ0uwxnYB1fff/ZUkeAiwP3HNh35RkceAgYEtgHWCnKQLU4VX10KpaD3gf8MHpFi5JkiRJs810AtbBSe4GvA04GjgNeO80vm8j4IyqOquqrgOOALYZ3KGqrhi4eRec9l2SJEnSHLbASS6SLAZcUVWXAj8F7nsbHnsV4JyB2+cyRdfCJK8AXgcsBWw2nzp2B3YHWH311W9DCZIkSZI0cxbYglVVNwF7DrOAqjqoqtYC3kRrJZtqn4OraoOq2mDevHnDLEeSJEmSbrfpdBH8QZI3JFktyd0n/k3j+84DVhu4vWq3bX6OAJ4xjceVJEmSpFlpoetgAc/u/n/FwLZi4d0FjwfWTrImLVjtCDxncIcka1fVX7qbTwP+giRJkiTNUQsNWFW15u154Kq6IckewLHA4sChVXVqkv2AE6rqaGCPJE+izVR4KfC82/OzJEmSJGk2WGjASrIMbRKK1atq9yRrAw+oqm8t7Hur6hjgmEnb9h74+tW3vWRJkiRJmp2mMwbrM8B1wGO62+cB+w+tIkmSJEmao6YTsNaqqvfRLThcVVcDGWpVkiRJkjQHTSdgXZfkznSLACdZC7h2qFVJkiRJ0hw0nVkE9wG+C6yW5DDgscDzh1iTJEmSJM1J05lF8HtJfgs8itY18NVVddHQK5MkSZKkOWY6swh+EzgcOLqqrhp+SZIkSZI0N01nDNb7gccDpyU5Ksl2SZYecl2SJEmSNOdMp4vgccBxSRYHNgN2Aw4FlhtybZIkSZI0p0xnkgu6WQS3Ap4NPBz43DCLkiRJkqS5aDpjsL4MbESbSfDjwHFVddOwC5MkSZKkuWY6LVj/C+xUVTcCJHlckp2q6hXDLU2SJEmS5pbpjME6Nsn6SXYCdgD+Cvzf0CuTJEmSpDlmvgEryf2Bnbp/FwFHAqmqTWeoNkmSJEmaUxbUgvUn4GfA06vqDIAkr52RqiRJkiRpDlrQOljbAucDP05ySJInApmZsiRJkiRp7plvwKqqr1fVjsADgR8DrwHumeSTSZ48Q/VJkiRJ0pyxoBYsAKrqqqo6vKq2AlYFTgTeNPTKJEmSJGmOWWjAGlRVl1bVwVX1xGEVJEmSJElz1W0KWJIkSZKk+TNgSZIkSVJPDFiSJEmS1BMDliRJkiT1xIAlSZIkST0xYEmSJElSTwxYkiRJktQTA5YkSZIk9cSAJUmSJEk9MWBJkiRJUk8MWJIkSZLUEwOWJEmSJPXEgCVJkiRJPTFgSZIkSVJPDFiSJEmS1BMDliRJkiT1xIAlSZIkST0xYEmSJElSTwxYkiRJktQTA5YkSZIk9cSAJUmSJEk9MWBJkiRJUk8MWJIkSZLUEwOWJEmSJPXEgCVJkiRJPTFgSZIkSVJPDFiSJEmS1BMDliRJkiT1xIAlSZIkST0xYEmSJElSTwxYkiRJktQTA5YkSZIk9cSAJUmSJEk9MWBJkiRJUk8MWJIkSZLUEwOWJEmSJPXEgCVJkiRJPTFgSZIkSVJPDFiSJEmS1BMDliRJkiT1ZKgBK8kWSU5PckaSvaa4/3VJTktycpIfJrnPMOuRJEmSpGEaWsBKsjhwELAlsA6wU5J1Ju12IrBBVT0MOAp437DqkSRJkqRhG2YL1kbAGVV1VlVdBxwBbDO4Q1X9uKqu7m7+Clh1iPVIkiRJ0lANM2CtApwzcPvcbtv8vAj4zlR3JNk9yQlJTrjwwgt7LFGSJEmS+jMrJrlIsguwAXDgVPdX1cFVtUFVbTBv3ryZLU6SJEmSpmmJIT72ecBqA7dX7bbdQpInAW8FnlBV1w6xHkmSJEkaqmG2YB0PrJ1kzSRLATsCRw/ukGR94FPA1lV1wRBrkSRJkqShG1rAqqobgD2AY4E/Al+uqlOT7Jdk6263A4Flga8kOSnJ0fN5OEmSJEma9YbZRZCqOgY4ZtK2vQe+ftIwf74kSZIkzaRZMcmFJEmSJC0KDFiSJEmS1BMDliRJkiT1xIAlSZIkST0xYEmSJElSTwxYkiRJktQTA5YkSZIk9cSAJUmSJEk9MWBJkiRJUk8MWJIkSZLUEwOWJEmSJPXEgCVJkiRJPTFgSZIkSVJPDFiSJEmS1BMDliRJkiT1xIAlSZIkST0xYEmSJElSTwxYkiRJktQTA5YkSZIk9cSAJUmSJEk9MWBJkiRJUk8MWJIkSZLUEwOWJEmSJPXEgCVJkiRJPTFgSZIkSVJPDFiSJEmS1BMDliRJkiT1xIAlSZIkST0xYEmSJElSTwxYkiRJktQTA5YkSZIk9cSAJUmSJEk9MWBJkiRJUk8MWJIkSZLUEwOWJEmSJPXEgCVJkiRJPTFgSZIkSVJPDFiSJEmS1BMDliRJkiT1xIAlSZIkST0xYEmSJElSTwxYkiRJktQTA5YkSZIk9cSAJUmSJEk9MWBJkiRJUk8MWJIkSZLUEwOWJEmSJPXEgCVJkiRJPTFgSZIkSVJPDFiSJEmS1BMDliRJkiT1xIAlSZIkST0xYEmSJElSTwxYkiRJktQTA5YkSZIk9cSAJUmSJEk9MWBJkiRJUk+GGrCSbJHk9CRnJNlrivs3TvK7JDck2W6YtUiSJEnSsA0tYCVZHDgI2BJYB9gpyTqTdvs78Hzg8GHVIUmSJEkzZYkhPvZGwBlVdRZAkiOAbYDTJnaoqr919900xDokSZIkaUYMs4vgKsA5A7fP7bbdZkl2T3JCkhMuvPDCXoqTJEmSpL7NiUkuqurgqtqgqjaYN2/eqMuRJEmSpCkNM2CdB6w2cHvVbpskSZIkLZKGGbCOB9ZOsmaSpYAdgaOH+PMkSZIkaaSGFrCq6gZgD+BY4I/Al6vq1CT7JdkaIMmGSc4Ftgc+leTUYdUjSZIkScM2zFkEqapjgGMmbdt74OvjaV0HJUmSJGnOmxOTXEiSJEnSXGDAkiRJkqSeGLAkSZIkqScGLEmSJEnqiQFLkiRJknpiwJIkSZKknhiwJEmSJKknBixJkiRJ6okBS5IkSZJ6YsCSJEmSpJ4YsCRJkiSpJwYsSZIkSeqJAUuSJEmSemLAkiRJkqSeGLAkSZIkqScGLEmSJEnqiQFLkiRJknpiwJIkSZKknhiwJEmSJKknBixJkiRJ6okBS5IkSZJ6YsCSJEmSpJ4YsCRJkiSpJwYsSZIkSeqJAUuSJEmSemLAkiRJkqSeGLAkSZIkqScGLEmSJEnqiQFLkiRJknpiwJIkSZKknhiwJEmSJKknBixJkiRJ6okBS5IkSZJ6YsCSJEmSpJ4YsCRJkiSpJwYsSZIkSeqJAUuSJEmSemLAkiRJkqSeGLAkSZIkqScGLEmSJEnqiQFLkiRJknpiwJIkSZKknhiwJEmSJKknBixJkiRJ6okBS5IkSZJ6YsCSJEmSpJ4YsCRJkiSpJwYsSZIkSeqJAUuSJEmSemLAkiRJkqSeGLAkSZIkqScGLEmSJEnqiQFLkiRJknpiwJIkSZKknhiwJEmSJKknBixJkiRJ6okBS5IkSZJ6MtSAlWSLJKcnOSPJXlPcf6ckR3b3/zrJGsOsR5IkSZKGaWgBK8niwEHAlsA6wE5J1pm024uAS6vqfsCHgPcOqx5JkiRJGrZhtmBtBJxRVWdV1XXAEcA2k/bZBvhc9/VRwBOTZIg1SZIkSdLQDDNgrQKcM3D73G7blPtU1Q3A5cA9hliTJEmSJA1Nqmo4D5xsB2xRVS/ubu8KPLKq9hjY5w/dPud2t8/s9rlo0mPtDuze3XwAcPpQip57VgQuWuhe8jhNn8dq+jxW0+Nxmj6P1fR5rKbPYzU9Hqfp81jd7D5VNW/yxiWG+APPA1YbuL1qt22qfc5NsgSwPHDx5AeqqoOBg4dU55yV5ISq2mDUdcx2Hqfp81hNn8dqejxO0+exmj6P1fR5rKbH4zR9HquFG2YXweOBtZOsmWQpYEfg6En7HA08r/t6O+BHNawmNUmSJEkasqG1YFXVDUn2AI4FFgcOrapTk+wHnFBVRwP/C3whyRnAJbQQJkmSJElz0jC7CFJVxwDHTNq298DX1wDbD7OGRZzdJqfH4zR9Hqvp81hNj8dp+jxW0+exmj6P1fR4nKbPY7UQQ5vkQpIkSZLGzTDHYEmSJEnSWDFgjbFu5kbpdktyz1HXIEmSNJsYsMZUkkcAb05y91HXMpskyahrmCuSrAy8Nckyo65FkqRR8LxhegaP0zgcMwPW+LoUeBLw/CT3GHUxs8g9AJL42li4y4G3Ausm2WHUxcx2STZK8vBR1zFbDL7GkswbbA0dhw/fPvl+NbXJx8XjdMf4ury1JJlYXijJFknuP+qaZquqqiRbJ3nMOCzJ5JvNmEmnqs4CDgNeALwtybIjLm3kkmwJfCXJO4Ddkyw56ppmo4kP2aq6CrgGeBDteG090sJmsSTrAh8Hrhh1LbNBknsDT+m+3hL4Pu219xb47wexJ3PTVFU3ASR5ZJKVkqww4pJGaqJVvapuSvKIJM9IsuzEcdLCTbz+urVMHwDtdTnaqmafgXD1BuBNIy5nVkuyEbAnMBbnVo7BGTMDbwavBLYEDgFeC1yW5CNVddkIyxuZJE8A3gfsBLwBeDKwapL9quq6kRY3i0y6WrcMcG1VHZrkWuAl3f3fGG2Vs0vXHfeNwNFVdcao65klngpsmWRF2iLzu9PC50+659ABEyHLk7r5m/R6fAnwduCHwMXd+/nZIy1wBLpu769K8kPaGpyfBU4CDkyydVX9cYTlzRnd6+/pwHuAk7vQvlNVXT7aymaHrsX9mqq6IsljgGdW1WO7+9YF7lJVvxhpkbNIknsB7wLOqqrjBi7ULrLv77ZgjZmuAWsFYGvggKr6KLAprbvgPkmWH2V9M607HksB9wWeA6wMPBT4KLAu8PYkdxphibPGpJO51wNfoS0Uvn5VHQYcAbzQ7oK3ciVwL+Ch494dd+BD9VDaIvTbANcDp1XVn4DHAS/rFqRfpD98+zDwetwWWBXYiPbedTnwliT3GWF5o7I0cCfgabTgvl1VPQM4HDgkyTojrG3OSPJIWrjaAvgG8ETgsHF/DwNIshrwftpFojsD1wJLJXlFkg8DBwA/TPKkEZY521wFfBXYOMkzq7Mo91QwYI2BwSdw95y+DPgjcN8kd6mqvwFvAV4J7Jxk8ZEUOhqLVdV1VfUZ4ExgN2DHqjoSuAFYGxjHk5RbGTiZeyztQ/edwK+BI5M8oqq+AHwLeNY4dzkd6FqzUXeSchOwLbA88KJxu4gxlST3A/4X+BrthPhJSe7WtfBtBrwiyVqOmVmw7gLRMrRFP7eoqn9U1W9pJ8T/AN7VnQyOhSSLVdU/gA8D/wbuBzwCoKreAXwPODzJQ0ZW5Cw28N51d+AsYGdgHVovl5WBOwPfzpjPHltV5wA/ATYBntq95r5Au1j9tap6OvAOujHd42jgufTwJBsA96qqT9KOy4snhhQsyhfR/PBaxE1qddggyWO6Ky6n0N4cHtztehfa1YVvV9WNIyl2hiV5Ku2K3D5Jtquqq+muAncfwHcH9q2qP4+00FkkyZOB/YFjq+pXVfUR4IPAF5M8qqoOAXarqn+PtNARmXi9dV1r/gd4FO1k937Aq2mvuVeP6xiZ7tg8lTb+86Fdy+d3aC3qj+9C1p+B1arqTMfM3NqkK76Ld+9b6wErJ3kXQFWdBHwb+AOthXAsdGOuNgAeAryX9tq7f5LNu/v3A44G7jq6KmengfeuTWiB/Zqq+j2td8uRVXUxLUQsD4xtwBp4/f2Hdv70viTbVtVHq2q7rvvbc2nj2383skJHrHsubUlrOd4E+GnX2+VzwJeA1yV55ihrHDbHYC3iBsLVq4AXA2cAKwKvA1annezdDViN1pViLPrsJ3kQ8Brg/7pNb0lyQ7ftf2hvnh8a9/76U4yB+TVwLvCoJPeuqn9W1f8kWRr4RJJHV9XYTeSQm8ej3dh1oXktbYzjlrTuWudW1flJXg18khYwLhtVvaOSZG3gQOBFVXUyQFUdlORltKvliyf5Jm3yFE0y6YLZLrRQdXpVfSPJhsCvklBVb6mqE5KcUlXXjrbq4RsIBxvQeiFsSHsv/yDwemDzJEtW1TFVtfcIS521uuO3Ba2L6Sq0bvO/B/4EbJLkdcBWwK5V9YfRVTpa3XHahXbBbAfgpcC2Xe76Ee1i2muB7avqLyMrdMS6c6x307rqPrTb/Iskm1XVF7ueUueOrMAZkEW4dU6d7ol+CPCMqrqoGz/zaOAVtG5wawAXdM3ei7wkD6O9ER5QVR/qtj2KNgBzW9rAaKrq4ikCxtiYdDL3dNpxOR/4LfAZWkB4T9clhyQr1BhOkpI2UcOLgf+pqsu6FuIPAccDz6eFiT93XSJ+AlxfVf8ZVb2j1L3O3lxV23S37zQRAJK8APhdd9VcC5Dk5cAutIl5PgfsX1UHps3OeCbwvqrad5Q1zrTuavlHaa+9h9EuIH4I+DmtC/yytPf8i0ZW5CyW5HG047cr8Azgu1X12+6iyGbA5sDnq+ro0VU5GpPPA9JmDLxbVb21u/1q2mfAu2gtx4tX1aUjKXaEJp0zLA7cn9ZN8qNV9fC0GZrfATyyqo4fYakzwi6Ci6BJXUgA/tn9Wxmgqj5Au6r+xqq6uKp+Oy7hCqC7cn488KqBbb+ijVlYpTsmF3fbxzJcwa1aP/em9S/fD9iX1v1hOWC/7qSOcQxXnYuBI4FlkmzahafQTlZ26cLV44B9gFXHKVwN9MOf6C3xZ2DpJFsBVNW1STZPsldVfcZwtWDdmKsHAE+nzcS4EnA6bbD9flX1T1rLw+EjLHNUNgDeVlWfoL1fHUZbp299WhD9uOFqgZYAXlpVp9Iuuj66234jLaRuX1VHT3F+scgb+CzcM8l7gVOBlZI8sLv/I7Qxf4/pdh+7cAX/bd17VJIPVtWNXQ+gh9K6gUO7OPt9WjfTRZ5dBBcxk64g3ANYquuadBmwQZKLuhaH4xmzAZhp02WvWlXfqKotk3w7yfG0qdmXBzYGPjDSImeR7oN0eVq3kO2q6u9pg58Pp109fyVtbaexDaFpg+pvAv6aNvPdWkmuo43/uAk4NMnXaVc3315Vp42u2pnXfeA+mdbF6B9V9fGuC+DGaROA/Jg2IcHrRlnnbDb4nt79f3qS59MCxQ5VtVGSpwBHJ/l7VX0a+NfoKp4ZU/QuWIbWYnxkVV2Q5NfAc2nLbuxfVWM7HmYqA90qH0qb6fT0qjq/u/tc2tIt96fNDrvbpOfg2EmyDS107k77zNsGeGaSP9IaK64ADqyqK0dX5WgMPJceRzsuOye5oar2BM6jja/dB9geeE5V/X4cegfZgrWIGQhXrwe+DHw/bc2r/6Nd9Xxnkk8BL6cNAB4LSZ5IG6D7xiSfTfLQqnoardXqJNoU7TtU1YkjLHPkJl2dvDNwNW3K4+UBquoSWpektbsPkhdU1SJ/MjeV7gPiptw8YcU7aFfonkubefK1tNfdpcCrx+nqb9c9hCSPpnXT+jvwhiR70Y7Jd2nHaFtgr6o6dlS1zmZJlh94T98k3aDwqrqAm1+f0Bbu/CbtuI6F7oRuw7RFhO9M6551TpKPdLvchdaqcCGtq5IGdMfvqbQAtTNwVBe2oI21fRVtMoJ9q82SN7a6C4tb0cb2Xd21hB5CGyu6C20c1huq6u+jq3J0BsLVkbR1+F4PrJfk/V2X0m8AS9He638/8T0jK3iGOAZrEZS29sL+wFNoXUjeS/vg/Sqtb/pawA+q6syRFTmDkixJC5Q/raoTuyb+ZWljZk5J8jngQVW1Ubf/In9lZSqTWj+fR1so8RNdv+ltgadX1Tldl8FH04LEjTXGM711Y9PeRhsMfl5V7ddd3Fib1tL3/2pMZuUESLIycGVVXdl1ZduLdgw+nWRV2kWf71TVO7v9l6yq68f1Nbcg3diX5wNfpHU9egNwQXf3drQTlgNoM5+uRFvodJGf8XTgavkmtAmJLqBN3nQk7Wr5PsA82jHZhjZD5bJV9fZR1DtbJXkwLVxtQxtj9aburh1oaxadCGxTVT8Yt9fnVL9vklVo3b4vA15ZVVcPvH/ddRxbrgZ1n4WPqKp9uwtsq9Mu+hw58X7f7Tc2zyVbsBZN1wJnVtXl1RbvfDXtROdhVfWDqvrUGIWrZ9Be5M+lTZkNbf2mK4DXpk0b+jzg+iTfgfG4sjKVgXD1CtrVyx902/elTWrx87RFFF8C7FdV1495uHoY7UT3AFqYekiST1Ub4/gv2pXNsehrDpC29tmTaB+s0JY5mAdslmSNqjoXeBZtnbQDAarq+u7/sXzNLcSdad3edqbNRrlBVT2BNonFwbSxMW+ktRBuvaiHq+5C2cTV8vVogfNpVbUx8DfgycCKVbUd7bX3ONp04i+gjccaa2nu3n29Mq0L87NoMwi/gtbl9Fu0aeyvAe437uEqycvSxl29varOo81MeT3wwSTLDLx/jV24mqI3xk3AC5OsUm381V9p462emjYJCDBe7/UGrEVIkk3TBo9fBCyZ5KFJ7lxtIeEvjba6mZc2e+IrgIOAQ4E9kmxdbY2m/YFLaG8KVNVjaX2rx1rahBXPpLVYnZfkOUk+Rmvi34p2lfjpNcbT1ydZrDtBOZ42W9Q3gZ8BLwLulbYQ877A+7sulYu8tHXjDgeOAS5O8llaq97etNfZM5Ks3o3xeCo3L4+gSSZOXKpNxnMobaz0fWmBgap6Ie2YHt5u1rcX9QtmaeOJj+m6AkJrQd+E1iMD2tjZS4Bdkjy52qRNd6GN+diuu9A47tYHXpBkD1qvlku7UL4hcEhVXU6bvOG3wJp183issTIQrl5NG599DG05m0O759X+tB4w7xpdlaPXXeh4YpL9kzyhqo6htfB9tzv3fALwQFqvhRVGWeuoOMnFHDbFlaXVaH2BNwZ+RWu1OiVt0P2zaH2Gx0KS+9JOcv/VnQCT5EJgn65Z/6tJ9uzG0CxRVTfUGM2kOD9V9c8kvwG+R+uHfwVtHMO+wAur6oZR1jcbdK12/0jyWuDDST5SVScAVyY5nzaRyk20GfMWeUnuRJut7Wu02RPvR+ti9CHaFd/DgWcDz0lyeDdO4R+jqXZ2m+hy1H29G60l9DO0JRIeneSyqvp1Vb0oycdprVyLvGpLZrwYWCPJdVX1ySR3BXZLckm1xV0/RGvRO7f7nr8meVNVXTXK2meRc2hhalPaWJh/JlmM9tzaMMlLaRckd6qqP0ycX4xLi8Oklqt7ARvRuk++EPgpbZKwr1TV9kneRGtBHjsDXXQ3oM3O+VvgRWnjbf+HtvTP+2mt7y+jzSL4uCRL0ZYoGYvnE9iCNacNvBk8J20l8c/TmvgPrqoP0k54ijbAd6tF/SrnoKo6CzgBuFuSJ6Wtt/Nl2pXO/ZPck3YyiKGhyc1TaR9Au0r3pqrag9ZSM9bvFROtCknWTbJFkrtVmw76NbSuky9O8hhaN6V/jrDUUTkHeCTwFVoL+vtoi3V/DPgdcBSt6+Dioypwtksbc/W57uQO2tiqy6rqdNo4rDvRuttMtGTtMQ4XhbrxHFTV2bSW9dOS3Leq3kdrXXhdkidW1dXAO6vqtC44YLi6RVeutWgLCH8LeGCSdbsLQR+mvX7XBvaubhHhcToRhlucTz2Mdt70SmA9WgvotrSxac9KclBVnVdtSYSx04Wr9YGPAHtU1e60sXwr0oYPHFxVT6F9Fs6jjYncu6quG7fnlC1Yc9DAFYSJKaJfBqyZZHvak36Zrsn2qG7/xWtMBtqnLWR6d9oYtPcluYn2xnhTkp9X1WFJflhtFq6x1XUFvK6qLkmyKXDcRNDsTkq+0O33MtoU488f5yDavd6eRgvo3wHen+SV1SYBuZ42JuZLwFOq6oxxGrdQbS2r42nH4KiJ7lhd19KXA58GdgNOqfFdK206bqRN2HBg1zq6OG0MEdWmNb6O9l7/+CQnANcu6s+x7nV0Y/e+fkFVHZDkBuAXSR5bbdr/O9Fmhz2RNgHBRCuz+O9710bAe2ivw6to49J2S/Iu2nirXwHHdsd6bN674BZLbZDkbrQLjJ+uqm907+2/Txv/9zBaT45xXGNushtoF+6fD/yyqo5JciNtQpk3JnkfrXX9AcAzakyHFDiL4BwzqRn7IV1T/n1o42bm0a64LEu78rnN5O9ZlCXZmna15DvAg4H/q6rPd32pN6RNL/6DcTgWC5M2TuiTwNdpXSF2raoLJ+1zT9oVqa9NXNUcV2ljjA6ldbV9MPB52ixbH6iq7yV5Du3ixqaD3WtGV/HM6rqLrER7vvwcOKjaTIL3o02yc3BVnTLKGueCJGvQQtS9aCcxv6Z1T/o3bWHv5WkXjy6c32MsapJsCXwCeG5V/azbtiftebVptYW879O1cGmS7jW4Ny2Q79ZtW582pvZRtHOGZ08c23GVZJ2u9XNj4FO0yWUupQWuog292LSqzhhhmSMxcFF/OVpuuDxtoplDgKPr5llhtwT+OnCRbYlxvjBrwJpDJoWrp9NO6L4AnEUbf/UdWvecHWmzwD2ixmSNou5D5JPArrSm6T1pg+x/XG2K6DfQrtCN9Ule2mLL/66q05McThsEvnlV/aTrRnntpP3HpvVzYbquI8vTxhZtQht39ALaid/3kryO1q3kQSzCrQvdBZ3Lp2qN6oLoh4Bjacsg/Dttop3/zHCZc1ba+NHdaJPuXESbzfO+tAtoW45ZuFqD1qXt+VV1Qto6TUtW1e+6cTB70sY8+vyaQtcicz3twuP6tAWXf9zdtxKtFeLGqvr5yIockYmWq64L6gbAL2itU+8H1gAeV1Vv7Lru3pU2KchfR1bwiAyEq21oPRIWAz5fVV/oPhMPoi2B89bJ3zOikmcNA9YclGRX2kDV99NmU1qVdqJ8JfCSqjo5bQrRqxfwMIuMJPeqqn91H77LAR+nzf7zdOB5wKeq6uOjrHG26Lr8fZP2XHkK8BDaidwTq+rUUdY2mwx8qKwC3HniqmWSlwDrVtXL09bheSetH/rvu/tXWNS7wSV5M20SlJMGuxQNnLA8iNYt8JvA++yuNT2TLqCtSbuC/hDgeV03zKWr6pqRFjnDkqxIW5/pMlrAXJ+2DMnnq+qLSe43ji0K09F1A/8KbTztT2gXhJYCvj3urVVTSbIv7ULG2rRZYe9LW2T55JEWNgskeTLwblqr5+torex7VtVBXWvowbRzrjMNVjcb64Hrc1GSJ9LWRDmiqk6jre/xYdr02Q+lTUW+FG2A+SKve+Gfn+RxXevU6sAXuybqv9G6K/10hCXOCrl50PcnaYPlv0x7M9wb+CDw4yQrJnl6d2V4rHWBYSvaAt3fSjKxSOmJwP3TZnD7MPDWbnzMxOQNl898tTOrqt5Nm8jjZ0nu2R2rdOFqsa6//e7AjwxXU0tutYbMxHNuYkKHv9Kupl8CfCxtAprrZrbKWeEy2gQM96aF+s2AbwMP7+4fuxaF2+By2onvnrSFqg+knRds33WDG0tJ1knyySRLJnlskm93XZx/Qwukr6A97zahvcer9dx4Ga2lb0NaT6F9k7yhqk4ENquqMwxXt+QkF7PcwNXhiaub69CurDw6yW+6q+XXAO9Mcirwm6oaiw/itEkH3kxbzO4u3eYrgC90g1JfTrv6O/ZXoOrmQbxPrKofJvkd8PYk+1abDGRxWhC9mtbqN9aSPJA2nmg72ontl9MmGfgErdXqqbRZFn8KMNGNclw+YKrqvCRn0o7L9lV14aSQZWvofCRZgS6IJ3kBbczsJVV1WNciuHi1hTrPSvJe4D/jOI5hYPzGRwe2bUgbWP8muPl1p5t1LQqnVtV/khxFe//ah/ZZ+RHaAs1jOclTd6ExtIuMB1TVnkl+QJucYSXaTIsHVZtM5fBu37E1MWygqr6SZBngLbQZAY/rzr9elrb0hstuTMEugrPYpC4j96029ThJns3Ni3X+sNrCuWMlyQNo09DvTGu5e3hVvaa778m0gbsnVtX3R1XjbJBkLVoXtz8kWZXWXfJp3X370q4Ev72qTkpyf1o/87EZ4zGVtGmy30HrjrRNVV3QHZvP07rXvHNg37Hoaz5woWctYPmq+l23/SDaa22bqrpoXI7H7dWNKfok8HbaOI8DaKF9V+CYrkV5bAeHp61tdeNE9/bccoa3R9C6uX2uqr4xwjJnpYlgnuSbtBncntZ1Lb0LLWBtQbvo+ItxDKaTzqe2o60Z+lPaBbOVgM1pr8c70SZ9+u6oah2VrkvumlV1fBegtgeWps1A+WdaSL+BtvTGLsD7q+r4UdU729lFcBYbeDPYA/jfJO9N8tKqOpI28PkZwJbdG+i4uRjYumuevh5YEiDJ42mTOLzPcJWlaYtN75I2CchVwFXdmyhV9Q5al7ePJnlYVf153MMVQLWJYY6lTR6zY5J7V9WfaVfOt00b9Dyx71iEiYEuk18F3prky0lWrapXACcBX0uy4mA3N91aVf2NNiX2frRZyXapqo/QFmLeOsk+3X5jEa6SrNK1uNA9v74HfDXJAdBa3ge6U54IvKra9Nlj3bIwaOBYLA9QVVvRFqj+StcCcRVtwqdfATeMY7iCW5xPvYEWrs4EHk9r1bugqj5Hm1zmaGDsZs3tev3sBuycZBda8PwCbVH4V9AC+u+BFWiB6zDD1YLZgjXLJdmZ9mbwDOCztCf3D6tqnyS7066yv3EcW7EmJFmXdqXlKNrYotdX1TdHW9XskDYj2RtoH7i/og1S3bMGJkBJ8graVKuL/KKlCzK51SDJs2gfwH+hTfl/fsZo8phBaesQfQx4Gu1K7ydoU/y/var+njYmbWNgPcdd3drESfDASd7utDENB9EmbLiuax38IXBIVR0wsmJnUJLX0yYjej/teBwIXEhbWPn7VfWmbr/FfF7NX9r02PvRWmS+XFW/TnIYbdKnH9HOIXauqhNGWObIJVmedpHo2VV1cdrEWK+lzdb51qq6PmM4mcyEJA+mnUvdh3ah+pXd9t1pi3xvX235jYmJxeyxsAC2YM0yEx/Eae5M+xttDzyH1uy/P7Bxkv1oaxC8adzC1RRXLxejrYlyJO0K5zfH+Qpn188cgK5b6YHAKrQFgzcDfpDkyCRHJfkM8EnDVTYDnptk8dw8IchXgeNoC0zukDZ5zFh+8ALn0roXrUd7rT2ctlbTYUnWrqo9aOOKnj6yCmepiZOQrnVv1yTPrqqDaSHimcAjunB/Jm122C+NtOAZVFUfoI2h3Ys2s+kvqk3e9CRaa/EO3X6Gq/lIsjJtUpn9aOul7Zxki6ramTbF/XK0i45jF67mc65wb+AR3e3TgVNoFx7377Zdy5iqNnb2cNoF2XXTZsqle78q2iQX0I3hM1wtmJNczD6hPZGXqLa2xxfSFnd7PPDU7krny4F7AveoqotGWOuM6a7uLlNVp0zxoj6F1qz/hYl+0+P8wh8Ys7AN7aT3z8AbaR8g19BOaE6kdau8cNxPXrrxVW+hhfMbu20TJ8Vf67q8nVZjMnnMVKrqXODcruvWYVV1Ztog8JcDd+pOZG5iDLvWLMxAq9WraBPI7Nxt/0CSq2njsd6T5Bc1JuvsDF75rqp3JbmCdmw2TPL7qrokyedozynNR5JH0pZpOau7sPhz2ni+LbsLtAcPPP/GqrVh0pirjYHzacHg7cBrk1xZVb9McimtNf7jMN7nDgDVFu7+FG2s1ZZdgD8FeACtdXnsj9F02UVwlkiyXlWd1H39Slo3nG8DvwROoz3B30sbR/MyYKcan0WEt6L1Bz6TdnXpHcAtpgRNco+uyX+sPkQGTfpA2ZH2fPlJd/dnaANT3027UnxId8V8rCVZHTiCNt3zroNhc5yfS/PTPa9eQntv2pbWPfn/dfctWVXXj7K+2arrqvsZWovV1bSulg+lLcr8PNoFtF3HqWtSkifQjsGPquq0JK+ltVz9EDiD1n3yudUtjKtb6o7fl2iTXb0c2Kqqvt1dkH0JrZvXAVV1/gjLHLkkr6G97n5Ka7naD1iXdh7xDVqr+5Oq6vRR1Thb5JaTyjyAFtZ3AP5IO2f41ijrm2sMWLNAd4X8MNpsLf8DvJL2prkebd2Kj9KuUh1Au6L3xokwtqibz9iPo4D3Vpt4QJOkTf38IFrAupE2fu/JtNnLTqO11ry3qsZyqt4JSVbqxlW9mvYh8nraMgdeNZ+P7uTtmbRpjQ+tqm93228xxmjcTRXOk3yENk7tt9w8/fPVVfXKiQtEM13nTJs4Ll3Ly6G096OrgZ9V1afTFvJ+E61r21HVLYOgW+pOfvemrfn4nbRZ8Q6ljbP6Zvc6vXu1SVXGVtr47AOr6sndONF7VtUO3X0PpXWf/Me4tBxPJW0CrH8D13cXqf87FrnrOfQi2jjRP42yzrnIgDVLpK2N8l7gCcDLq+pHabMrbU1bJ+WQrun2zl3XwbGQNrX4SsDdaF3cdqJd2bwTrUvXKSMsb1ZKciTtJPi+VXVuklVo4fRZtBasX47rifDACd7DaGOJflBVX0obbL8pbTrj347r8ZmuiQ9hW/lubVJL8jbAMsDfaQvmPo02HfvZ3fiizYCXjdMxTLIRrRVhz6o6uWsVfQxwchey9gBOqKpfjbTQWSzJi4Hn0hbH3bfaxAPPpE3g8MxyGnsAuvf5F9Fee5sBz6q2PthTaaH+ypEWOAJpS0VsV1XvT7IFbTHqH9PGGu9SVadOCll3qTYTpW4jx2DNElV1WZI30bor7Q88pqpOTHIjbb2BXZPsP07hChY69mNsutPMz6STuWWq6uqqenaSLwHf7rqenpfkh7Tp7M8ep5O5ybpwtRVtZsUlgDWSTIyHuQl4H+0KutPPLthYLax8Wwy8Ht9AC1Q/pnXrfldVfbK772W0E78XjOExXIHWFXBz4GRaj4SbgM27bqYfH2Ftc8VnaJ9/G9ImA/lKtfGiO+Dn4qA/Ag8BnlJVDwRIshttWYRfjLKwESrg9Unm0T4Dd66qn3VjRH+QZOOq+st/dzZc3W62YM0yaQstHgwsWVXbddseAvyzxmRCi6ksaOzHuJoUrvagDUK9FnhbVV2T5IvAA4ENu2CxeI3pGigT0hYR/irw4qr6U5KX0rri/rDaavVvoo0JMWDpNpn0elwJ+FBV7ZhkL1rXwK1o3cDvAbyKtmDuWLbAJ9ma1pq+f9eCvBjtpPfkajOZaT4GWo+XoK3Ntw7wJ9oFyKu6fWxZ7nStVdsDi9PWcdqFNt5x7CbkGXjurE4bhhLasTm72iLV76J1FXzHSAtdRDhN+whMjFeYalvXZP1S4Ook3++2/WGcw1XnGNo6YI+mDdwd63AFt7hS/nLam+R7aINSD02yZlXtQlskcGIcg2OL4Dra+949utv/2/3/miRPq6r3Gq50ewy8Hu9Dm63shq61/XHAM7qLG1vSTvTePK7hCqCqjqbNbPqGJM+rqpuq6kuGq6klWSfJ5tAWoe4ult1Aa8k6g9a9624T+49ruOrGs08+x/oRbebAs2iThD1nTMNVuufOQ4FLaMNPFqdNJDNx4fU82pAU9cAWrBk26SrnWsCNUw1E7cZkHUjrX33ujBY5izn245a6wcwfpH2AbA88lXZytzKwW1X9NcnKVfWPEZY5q3TjrZYBvlZVf0jyFNrEMhcDLx23brjqT26e8n8vWhfAZ9BaS3+fNvnM64En+3psupas99C6DP6znGDmvyZNCLIbbf2m91U38cdEj4SuJWulGsO1DLsx2pdU1dVJngesTVtL7ZgRlzYr5eYZmXevqt8kWZM2k+KfgGOBPYC9q+qbIyxzkWHAGpEke9JOiO9Oe9P81BT7GCIm8ZjcWpI70boCfriqNu2u3l1I62r6jnLq7FvoPpRfQls08XfAdrSWv7cBb6+q34+wPM1habO7vZs2jvafwCuAJ9LWndsY2MFWmltKMq+qLhx1HbNRki1pF9A+SxtvdSltdsVju/vHttt3dzFjV1rLFLRJiz5Hu7ixZ1V9blS1zUZJ1qM9j7avqr8kWY02pOA64Oe096vXdBcdPc/qgZNczJBJLVdLAfelrX2yDnBE2voDnxz8Hp/gt+YxubWqujZtwdIluub/+9DWkvkfw9WtVZtZ8UDazGXr0gLWMsAatA8Z6TZJcr+qOqOqTu+6dn+CNonD/rQpx5cG3l1Vfx9lnbOR4WpqXcvUE4G3dBNY3I+2ZtMLklxdVT8b43D1dNr79om0JUnuQ+uxcXySk4CPdJMXGbJudi1wErBZbp7BdDFgX1rX5ftMdJ30PKsfBqwZMMVkBBNvCMtV1e+S7Ap8Nm0K9g+OslbNWX+nnch9kNY9cHtP5uavqq4Avgt8N8mmtFaHXWtMFu9Wf5I8GNgzyd2B3YHDaWP8NqqqH9IWi5duk64r/GLATkm+UVVnJPkpbc2+7ZNcUGO4OG6SewCvo01Tf2faWKL1gO2SnF5VP07ySuCLSW6oqsNGV+2scg5wAm1h8/fTZu/cDFijqn7S3a8e2UVwBqWtvP4u4Cu01qs/Ax+tttjpY2kLCj+xqi4bXZWaq5IsSeunf1NVnTfqeuaKbsa3parq7FHXotlv0gWzJWiTxyxDG9swjzaxzCOA06rqlSMrVHPKwJirtYBlu3F7q9KWlPhXVb07yYNoY7OvBT5dVd8ZZc2jkDbT8leAy2hTju8BbEHrQnky8OWq+neSx9EWET5rfo81jpIsVVXXJdmQtjj1a7oLQeqZAWuGdE2yrwH2q6rvJtmYtkbKTcBBXbelpavKNSwkaRaaT2+EK2jv6/9J8nBgTeADtBm6HgFcaJcbTcfAJARnAv+hTQCyCvACYHVgRdp5w47ANVV14IhKHaluDPvewEeq6q3dhY7nAg+lzar42XL9pil1My2uR+vG/K5yUeqhMWANyRRjru4JfIc2w81Luu2PA3aiTUjwTlrXV2dRkqRZrFsa4dnAc2gTpfyAFrJO7+6/H3C1swVqupI8CvgYLUBtDnwSOIy2ntqfkzyMdq5wf+AQ4OlV9edR1TtK3VII9wM+DvxvVb2/6075UloQfXdVXT7KGmezJHcB7tnNMuyEFkNiwBqCSeHqFcAKVXVAkjVoC+V+par26e5/NHBmVV0wqnolSdOzgKUR7klb2+mP1dYokqat6w64Em09q/1p4f0g2gQpL6+qU7vgvh+t5WHs1nKaLMn6wJG0XkAf6ULWXQ1Xmg0MWEOU5CXAC4HtJtao6MZ7HA38pKreOMr6JEm33QKWRvgEbSH0a0daoOasJAcAF3SB4bnAy2mLwf65u3+5bpIeAV3L3o9o6zd9YtT1SBOcRXBIktyZNvXl3sDVSV5GW3fn28A2wFFJVqyqi0ZYpiTpNlrA0gifNlzpDjoFeEk3adG2wOu7LoKLVdVNhqtbqqqTk2xCG7MmzRq2YA1Rkt2Bl9Gmvzy1+3/dqnpJkiVdo0iS5qauFes1wJO4eWmE00ZalOa8rgvqM2nTjx9aVd8ecUmSbgcD1hAlWZo2q82ZVXVJkh1pgzCfRhsA7cGXpDnKpRE0LEmW6NbCchICaQ4yYM2AbuDlC2hXO3dycKokSZofg5U0tzkGa2YsTVvvaoeq+uOoi5EkSbOX4Uqa22zBmiFejZIkSZIWfQYsSZIkSerJYqMuQJIkSZIWFQYsSZIkSeqJAUuSJEmSemLAkiRJkqSeGLAkSTMuyY1JTkry+yS/S/KYHh7z33fw+3+S5ISB2xsk+ckdrUuSNF4MWJKkUfhPVa1XVesCbwbePZM/PM1Un4H3TLLlTNYiSVq0GLAkSaO2HHAp/Df4HJjkD0lOSfLsbvtBSbbuvv5akkO7r1+Y5IDJD5jkjUmOT3Jykn27bWskOT3J54E/AKtNUcuBwFuneLw1kvysa237b4tbkk2SHJfkG0nOSvKeJDsn+U1X/1rdfvOSfLWr6fgkj+3huEmSZqElRl2AJGks3TnJScDSwErAZt32bYH1gHWBFYHjk/wU+BnweOBoYJXue+i2HTH4wEmeDKwNbAQEODrJxsDfu+3Pq6pfzaeuXwLPTLIpcOXA9guAzavqmiRrA18CNujuWxd4EHAJcBbw6araKMmrgVcCrwE+Anyoqn6eZHXg2O57JEmLGAOWJGkU/lNV6wEkeTTw+SQPAR4HfKmqbgT+leQ4YENawHpNknWA04C7JVkJeDTwqkmP/eTu34nd7WVpwervwNkLCFcT9gfeBrxpYNuSwMeTrAfcCNx/4L7jq+r87nc5E/het/0UYNPu6ycB6ySZ+J7lkixbVXdo3JgkafYxYEmSRqqqfplkRWDeAvY5L8kKwBbAT4G7AzsA/66qKyftHuDdVfWpW2xM1gCumkY9P0qyP/Cogc2vBf5Fa61aDLhm4L5rB76+aeD2Tdz8ObsY8KiqGvw+SdIiyDFYkqSRSvJAYHHgYlpL1bOTLJ5kHrAx8Jtu11/RuttNdBl8Q/f/ZMcCL0yybPf4qyS5520sa39gz4HbywPnV9VNwK5dvbfF92jdBelqWu82fr8kaY6wBUuSNAoTY7CgtTg9r6puTPI1Wre/3wMF7FlV/+z2+xnw5Ko6I8nZtFasWwWsqvpekgcBv+y65P0b2IXWtW9aquqYJBcObPoE8NUkzwW+yzRawiZ5FXBQkpNpn70/BV56Gx9DkjQHpKpGXYMkSZIkLRLsIihJkiRJPTFgSZIkSVJPDFiSJEmS1BMDliRJkiT1xIAlSZIkST0xYEmSJElSTwxYkiRJktST/w8YKLp6d/f3kwAAAABJRU5ErkJggg==\n",
       "datasetInfos": [],
       "metadata": {},
       "removedWidgets": [],
       "type": "image"
      }
     },
     "output_type": "display_data"
    }
   ],
   "source": [
    "# Assuming 'economical_bowlers_powerplay' is already executed and available as a Spark DataFrame\n",
    "economical_bowlers_pd = economical_bowlers_powerplay.toPandas()\n",
    "\n",
    "# Visualizing using Matplotlib\n",
    "plt.figure(figsize=(12, 8))\n",
    "# Limiting to top 10 for clarity in the plot\n",
    "top_economical_bowlers = economical_bowlers_pd.nsmallest(10, 'avg_runs_per_ball')\n",
    "plt.bar(top_economical_bowlers['player_name'], top_economical_bowlers['avg_runs_per_ball'], color='skyblue')\n",
    "plt.xlabel('Bowler Name')\n",
    "plt.ylabel('Average Runs per Ball')\n",
    "plt.title('Most Economical Bowlers in Powerplay Overs (Top 10)')\n",
    "plt.xticks(rotation=45)\n",
    "plt.tight_layout()\n",
    "plt.show()\n"
   ]
  },
  {
   "cell_type": "markdown",
   "metadata": {
    "application/vnd.databricks.v1+cell": {
     "cellMetadata": {
      "byteLimit": 2048000,
      "rowLimit": 10000
     },
     "inputWidgets": {},
     "nuid": "00ea5f0b-bdb9-4541-854e-83f36f28a156",
     "showTitle": false,
     "title": ""
    }
   },
   "source": [
    "\n",
    "The graph displays the average runs scored per ball by various cricket players, reflecting their batting efficiency and effectiveness in scoring runs during their innings. Players like SM Harwood, A Zampa, and Ankit Soni exhibit a comparatively lower average runs per ball, indicating a more defensive or conservative batting approach. Conversely, players such as NB Singh, AG Murtaza, and SB Bangar demonstrate higher average runs per ball, suggesting a more aggressive batting style or the ability to score quickly. This data provides insights into the batting prowess and strategies employed by different players, showcasing their contribution to their team's overall performance in cricket matches."
   ]
  },
  {
   "cell_type": "code",
   "execution_count": 0,
   "metadata": {
    "application/vnd.databricks.v1+cell": {
     "cellMetadata": {
      "byteLimit": 2048000,
      "rowLimit": 10000
     },
     "inputWidgets": {},
     "nuid": "0360dda7-296d-473b-bbb4-f3cacf9e02c8",
     "showTitle": false,
     "title": ""
    }
   },
   "outputs": [],
   "source": [
    "import seaborn as sns"
   ]
  },
  {
   "cell_type": "code",
   "execution_count": 0,
   "metadata": {
    "application/vnd.databricks.v1+cell": {
     "cellMetadata": {
      "byteLimit": 2048000,
      "rowLimit": 10000
     },
     "inputWidgets": {},
     "nuid": "0909cf41-f4c4-4dea-875b-8320a9a1f402",
     "showTitle": false,
     "title": ""
    }
   },
   "outputs": [
    {
     "output_type": "stream",
     "name": "stdout",
     "output_type": "stream",
     "text": [
      "+--------+--------------------+---------+--------------------+-------------+----+\n|match_id|         toss_winner|toss_name|        match_winner|match_outcome|team|\n+--------+--------------------+---------+--------------------+-------------+----+\n|  335987|Royal Challengers...|    field|Kolkata Knight Ri...|         Lost| RCB|\n|  335988| Chennai Super Kings|      bat| Chennai Super Kings|          Won| CSK|\n|  335989|    Rajasthan Royals|      bat|    Delhi Daredevils|         Lost|  RR|\n|  335990|      Mumbai Indians|      bat|Royal Challengers...|         Lost|  MI|\n|  335991|     Deccan Chargers|      bat|Kolkata Knight Ri...|         Lost|  DC|\n|  335992|     Kings XI Punjab|      bat|    Rajasthan Royals|         Lost|KBPS|\n|  335993|     Deccan Chargers|      bat|    Delhi Daredevils|         Lost|  DC|\n|  335994|      Mumbai Indians|    field| Chennai Super Kings|         Lost|  MI|\n|  335995|    Rajasthan Royals|    field|    Rajasthan Royals|          Won|  RR|\n|  335996|      Mumbai Indians|    field|     Kings XI Punjab|         Lost|  MI|\n|  335997|    Rajasthan Royals|    field|    Rajasthan Royals|          Won|  RR|\n|  335998|Kolkata Knight Ri...|      bat| Chennai Super Kings|         Lost| KKR|\n|  335999|     Deccan Chargers|    field|     Deccan Chargers|          Won|  DC|\n|  336000|    Delhi Daredevils|      bat|     Kings XI Punjab|         Lost|  DC|\n|  336001| Chennai Super Kings|      bat| Chennai Super Kings|          Won| CSK|\n|  336002|Kolkata Knight Ri...|      bat|      Mumbai Indians|         Lost| KKR|\n|  336003|Royal Challengers...|    field|    Delhi Daredevils|         Lost| RCB|\n|  336004|     Kings XI Punjab|    field|     Kings XI Punjab|          Won|KBPS|\n|  336005|    Rajasthan Royals|      bat|    Rajasthan Royals|          Won|  RR|\n|  336006| Chennai Super Kings|      bat|    Delhi Daredevils|         Lost| CSK|\n+--------+--------------------+---------+--------------------+-------------+----+\nonly showing top 20 rows\n\n"
     ]
    }
   ],
   "source": [
    "toss_impact_individual_matches = spark.sql(\"\"\"\n",
    "SELECT m.match_id, m.toss_winner, m.toss_name, m.match_winner,\n",
    "       CASE WHEN m.toss_winner = m.match_winner THEN 'Won' ELSE 'Lost' END AS match_outcome,\n",
    "        case m.toss_winner when 'Sunrisers Hyderabad' then 'SRH'\n",
    "          when 'Chennai Super Kings' then 'CSK'\n",
    "          when 'Rising Pune Supergiant' then 'RPS' \n",
    "          when 'Rising Pune Supergiants' then 'RPS'\n",
    "          when 'Deccan Chargers' then 'DC'\n",
    "          when 'Kochi Tuskers Kerala' then 'KTK' \n",
    "          when 'Rajasthan Royals' then 'RR'\n",
    "          when 'Gujarat Lions' then 'GL'\n",
    "          when 'Royal Challengers Bangalore' then 'RCB'\n",
    "          when  'Kolkata Knight Riders' then 'KKR' \n",
    "          when 'Kings XI Punjab' then 'KBPS'\n",
    "          when 'Pune Warriors' then 'PWI'\n",
    "          when 'Delhi Daredevils' then 'DC'\n",
    "          when 'Mumbai Indians' then 'MI' end as team\n",
    "FROM match m\n",
    "WHERE m.toss_name IS NOT NULL\n",
    "ORDER BY m.match_id\n",
    "\"\"\")\n",
    "toss_impact_individual_matches.show()\n"
   ]
  },
  {
   "cell_type": "code",
   "execution_count": 0,
   "metadata": {
    "application/vnd.databricks.v1+cell": {
     "cellMetadata": {
      "byteLimit": 2048000,
      "rowLimit": 10000
     },
     "inputWidgets": {},
     "nuid": "486632b1-3afb-40a7-8d67-9f4f41d05d83",
     "showTitle": false,
     "title": ""
    }
   },
   "outputs": [
    {
     "output_type": "stream",
     "name": "stdout",
     "output_type": "stream",
     "text": [
      "+---------------------------+----+\n|toss_winner                |team|\n+---------------------------+----+\n|Kolkata Knight Riders      |KKR |\n|Pune Warriors              |PWI |\n|Royal Challengers Bangalore|RCB |\n|Mumbai Indians             |MI  |\n|Delhi Daredevils           |DC  |\n|Kochi Tuskers Kerala       |KTK |\n|Rajasthan Royals           |RR  |\n|Deccan Chargers            |DC  |\n|Sunrisers Hyderabad        |SRH |\n|Chennai Super Kings        |CSK |\n|Kings XI Punjab            |KBPS|\n|Gujarat Lions              |GL  |\n|Rising Pune Supergiant     |RPS |\n|Rising Pune Supergiants    |RPS |\n+---------------------------+----+\n\n"
     ]
    }
   ],
   "source": [
    "spark.sql(\"\"\" \n",
    "          select distinct (toss_winner),\n",
    "          case toss_winner when 'Sunrisers Hyderabad' then 'SRH'\n",
    "          when 'Chennai Super Kings' then 'CSK'\n",
    "          when 'Rising Pune Supergiant' then 'RPS' \n",
    "          when 'Rising Pune Supergiants' then 'RPS'\n",
    "          when 'Deccan Chargers' then 'DC'\n",
    "          when 'Kochi Tuskers Kerala' then 'KTK' \n",
    "          when 'Rajasthan Royals' then 'RR'\n",
    "          when 'Gujarat Lions' then 'GL'\n",
    "          when 'Royal Challengers Bangalore' then 'RCB'\n",
    "          when  'Kolkata Knight Riders' then 'KKR' \n",
    "          when 'Kings XI Punjab' then 'KBPS'\n",
    "          when 'Pune Warriors' then 'PWI'\n",
    "          when 'Delhi Daredevils' then 'DC'\n",
    "          when 'Mumbai Indians' then 'MI' end as team\n",
    "          from match\n",
    "          where toss_winner!='null'\n",
    "          \"\"\").show(truncate=False)"
   ]
  },
  {
   "cell_type": "code",
   "execution_count": 0,
   "metadata": {
    "application/vnd.databricks.v1+cell": {
     "cellMetadata": {
      "byteLimit": 2048000,
      "rowLimit": 10000
     },
     "inputWidgets": {},
     "nuid": "e5f6bca0-efc1-444f-9fae-783abe11af80",
     "showTitle": false,
     "title": ""
    }
   },
   "outputs": [
    {
     "output_type": "display_data",
     "data": {
      "image/png": "[encoded data removed]"
     },
     "metadata": {
      "application/vnd.databricks.v1+output": {
       "addedWidgets": {},
       "arguments": {},
       "data": "data:image/png;base64,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\n",
       "datasetInfos": [],
       "metadata": {},
       "removedWidgets": [],
       "type": "image"
      }
     },
     "output_type": "display_data"
    }
   ],
   "source": [
    "toss_impact_pd = toss_impact_individual_matches.toPandas()\n",
    "\n",
    "# Creating a countplot to show win/loss after winning toss\n",
    "plt.figure(figsize=(10, 6))\n",
    "sns.countplot(x='team', hue='match_outcome', data=toss_impact_pd)\n",
    "plt.title('Impact of Winning Toss on Match Outcomes')\n",
    "plt.xlabel('Toss Winner')\n",
    "plt.ylabel('Number of Matches')\n",
    "plt.legend(title='Match Outcome')\n",
    "plt.xticks(rotation=45)\n",
    "plt.tight_layout()\n",
    "plt.show()\n"
   ]
  },
  {
   "cell_type": "code",
   "execution_count": 0,
   "metadata": {
    "application/vnd.databricks.v1+cell": {
     "cellMetadata": {
      "byteLimit": 2048000,
      "rowLimit": 10000
     },
     "inputWidgets": {},
     "nuid": "7fb289be-00d8-445f-8605-29272965b02f",
     "showTitle": false,
     "title": ""
    }
   },
   "outputs": [
    {
     "output_type": "stream",
     "name": "stdout",
     "output_type": "stream",
     "text": [
      "+---------------+-------------------+--------------+\n|    player_name|   avg_runs_in_wins|innings_played|\n+---------------+-------------------+--------------+\n|smsm senanayake|                0.0|             1|\n|     kp appanna|                0.0|             1|\n|      jj bumrah|                0.0|             3|\n|       i sharma|                0.0|             1|\n|       ts mills|                0.0|             3|\n|        a nehra|                0.0|             2|\n|       j theron|                0.0|             2|\n|       vr aaron|                0.0|             5|\n|      sn thakur|                0.0|             2|\n|  anirudh singh|                0.0|             1|\n|     t thushara|                0.2|             5|\n|      sa abbott|               0.25|             4|\n|  yashpal singh|                0.3|            20|\n|    s sreesanth| 0.3333333333333333|             3|\n|    kc cariappa| 0.3333333333333333|             3|\n|     jd unadkat|                0.4|             5|\n|     sm harwood|0.42857142857142855|             7|\n|        jm kemp| 0.4444444444444444|             9|\n|     m de lange|                0.5|             2|\n| nm coulternile|                0.5|             4|\n+---------------+-------------------+--------------+\nonly showing top 20 rows\n\n"
     ]
    }
   ],
   "source": [
    "average_runs_in_wins = spark.sql(\"\"\"\n",
    "SELECT p.player_name, AVG(b.runs_scored) AS avg_runs_in_wins, COUNT(*) AS innings_played\n",
    "FROM ball_by_ball b\n",
    "JOIN player_match pm ON b.match_id = pm.match_id AND b.striker = pm.player_id\n",
    "JOIN player p ON pm.player_id = p.player_id\n",
    "JOIN match m ON pm.match_id = m.match_id\n",
    "WHERE m.match_winner = pm.player_team\n",
    "GROUP BY p.player_name\n",
    "ORDER BY avg_runs_in_wins ASC\n",
    "\"\"\")\n",
    "average_runs_in_wins.show()\n"
   ]
  },
  {
   "cell_type": "code",
   "execution_count": 0,
   "metadata": {
    "application/vnd.databricks.v1+cell": {
     "cellMetadata": {
      "byteLimit": 2048000,
      "rowLimit": 10000
     },
     "inputWidgets": {},
     "nuid": "1d5f8094-ee45-4c40-9738-b71125621044",
     "showTitle": false,
     "title": ""
    }
   },
   "outputs": [
    {
     "output_type": "display_data",
     "data": {
      "image/png": "[encoded data removed]"
     },
     "metadata": {
      "application/vnd.databricks.v1+output": {
       "addedWidgets": {},
       "arguments": {},
       "data": "data:image/png;base64,iVBORw0KGgoAAAANSUhEUgAAA1gAAAI4CAYAAAB3HEhGAAAAOXRFWHRTb2Z0d2FyZQBNYXRwbG90bGliIHZlcnNpb24zLjUuMSwgaHR0cHM6Ly9tYXRwbG90bGliLm9yZy/YYfK9AAAACXBIWXMAAAsTAAALEwEAmpwYAABbHUlEQVR4nO3debytc/XA8c8yZqZcGkxFEypKEU0KIUOpZI6UJiQaVIqK5nn8pVlSQqk00YQGMkRUmpAh8zyP6/fH+h62455zz+XZZ599zuf9et3XPefZ0zrPfvazn/Ud1jcyE0mSJEnSgzfPoAOQJEmSpOnCBEuSJEmSOmKCJUmSJEkdMcGSJEmSpI6YYEmSJElSR0ywJEmSJKkjJliSNGAR8Y2IOHCM23aOiN9NdkzDKiKeHRH/mKTX+llEvLKD51khIm6MiHm7iGvQxjueO36dWRFxTkQs1O/XEkTEnyJitUHHIQ0DEyxpCouI30bENRGx4KBjebAi4oCIuKNdSF4bEX+IiGcOII53RsR5LY6LIuLwyY5hUNrxdGv726+LiBMi4klz8fiMiFX6GeODlZknZubj5/ZxETFf2y9r92zbvv3No7ed015rk8z8ZgcxX5CZi2bmXQ/2uUZryU5GxJajtn+ybd95gs9zfkRs0HV8D9K+wDcy85aI+Gt7/26MiLt6jvMbI+KdXbxYRKwfEb9pn53zZ3P7Su32m1viN+b+iojlIuKoiLiyPd/ZE30vBuhjwPsGHYQ0DEywpCkqIlYCng0ksEUfnn++rp9zAg7PzEWBpYHfAEdM5ou33oYdgQ1aHGsBv+r4NQaxX+fG7u1vfyjwW+Bbgw1nasjMO4E/As/p2fwc4JzZbDthEkPrwj+BnUZ+acfo1sB/BhbRg9QanV4JHAqQmau1JHVR4ETacd7+faCjl70J+Brw1jFu/w7wZ+BhwLuAIyNi1hj3/RZwIbBiu/+OwGUdxQnM/bloAvf/EbB+RDz8gUclzQwmWNLUtRNwEvAN6kKCiFiw9f6sPnKnNkzmlohYpv2+WUSc0dNL9OSe+54fEW+PiL8AN7VW+30j4j8RcUNE/C0iXtJz/3kj4uOtlfW8iNi9tXrP125fIiK+GhGXRMTFEXHgRIY5tYvZbwOPGrkAGd1C3nq8Dm0/r9Re95URcUGL5109931GRJwaEddHxGUR8YkxXvrpwC8y8z8tjksz8+Ce53loRHw9Iv7Xeg6P7rntNRHx74i4OiJ+FBGP7LktI+KNEfEv4F8TeB/WjIjT2z4/HHjIHHZZRMTnWkv3ORHxgrbx5RFx2qg77h0RP5zD89F6S74LrNrz2GdExB9bzJe011yg3TaSVJzZegVeERFLR8Qx7f5XR8SJETFPu//5EfHWiPhLRNzUjpNlo4bV3RARv4yIpXpee522n66NiDMj4nk9t/02It4fEb9vjz02IpYeY0c9LyIu6vn9/Ih4S4vjuog4PCLG2t8ncN9k6tnAh2ez7YSeuF7dft45In4XER9rx855EbHJRP6GnuN7vjndt92+U0T8NyKuioh3j/7szMaPgWf17O+Ngb8Al/Y858oR8ev2nFdGxLcjYsl227eAFYAft/f+bW37s3reswvjvj0wS0XET1r8J0fEyj2v9YSIOK4dM/+IiK17bts06jx0Q9Q55S1j/E1rA9dm5kVj3D7yfPNExH5tf10eEYdExBKj9vtuUZ/5S8Z5PTLzT5n5LeDc2bzO44CnAvtn5i2ZeRRwFvDSMZ7u6VTv202ZeWdm/jkzf9bzfLPdt1Hn3EMi4or2N+3X85nbuR0zn4yIq4ADor4zPhZ13rwsIv4v2pDKkc9K1HfCpcDXY5zPdGbeCpwGvHC8fS7JBEuaynaikpBvAy+MiGUz8zbg+8C2PffbGjg+My+PiDWpFtbXUq2iXwJ+FPcdYrgt8CJgyZbo/Ie6aFwCeC9waEQ8ot33NcAmwBrUxcOLR8X4DeBOYBVgTWAj4NVz+sOiLtp3Aq4CrpnT/Xs8C3g88ALgPRHxxLb908CnM3NxYGXge2M8/iRgp6gL/7Xi/sngt4CFgdWAZYBPtnifD3yQ2tePAP5LJSe9Xkxd9K063vvQ/vaj22s9lOrFG+sibMTa1Pu0NLA/8P2IeCjVovzonv0A1RJ+yByeb+Q92J7aJyPuAt7cXueZ1H5+A0BmjiQZT2m9AocD+wAXAbOAZYF3Uj2uI14KbAg8Dtgc+Fm7zyzq+2fPFsujgJ8AB7Z98hbgqLhv6/92wC7U+7JAu89EbU0lFY8GngzsPMb9TgDWaxflSwOLUMfSM3q2PZGxe7DWBv5B7b+PAF+NiHiAf8Ns7xsRqwJfoN67R1Cf20eN8zwAtwI/BLZpv+/E/Y+RoI7xR7a/cXngAIDM3BG4ANi8vfcfiYgVqffzs9T7uQZwRs/zbUOdT5YC/g0c1OJfBDgOOKz9bdsAX2h/F8BXgddm5mLA6sCvx/ibnkTt6znZuf1bH3gMsCjwuVH3WR94LHX+evscktWxrAacm5k39Gw7s22fnZOAz0fENhGxQu8Nc9i3n6Xe88cAz6Xey116Hr42lQAuS+3zD1GfvzWo8/SjgPf03P/h1GduRWA35vyZ/jvwlDH+JkmNCZY0BUXEs6gvvO9l5mnUxfV27ebDuPdCibb9sPbzbsCXMvPkzLyrzQ+5DVin5/6fycwLM/MWgMw8IjP/l5l3t4vmfwHPaPfdmkpcLsrMa6gv65EYlwU2BfZqrbCXUwlJb2yjbR0R1wK3UMnby1qSN1Hvba3DZ1IXLyNf9HcAq0TE0pl5Y2aeNLsHZ+ahwB5UC+zxwOUR8fb29zyCSiZfl5nXZOYdmXl8e+j2wNcy8/SW5L4DeGbUMM4RH8zMq9t+He99WAeYH/hUe40jgVPm8Hdf3nP/w6kLyxe1WA4Hdmh/w2rASsAx4zzXZ9p7cAOwO3URPLJ/TsvMk1qL+vlUYvjccZ7rDuoif8UW24mZ2Xsx9tnMvCwzL6aGbZ3cWupvBX5AJeW0+H+amT9tx+FxwKnU8TXi65n5z7Z/v0ddME7UZ9oxfjXVmzPWY0+mEuwnUY0Ov8vMm4Hzeradn5kXjPH4/2bml1vv4DepfbPsA/wbxrrvy4AfZ+bvMvN26mI5x3iOXodQjQtLUu/p0b03Zua/M/O4zLwtM68APsH47/12wC8z8zvtvb8qM8/ouf0HrcdnpLd6JP7NqH349ZGeG+Ao4OXt9juoRorF2+fw9DFef0nqGJ6T7YFPZOa5mXkj9dndJu47HO697Rx2FvB17tuANVGLAteN2nYdsNgY93859Zl4N3BeVG/309tts923rUFoG+AdmXlD+4x+nGpUGfG/zPxs2++3UueiN7dz0w3AB7jvOfpuqtfttnaszekzfQO17yWNwwRLmppeCRybmVe23w9r26DmLi0cEWu3C/w1qItVqKRsnza849p2Ib081So94sLeF4oabnRGz/1Xp1rgaY+7cIzHrkglCpf0PPZLVKv0WL6XmUtSF51nA08b576zc2nPzzdTFzUAu1KttOdExCkRsdlYT5CZ387MDaiLhNcB74+IF1L76eqWSI72SKrXauQ5bqR633p7Dkbvm7Heh0cCF4+6aPkv45vd/Ufe028C27Wekh2pfXzbOM+1Z3sPFqIudo+MNnwxIh7XhgddGhHXUxdjsx2K13yU6p04NiLOjYh9R93eO6fkltn8PvL+rQi8fNT+ehZ1oTdirPd+Iib02Jb4/YkaEvgc6gIY4Hc928abf3XP67TEjFGvNTd/w1j3vc9nsr3OVeM8z8j9fkf1SrwLOGakgWVE1PDN77ZheddTc5vGe++XZ/w5XGPFvyKw9qj3enuqJwWq13NT4L8RcXyMXQjnGsZOXnrd57Pbfp6P+ya+F466vfd8OVE3AouP2rY4YySBLXncNzNXa7GcARzdPsdj7dulqXPu6L9nrPPQLKrB4LSeff3ztn3EFe24HzGnz/RiwLWz+5sk3csES5pi2vj4rYHntgvdS6lhW0+JiKe01vHvUa2s21IXSyNf4hcCB2Xmkj3/Fs7M7/S8RPa81orAl6mejIe1C++zqeFCAJcAy/U8dvmeny+kemWW7nmtxdsFw7ha4rgbNUdg5CL6JupiYMSEJ1Jn5r8yc1squfswlTQsMofH3JGZR1BzUVZvf89DWwv/aP+jLgyBe4Y5PQy4uPcpe34e7324hJp71jt07D5DhGZjdvf/X/s7TgJup3pXtmOCRStaT9GJ1MXURm3zF6miDo/NGm75Tu49Fmb3HDdk5j6Z+RiqEMve0eaHzaULgW+N2l+LZOaH5vjI7o3Mw3o29yZYJ/ZsG3SBi/t8Jtv54mETfOyh1BCw2Q0h/QB1DD+pvfc7cN/3fnQv2YXUcNy5dSE1pLn3vV40M18PkJmnZOaW1Gf5aMYe7vsXqlFlTu7z2aU+O3dy32R/+VG3/29Cf8l9/RV4TET0Jn1PadvH1c6HH6MSu4cy9r69kuphGv33jHUeupJqyFitZ18vkVUIZHb3n8hn+onU6AFJ4zDBkqaeF1NzYValeqfWoL7UTuTeSmCHAa+gWn4P63nsl4HXtd6tiIhFIuJFo770ey1CfcFeARARu1DJxojvAW+KiEe1xOPtIzdk5iXAscDHI2LxNkdl5YgYb1jRPTLzH8AvgLe1TWdQQ3fmj4i1qKFQExIRO0TErMy8m3tbV++ezf12HtkfLd5NqDkSJ7e/52fUfJClWhwj846+A+wSEWtEzWf7QHvM+WOENN778EfqAm/P9hpbce+QzLEs03P/l1PHw097bj+EmldyR+upmJDWO7Aq914ELgZcD9wYEU8AXj/qIZdRcz9GHr9ZRKzSkr/rqOP2fvt9Ag4FNo+IF0YVVnlI1AT85eb4yO6dQM3JWR74W9v2e+B51Gdx0AnWkdS+WjdqHt0BjJMEj/IZak7c7P6GxahemOui5sSNrpR3n/eeGva3QURsHVUs52ERscYEYjgGeFxE7NiO5/kj4ukR8cSIWCCqDP4SmXkHdSyOdTz9CViyxTqe7wBvjohHR8Si1Gf38Lzv0OR3R8TCUUNsd6GG3d5PO2c8hOpFinacLgCQmf+kzmH7t+0voeb7HTXGc304IlZv+24x6rP278y8ijH2bU/j2kHtHLYisDetkuJo7Xz4ZeCTcW8RpEdF9djP1nif6fa3P42aQydpHCZY0tTzSmr+xQVZVe4uzcxLqQvo7SNivsw8merxeSSVFACQmadSc5s+Rw2h+TdjT+gnM/9GjeH/I3UB9STqYnLEl6kk6i9U+eGfUsnByHo9O1ET8P/WXu9I7jusa04+CuzWvvzfTbXaXkPNCzpsvAeOsjHw14i4kSp4sc3oIVDN9VSvzAVUIvYR4PU9ScmOVAvxOdS8p70AMvOXLb6jqB6ElRlnrtl470PWvJmt2u9XU4ny9+fw951MTcK/kpq4/rJ2ITbiW1RiPNsLrVE+F219oPa4/fLe6mVvoXrBbqDe+9EXmgcA34wabrR1i+mX1IX5H4EvZOZvJhDDfWTmhcCW1HtzBdWC/1YG8x31B6qIwMkjwzJbD8MVwOWZ+a8BxHSPzPwrNY/wu9SxeCN1rI43LHTksVdn5q9GDTcd8V6qkM11VMGR0cfkB4H92nv/lqx5aJtSPWJXU8nFHIsftN72jajPz/+ooYQfBkYK8ewInB81TPF1VCPS7J7ndqrIzg5zeMmvUcf5CdRculup/dfreOoz+ivgY5l57BjP9RyqR+inVM/RLdT5ccQ21NIPI/NVX5Y1n212FqaGdl9LFaVYkbYcxxz27R7Uuf9caujqYe1vHMvb2992Utunv6QKBY1lvM/05sBvM/OB9PBJM0rM/jwrSffXenz+LzNXnOOdNWnaMLHLgacOOgHQ5Gq9MtdSwzrPG3A4kyqqyuSJwJpjNKjM6fErUUnX/Dl3xXZmpIg4Gdg1M88edCzSVGcPlqQxRcRCUevSzNeG4uzPvQU1NHW8HjjF5GpmiIjN25C2Rai5O2cB5w82qsmXmVdk5hMeSHKluZeZa5tcSRMzV6t8S5pxgho6dDg1HOYn3HcNFQ1YRJxPvU8vHmwkmkRbUsPegipnv80Yw/4kSQPgEEFJkiRJ6ohDBCVJkiSpI1NqiODSSy+dK6200qDDkCRJkqRxnXbaaVdm5qzR26dUgrXSSitx6qmnDjoMSZIkSRpXRPx3dtsdIihJkiRJHTHBkiRJkqSOmGBJkiRJUkdMsCRJkiSpIyZYkiRJktQREyxJkiRJ6ogJliRJkiR1xARLkiRJkjpigiVJkiRJHTHBkiRJkqSOmGBJkiRJUkdMsCRJkiSpIyZYkiRJktQREyxJkiRJ6ogJliRJkiR1xARLkiRJkjpigiVJkiRJHelrghURS0bEkRFxTkT8PSKe2c/XkyRJkqRBmq/Pz/9p4OeZ+bKIWABYuM+vJ0mSJEkD07cEKyKWAJ4D7AyQmbcDt/fr9SRJkiRp0PrZg/Vo4Arg6xHxFOA04E2ZeVPvnSJiN2A3gBVWWGHcJ3zaWw/pT6RD5LSP7jToECRJkiSNoZ9zsOYDngp8MTPXBG4C9h19p8w8ODPXysy1Zs2a1cdwJEmSJKm/+plgXQRclJknt9+PpBIuSZIkSZqW+pZgZealwIUR8fi26QXA3/r1epIkSZI0aP2uIrgH8O1WQfBcYJc+v54kSZIkDUxfE6zMPANYq5+vIUmSJElTRV8XGpYkSZKkmcQES5IkSZI6YoIlSZIkSR0xwZIkSZKkjphgSZIkSVJHTLAkSZIkqSMmWJIkSZLUERMsSZIkSeqICZYkSZIkdcQES5IkSZI6YoIlSZIkSR0xwZIkSZKkjphgSZIkSVJHTLAkSZIkqSMmWJIkSZLUERMsSZIkSeqICZYkSZIkdcQES5IkSZI6YoIlSZIkSR0xwZIkSZKkjphgSZIkSVJHTLAkSZIkqSMmWJIkSZLUERMsSZIkSeqICZYkSZIkdcQES5IkSZI6YoIlSZIkSR0xwZIkSZKkjphgSZIkSVJHTLAkSZIkqSMmWJIkSZLUERMsSZIkSeqICZYkSZIkdcQES5IkSZI6YoIlSZIkSR0xwZIkSZKkjphgSZIkSVJHTLAkSZIkqSMmWJIkSZLUERMsSZIkSeqICZYkSZIkdcQES5IkSZI6YoIlSZIkSR0xwZIkSZKkjphgSZIkSVJHTLAkSZIkqSMmWJIkSZLUERMsSZIkSeqICZYkSZIkdcQES5IkSZI6YoIlSZIkSR0xwZIkSZKkjphgSZIkSVJHTLAkSZIkqSMmWJIkSZLUERMsSZIkSeqICZYkSZIkdcQES5IkSZI6YoIlSZIkSR0xwZIkSZKkjphgSZIkSVJHTLAkSZIkqSPz9fPJI+J84AbgLuDOzFyrn68nSZIkSYPU1wSrWT8zr5yE15EkSZKkgXKIoCRJkiR1pN8JVgLHRsRpEbFbn19LkiRJkgaq30MEn5WZF0fEMsBxEXFOZp7Qe4eWeO0GsMIKK/Q5HEmSJEnqn772YGXmxe3/y4EfAM+YzX0Ozsy1MnOtWbNm9TMcSZIkSeqrviVYEbFIRCw28jOwEXB2v15PkiRJkgatn0MElwV+EBEjr3NYZv68j68nSZIkSQPVtwQrM88FntKv55ckSZKkqcYy7ZIkSZLUERMsSZIkSeqICZYkSZIkdcQES5IkSZI6YoIlSZIkSR0xwZIkSZKkjphgSZIkSVJHTLAkSZIkqSMmWJIkSZLUERMsSZIkSeqICZYkSZIkdcQES5IkSZI6YoIlSZIkSR0xwZIkSZKkjphgSZIkSVJHTLAkSZIkqSMmWJIkSZLUERMsSZIkSeqICZYkSZIkdcQES5IkSZI6YoIlSZIkSR0xwZIkSZKkjphgSZIkSVJHTLAkSZIkqSMmWJIkSZLUERMsSZIkSeqICZYkSZIkdcQES5IkSZI6YoIlSZIkSR0xwZIkSZKkjphgSZIkSVJHTLAkSZIkqSMmWJIkSZLUERMsSZIkSeqICZYkSZIkdcQES5IkSZI6YoIlSZIkSR0xwZIkSZKkjphgSZIkSVJHTLAkSZIkqSMmWJIkSZLUERMsSZIkSeqICZYkSZIkdcQES5IkSZI6YoIlSZIkSR0xwZIkSZKkjphgSZIkSVJHTLAkSZIkqSMmWJIkSZLUERMsSZIkSeqICZYkSZIkdcQES5IkSZI6YoIlSZIkSR0xwZIkSZKkjphgSZIkSVJHTLAkSZIkqSMmWJIkSZLUERMsSZIkSeqICZYkSZIkdcQES5IkSZI6YoIlSZIkSR0xwZIkSZKkjphgSZIkSVJH+p5gRcS8EfHniDim368lSZIkSYM0GT1YbwL+PgmvI0mSJEkD1dcEKyKWA14EfKWfryNJkiRJU0G/e7A+BbwNuHusO0TEbhFxakScesUVV/Q5HEmSJEnqn74lWBGxGXB5Zp423v0y8+DMXCsz15o1a1a/wpEkSZKkvutnD9Z6wBYRcT7wXeD5EXFoH19PkiRJkgaqbwlWZr4jM5fLzJWAbYBfZ+YO/Xo9SZIkSRo018GSJEmSpI7MNxkvkpm/BX47Ga8lSZIkSYNiD5YkSZIkdcQES5IkSZI6YoIlSZIkSR2ZY4IVEetFxCLt5x0i4hMRsWL/Q5MkSZKk4TKRHqwvAjdHxFOAfYD/AIf0NSpJkiRJGkITSbDuzMwEtgQ+l5mfBxbrb1iSJEmSNHwmUqb9hoh4B7AD8JyImAeYv79hSZIkSdLwmUgP1iuA24BdM/NSYDngo32NSpIkSZKG0Bx7sFpS9Yme3y/AOViSJEmSdD8TqSK4VUT8KyKui4jrI+KGiLh+MoKTJEmSpGEykTlYHwE2z8y/9zsYSZIkSRpmE5mDdZnJlSRJkiTN2UR6sE6NiMOBo6liFwBk5vf7FZQkSZIkDaOJJFiLAzcDG/VsS8AES5IkSZJ6TKSK4C6TEYgkSZIkDbsxE6yIeFtmfiQiPkv1WN1HZu7Z18gkSZIkaciM14M1Utji1MkIRJIkSZKG3XgJ1soR8Qzg25l552QFJEmSJEnDarwEazngU8ATIuIs4PfAH4A/ZObVkxCbJEmSJA2VMROszHwLQEQsAKwFrAvsAhwcEddm5qqTE6IkSZIkDYeJlGlfiCrVvkT79z/grH4GJUmSJEnDaLwqggcDqwE3ACdTwwM/kZnXTFJskiRJkjRU5hnnthWABYFLgYuBi4BrJyEmSZIkSRpK483B2jgigurFWhfYB1g9Iq4G/piZ+09SjJIkSZI0FMadg5WZCZwdEdcC17V/mwHPAEywJEmSJKnHeHOw9qR6rtYF7qCVaAe+hkUuJEmSJOl+xuvBWgk4AnhzZl4yOeFIkiRJ0vAabw7W3pMZiCRJkiQNu/GqCEqSJEmS5oIJliRJkiR1xARLkiRJkjoyxwQrIraKiH9FxHURcX1E3BAR109GcJIkSZI0TMZdB6v5CLB5Zv6938FIkiRJ0jCbyBDBy0yuJEmSJGnOJtKDdWpEHA4cDdw2sjEzv9+voCRJkiRpGE0kwVocuBnYqGdbAiZYkiRJktRjjglWZu4yGYFIkiRJ0rAbM8GKiLdl5kci4rNUj9V9ZOaefY1MkiRJkobMeD1YI4UtTp2MQCRJkiRp2I2ZYGXmj9v/35y8cCRJkiRpeE2kTLskSZIkaQJMsCRJkiSpIxMp065p5IL3PWnQIQzcCu85a9AhSJIkaZqaYw9WRHwkIhaPiPkj4lcRcUVE7DAZwUmSJEnSMJnIEMGNMvN6YDPgfGAV4K39DEqSJEmShtFEEqyRYYQvAo7IzOv6GI8kSZIkDa2JzME6JiLOAW4BXh8Rs4Bb+xuWJEmSJA2fOfZgZea+wLrAWpl5B3ATsGW/A5MkSZKkYTPRKoJPAFaKiN77H9KHeCRJkiRpaM0xwYqIbwErA2cAd7XNiQmWJEmSJN3HRHqw1gJWzczsdzCSJEmSNMwmUkXwbODh/Q5EkiRJkobdRHqwlgb+FhF/Am4b2ZiZW/QtKkmSJEkaQhNJsA7odxCSJEmSNB3MMcHKzOMnIxBJkiRJGnYTqSJ4A1U1EGABYH7gpsxcvJ+BSZIkSdKwmUgP1mIjP0dEUIsMr9PPoCRJkiRpGE2kiuA9shwNvLA/4UiSJEnS8JrIEMGten6dh1oX69a+RSRJkiRJQ2oiVQQ37/n5TuB8wBLtkiRJkjTKROZg7dL7e0QsBbwBOKhfQUmSJEnSMBpzDlZELB8RB0fEMRGxa0QsEhEfB/4BLDN5IUqSJEnScBivB+sQ4HjgKGBj4FTgDODJmXlp/0OTJEmSpOEyXoL10Mw8oP38i4h4ObB9Zt49kSeOiIcAJwALttc5MjP3fzDBSpIkSdJUNu4crDbfKtqvVwFLtLWwyMyr5/DctwHPz8wbI2J+4HcR8bPMPOnBBi1JkiRJU9F4CdYSwGncm2ABnN7+T+Ax4z1xZiZwY/t1/vYvH1iYkiRJkjT1jZlgZeZKD/bJI2JeKklbBfh8Zp48m/vsBuwGsMIKKzzYl5QmxXqfXW/QIQzc7/f4/YN6/PHPeW5HkQyv555w/KBDkCRJHRuzimAXMvOuzFwDWA54RkSsPpv7HJyZa2XmWrNmzepnOJIkSZLUV31NsEZk5rXAb6hqhJIkSZI0LfUtwYqIWRGxZPt5IWBD4Jx+vZ4kSZIkDdqEEqyIeFZE7NJ+nhURj57Awx4B/CYi/gKcAhyXmcc88FAlSZIkaWobt0w7QETsD6wFPB74OlUN8FBg3Fn+mfkXYM0OYpQkSZKkoTCRHqyXAFsANwFk5v+AxfoZlCRJkiQNo4kkWLe3Na0SICIW6W9IkiRJkjScJpJgfS8ivgQsGRGvAX4JfLm/YUmSJEnS8JnjHKzM/FhEbAhcT83Dek9mHtf3yCRJkiRpyMwxwQJoCZVJlSRJkiSNYyJVBG+gzb/qcR1wKrBPZp7bj8AkSZIkadhMpAfrU8BFwGFAANsAKwOnA18Dnten2CRJkiRpqEykyMUWmfmlzLwhM6/PzIOBF2bm4cBSfY5PkiRJkobGRBKsmyNi64iYp/3bGri13TZ66KAkSZIkzVgTSbC2B3YELgcuaz/vEBELAbv3MTZJkiRJGioTKdN+LrD5GDf/rttwJEmSJGl4TaSK4EOAXYHVgIeMbM/MV/UxLkmSJEkaOhMZIvgt4OHAC4HjgeWAG/oZlCRJkiQNo4kkWKtk5ruBmzLzm8CLgLX7G5YkSZIkDZ+JJFh3tP+vjYjVgSWAZfoXkiRJkiQNp4ksNHxwRCwF7Af8CFgUeHdfo5IkSZKkITRughUR8wDXZ+Y1wAnAYyYlKkmSJEkaQuMOEczMu4G3TVIskiRJkjTUJjIH65cR8ZaIWD4iHjryr++RSZIkSdKQmcgcrFe0/9/Ysy1xuKAkSZIk3cccE6zMfPRkBCJJkiRJw26OQwQjYuGI2C8iDm6/PzYiNut/aJIkSZI0XCYyB+vrwO3Auu33i4ED+xaRJEmSJA2piSRYK2fmR2gLDmfmzUD0NSpJkiRJGkITKXJxe0QsRBW2ICJWBm7ra1SSpAn53D4/HnQIA7f7xzcfdAiSJN1jIgnWAcDPgeUj4tvAesDOfYxJkiRJkobSRKoIHhsRpwHrUEMD35SZV/Y9MkmSJEkaMnNMsCLix8BhwI8y86b+hyRJkiRJw2kiRS4+Bjwb+FtEHBkRL4uIh/Q5LkmSJEkaOhMZIng8cHxEzAs8H3gN8DVg8T7HJkmSJElDZSJFLmhVBDcHXgE8FfhmP4OSJEmSpGE0kTlY3wOeQVUS/BxwfGbe3e/AJEmSJGnYTKQH66vAtpl5F0BEPCsits3MN/Y3NEmSJEkaLhOZg/WLiFgzIrYFtgbOA77f98gkSZIkaciMmWBFxOOAbdu/K4HDgcjM9ScpNkmSJEkaKuP1YJ0DnAhslpn/BoiIN09KVJIkSZI0hMZbB2sr4BLgNxHx5Yh4ARCTE5YkSZIkDZ8xe7Ay82jg6IhYBNgS2AtYJiK+CPwgM4+dlAglSeqjg3Z42aBDGLh3HXrkoEOQpGljvB4sADLzpsw8LDM3B5YD/gy8ve+RSZIkSdKQmWOC1Sszr8nMgzPzBf0KSJIkSZKG1VwlWJIkSZKksZlgSZIkSVJH5rjQsCRJ0pz8/aBfDzqEgXviu54/6BAkTQH2YEmSJElSR+zBkiRJmgIOOOCAQYcwcO4DTQf2YEmSJElSR0ywJEmSJKkjJliSJEmS1BETLEmSJEnqiAmWJEmSJHXEBEuSJEmSOmKCJUmSJEkdMcGSJEmSpI6YYEmSJElSR0ywJEmSJKkjJliSJEmS1BETLEmSJEnqiAmWJEmSJHXEBEuSJEmSOmKCJUmSJEkdMcGSJEmSpI6YYEmSJElSR/qWYEXE8hHxm4j4W0T8NSLe1K/XkiRJkqSpYL4+PvedwD6ZeXpELAacFhHHZebf+viakiRJkjQwfevBysxLMvP09vMNwN+BR/Xr9SRJkiRp0CZlDlZErASsCZw8Ga8nSZIkSYPQzyGCAETEosBRwF6Zef1sbt8N2A1ghRVW6Hc4kiRJmsa+d8QzBh3CwG398j89qMc/5chfdBTJ8DrzZS98wI/taw9WRMxPJVffzszvz+4+mXlwZq6VmWvNmjWrn+FIkiRJUl/1s4pgAF8F/p6Zn+jX60iSJEnSVNHPHqz1gB2B50fEGe3fpn18PUmSJEkaqL7NwcrM3wHRr+eXJEmSpKlmUqoISpIkSdJMYIIlSZIkSR0xwZIkSZKkjphgSZIkSVJHTLAkSZIkqSMmWJIkSZLUERMsSZIkSeqICZYkSZIkdcQES5IkSZI6YoIlSZIkSR0xwZIkSZKkjphgSZIkSVJHTLAkSZIkqSMmWJIkSZLUERMsSZIkSeqICZYkSZIkdcQES5IkSZI6YoIlSZIkSR0xwZIkSZKkjphgSZIkSVJHTLAkSZIkqSMmWJIkSZLUERMsSZIkSeqICZYkSZIkdcQES5IkSZI6YoIlSZIkSR0xwZIkSZKkjphgSZIkSVJHTLAkSZIkqSMmWJIkSZLUERMsSZIkSeqICZYkSZIkdcQES5IkSZI6YoIlSZIkSR0xwZIkSZKkjphgSZIkSVJHTLAkSZIkqSMmWJIkSZLUERMsSZIkSeqICZYkSZIkdcQES5IkSZI6YoIlSZIkSR0xwZIkSZKkjphgSZIkSVJHTLAkSZIkqSMmWJIkSZLUERMsSZIkSeqICZYkSZIkdcQES5IkSZI6YoIlSZIkSR0xwZIkSZKkjphgSZIkSVJHTLAkSZIkqSMmWJIkSZLUERMsSZIkSeqICZYkSZIkdcQES5IkSZI6YoIlSZIkSR0xwZIkSZKkjphgSZIkSVJHTLAkSZIkqSMmWJIkSZLUERMsSZIkSepI3xKsiPhaRFweEWf36zUkSZIkaSrpZw/WN4CN+/j8kiRJkjSl9C3ByswTgKv79fySJEmSNNUMfA5WROwWEadGxKlXXHHFoMORJEmSpAds4AlWZh6cmWtl5lqzZs0adDiSJEmS9IANPMGSJEmSpOnCBEuSJEmSOtLPMu3fAf4IPD4iLoqIXfv1WpIkSZI0FczXryfOzG379dySJEmSNBU5RFCSJEmSOmKCJUmSJEkdMcGSJEmSpI6YYEmSJElSR0ywJEmSJKkjJliSJEmS1BETLEmSJEnqiAmWJEmSJHXEBEuSJEmSOmKCJUmSJEkdMcGSJEmSpI6YYEmSJElSR0ywJEmSJKkjJliSJEmS1BETLEmSJEnqiAmWJEmSJHXEBEuSJEmSOmKCJUmSJEkdMcGSJEmSpI6YYEmSJElSR0ywJEmSJKkjJliSJEmS1BETLEmSJEnqiAmWJEmSJHXEBEuSJEmSOmKCJUmSJEkdMcGSJEmSpI6YYEmSJElSR0ywJEmSJKkjJliSJEmS1BETLEmSJEnqiAmWJEmSJHXEBEuSJEmSOmKCJUmSJEkdMcGSJEmSpI6YYEmSJElSR0ywJEmSJKkjJliSJEmS1BETLEmSJEnqiAmWJEmSJHXEBEuSJEmSOmKCJUmSJEkdMcGSJEmSpI6YYEmSJElSR0ywJEmSJKkjJliSJEmS1BETLEmSJEnqiAmWJEmSJHXEBEuSJEmSOmKCJUmSJEkdMcGSJEmSpI6YYEmSJElSR0ywJEmSJKkjJliSJEmS1BETLEmSJEnqiAmWJEmSJHXEBEuSJEmSOmKCJUmSJEkdMcGSJEmSpI6YYEmSJElSR0ywJEmSJKkjJliSJEmS1BETLEmSJEnqSF8TrIjYOCL+ERH/joh9+/lakiRJkjRofUuwImJe4PPAJsCqwLYRsWq/Xk+SJEmSBq2fPVjPAP6dmedm5u3Ad4Et+/h6kiRJkjRQkZn9eeKIlwEbZ+ar2+87Amtn5u6j7rcbsFv79fHAP/oSUDeWBq4cdBDTgPvxwXMfdsP9+OC5D7vhfnzw3IfdcD8+eO7DbgzDflwxM2eN3jjfICLplZkHAwcPOo6JiIhTM3OtQccx7NyPD577sBvuxwfPfdgN9+OD5z7shvvxwXMfdmOY92M/hwheDCzf8/tybZskSZIkTUv9TLBOAR4bEY+OiAWAbYAf9fH1JEmSJGmg+jZEMDPvjIjdgV8A8wJfy8y/9uv1JslQDGUcAu7HB8992A3344PnPuyG+/HBcx92w/344LkPuzG0+7FvRS4kSZIkaabp60LDkiRJkjSTmGBJkiRJUkdMsDSUImKhQccwbCJimYhYfNBxSJKmj4iIQccg9YqIx0TEvIOMwQRrkszuBORJ6YGJiMcBb4yIga/jNiwiYnngY8AmJlkTFxGPiIhl2s8btIqomgue5zSMohl0HFNVOzceHhGLZma6rzRVRMQs4GXAYgONwyIX/RcRkW1HR8QTADLznNG3ac7aSXwZ4G7g4cBtmfnPwUY1HCLiVcBawK+An2bmLQMOacqLiHWArwLHAGsAO2bm5QMNaoiMOvdtCdwEnJeZ/xlsZMNvZN9GxKOBy4D0M929iHg6kMCNI9/bKhHxU+AuYJvMvMnrmcnT8/mfLzPvHHQ8U0lrfJ8feCywFXDgIPaRPVh9NuoC483A94FvRMTnob4RbfmZmJacfgW4JTOvAF4F7BURKw82sqmt5/i6BVgd+DD2ZI1rZJ9l5knAb4G3AJ/MzMsjYsFBxjZMes59OwAfBd4E7BERmw00sGmgfXdsDBwPfAHYb6S3VQ9cRDwqIr7Rfl6Xalx5A/CJiNh0kLFNFSOjRzJzU+A64KiIWMTrmcnT9vULgYMiYq9BxzMV9Hxv3wncCjwGeBTw5kGMeDLB6rOeC4x1gHWBZwIbARuaZE1cRMxDtZTdCnykXeR+AbgK2NMka2zt+NoO2Bt4JXAU8GJgg4h4yCBjm4raRepz28+7UMfYu4BvRcTTMvO2dpvnzwmIiG2AjYEnAzsA51LH3osGGtiQi4i1gOcA2wNfAwJ4t0nWg5OZFwOPiYgfARsAL87MVwHfAt5qknXPOqerR8QjMnMH4EpMsiZVu6b8OPBvYPeI+NBMnjYxqjNjeWD+zDwa+A7waGCfyd4/XiD0WRvG/XjgPcAiwEMy83pqqNbzI+IQuDcR0/1FxDyZeXdm/gv4NbAC1QtzIXVhcSM1J+txAwxzSur5onsccGxmnpeZbwdOA94HvMSerPu5jbpQ/RWwC/ClzPwQcCBwbEQs13pg3jnIIIdBO/6eDGwNPDozrwN+AJxHHXsbDzK+YRQR80bEwsCPgfUz80TgRGp0xPXAByJi2UHGOKx6emaeQ+3LnYA72s0/BL4EHBARmw8mwsGLiHmiige8DXhfRDy8J8k6fCTJGmyU01u71nkt8NnM/DKwHtV4//6ZmGTNZqTYL4CDI2KvzPw11ai8HPW9Pmn7xwSrD3pbb7L8A/g81fvy3IhYpiVZzwRWi4iH2+Iztsy8GyAi3gLsAfyTShg+B1xKzZGZB9glIuYfVJxTxahjaeRk8idgmYh4IkBmfhq4gToG/TJs2on6OupCag3g9My8uI1z/zSV2B8H7A8cPbBAp6jeY6/ts8zMdwJfBL4WEctl5oXUvjsN+PNgIh0+Pfv27sy8GXgesHJE7Nv286lU0nU1sPSAwhxqrWfmcRHxhJY0nEINvZy37fMfAZ8GrhhooIO1cGbeRQ33nQd4Z0+SdTtwtL37/dFzDlgZWAp4XkQ8JjMvA15OjY768KDiG5Se5GptYFVgG+Dr1P7ZNzN/BfyU6uRYYrLisshFx0Zl0jsCywL/oN7cFwGvoL4Ef5uZl/beX/cVESvQ5ltFxCLAEcAumXlZ6xXci+pt2JcqeHFTm5s1Y406/namevv+0/69ErgA+Dv1xfha4DWZecFgop06Ru23eYCHAo8Evgkck5nv7rnvUsB8M/1YG23UPtyLGpaxOPDazLw9Ig6khl7ukJn/DSdnT9jIvo2I51AXUecBP6Emcp9CzQ/8cLvvEq2RQBPUs3/XA95LJQqvy8wLIuL7VFGlbTPzjpERFQMNeEAiYhVqqPmXM/PPEbEE8FlgQWD39l29RmaeMcg4p5ue43NF4GJqusQa1Dz084Cj2jl1GWDlzPzj4KKdPKO+c9YHvgd8KzP3jppGshrwbuCszHxPRCzcGkomha0MHRt1gbEr1UuwDzUc6zjg29SY+fViwDX6p7KIeBiwG3Bb1JpXt1MXvM9td/k3cAY1t+OgzDzfC977HH+vBl5DFWj4MrXvvkT1ou4AvB54i8nV/U7SuwAfpIZe/QXYHNgiIt4REW9swwZv8Vi7v559uAc1x+/9VDLwo6i5GvtRvVZfbsM07hpUrMOmXVxtQCX81wLPpoasPhJYhxq29o52X5OrudT274ZU79R3qVbut0bEYzNzK2BRapjRPSMqZpr2mb2ZuqbZJSKe0o61N1O9qftGxIImV91rx+em1DDg9wGfoBpKD6UaUbePiJUy8/IZmly9lhoC+HHgRRGxatZc6TOBDwGPjYiHTWZyBSZYfRERqwJPAZ5PteDOQ52w3wP8khradlJm3mXv1f21D85V1IlkZeB1tAnc1Il94zZE4WZqXPzHBxbsFBNlceBpwHbAisAfgB+3L75PUUMJXpqZZw0qzqmk5yT9euDV1HyWT0TEB6jKi5sCT6QuIvbOzFsHFOqUFzU36AnAtsCOwMlUkZAfR8SjMnMvYPvMvNNz31x7BvCuzPwYNf/vBGC7zDwfeDpw6gBjG1rtnDkfdV78SmZ+hWogmA/4cEQsn5kbUz1bM8rIkLSIWJNqIL4V+CRwDbBr1FygRajvmMPbRa06FlXQ4sPU0Lc7qYblbwJnUSN7lqOukWaMnu/tjahz43FZc6W/ARwREau368RTgZ3bNeWkMsF6kNrJeXRP1PlU1bENqWGBLwBOB7YE3pOZv8iqVKTxPZNqqV2H6gr/J1XU4qsR8TXgIODrmfm/wYU4eL3j3dtcjOupY/Bgqrd0wza0ZV9gk577qImqQvlMKplagRqG8SiqUeROanjlTpl55sCCnOJaw8jNVEn7RwJbZeZWmbk9NVzwvW0ui71/E9BzcTtShCaAV0bEQu2c93vgyRGxQmaenZnH9czR0AS18+GdwDnAEyJiVjtG30sVaHltO25Pm2n7t/WcbESNengEVZHtLmpO+ZXUiJxjgYMz808DC3SaateX8wALU41WK1LfUTsAC1DJxBnAOzLzvAGFORBRxVaWpvbBysDt7Tvog1TyeWxEPLF1ZAwk8TfBevDmbVkyEbFpRDwTWKJ9AS4GnJmZd1BjuH9OjVfWbETEMu2LLCPiBdTQv89QE+TXpXoQfkpVzPk88Kx04cfeIiDrRsSz2uZ/ArOA97f9+TLqBP3vAYU5pYy+UMpa+PbNVE/VVpm5DjWkclsqSZ0/XcT1PiLiYdGKykTE9lQlzw3bfroGuDIi1mzH3uHU59lhgRPQM+diC+AzbW7FV4G/Au9ox+88VC/LfRpYBhLwkOlJXp8UEc+OiEWBn1G9Mc+NiCXbz+dSw4R3gJm3fyNiNapYwNHUPvgzNVTy7sx8H9Xw9NLM/NnAgpyGImKB9uOCWRWUfw38DXgpsG9mnkYdmwsDj5spw4Jn8719JfBCqqjP9iOfz8z8CPARamrJwMy4co5diqrI9llqTZeXUWM9/wH8LSJ+APyOqpy1DPAsYKOsai8aJars9UuAvaNKN+9OJVZk5m/bhdz2VNJ6SBsWM6ONGoP8Rqps7p8i4sDMfF5ErAS8ISLeTe23HTLzn4OLeGpoY7Gvaj9vShVI+W5mXhURq3NvlaGlqM/wYZk50BP1VBMRjwHeDhwWEY8G3kH1Lh8VEa/LzMMi4q/AftRw6c1mWgvrg9EzJ+gA4PV57wLXPwW2AE4C5gU+6Llw7kQrUtF6Zr5O9QQ+hRpWfRT1PfQGYBlqqODzgZm8XuBPM/PENlLnb1RjyWERsVNm/m3AsU0r7Tv74qyiQFtSi7L/mqpm+/M2BHvdlmesRxX9+vvgIp48o653tgceFxEnZebPotZa/H5E3J2ZI+vLfmqA4QImWA/WucBFEXE8VaVtdeBh1NyXbYDPUF26z6C6cM8fUJxTVmuRWIy6WPsI1e19LrUfn0sNQaANf5mP+sKb8Re7o042i1NrtTwjq8Li4RHxeyqpnxd4LHClQ7PuqUz5noj4OrASlZReAbw4Ig6gKrL9NSL+QM2f3DozLx1QuFNWZp4bEVdS57l5qf10ZkScQpVpvj4z94uIRwDzOCT6AXkqcBhwSUTsRF3on0clsw8Hbs1aQsBKtBMQrYJYS66eQM252iozT46IT1LD+J/eLmSfTM0dXJ2qVvvSgQU+WNcDG7dk6hDg5oj4DbA+NeR3T+dddeptwKZRi7DvSM2vWhzYNiJupZYH+TA1beLjMyW5gvvMuXoD1dj+BeCLEfFlqujHi4ETIuKOzDx4YIH2cIjgAzDSTdlOLHtSk423pIYGXkx1p19EfRE+vs25On8w0U5tPfOB/o+qOnZ6Zp5CDct4drTKWO2+PwPenJnXDiTYKaK1wI6cbPakyjXvSiVUZOYrqHLs59av+XeTq3sE1cu8Xfu3TmZuQA292osq0LA78FZgU1to7y/uXajxQGoo6qrUZ3XRNpTlJVTlwK0z8xKTq7kTEc+MiKdRw3mfRq29tAzwF6pXdZHM/M/IfjW5mrOopRX2bsNaF6BKja9JLaNCZr6ZWj7lPxGxbFYF0Tuphr9XzIQL2Z5hkw8Z+T1rzbrtqQVa92lDVrejKi3eanLVrcx8A1VM5ETg+Mz8ErWvf0V9x6/Svt9fmplHjB4yNx31/o1ttMTzqCIfS1DzAFeliv78k7oG+tXkRzl7JlgPQM/F7dZUq+IB1Pjtb7eLjH9RX4pnUS2OmrOkehT+FlXS+T9Ui8S2EfH+e+40yWU2p6KeOVfPo3pHD6J6XtZo28jMbakTzYqDiHGqiVYIJDP/S62V8U9qvtWWbfs7qMIW7wYek5m/T0vY30cb6jyyGOtLgQ9QZa2Pob7k1okqwPArqvfZgiATEBGrRMSuPZveAiyUmUdRjXSbZVUO/BVVMGmpAYQ57EYKAixErR/0NmqY5dMi4kkAmbkPVfZ6tfb7ZdS+n/bVVnvm/G0M7B4RC7TfIzNPoJKqp1ONJ68CLqO+byZt0dbprCe5jcx8DTVUdb+eJPc4qiF/19YAcAvMjMaVnuvtjYBLgDdSn+GtMnMtasjqbtTSM/9o145TggnWXIiI9dowohEbAjdnTdx+DVWF6IiIWDyr+MLnnXM1e7NpefkhNSTmGOD/IuLJmfkPagjSRlHrYol7KgutDfwaODkzf071AN4NbNhORGTmqzPz3AGGOiVEz8Kg7YLgMmr47heoCe0bwz1J1hnU0CD1iIjlgA+0RiWoIalXZU3A/hD1xfcS4PktyTqxfX41ZwtTa4Pt3n6ft/2D6om+JCKeDxxJDTV3v86lzLwsMy+ihgXuDaxCNYw+HNgqqgw5mblXZv467q3MOiMK27Rkam1gM+BP2eactu3ztFEl21HJ1VJUkandc4YUV+innuR2beALLYF6DZVU/aUlu5dQI1XeMlOuKSPisRHxlPbzI4E9gGijcZbi3vwlqbnSR0y1hDOmWDxTWtQExN8C38zM/SPiCKo86XE99/kqVb1tpGXcHTzKqPlDr6LGGF8HfItqYdyTGr5xUNZq8fNnVWKcsWY3zyIiPk196a2Smde1eQWvphaC/Ki9ffcUopmVmSdExN7UBcSyVAnmv1M9LatTE7l/NLhIp7aIeDg1D+XJVO/8fMCKWVU+R+5zIJUs7OexNzERMV/rEXwK1WDyeur4/APwL2q+6eLAc4CLMvOkgQU7hHouXtehGgFuB7aiGvO+SI0w+SSVyH44M28YWLAD0pLJ+amh0zdk5pPa9nsqJPfcd36qF/VfU6mnYNi1RtHXUd9Hp1MFqS5r15PPpyoFzphroKiCKp+l1l07mPrsfpkqPnMtdZ34ParS58OAl03FYbwmWBM0crKJiBWploTPU61f5wKnUXM7ghoTeodzXuYsIvaiEtEvUknVmcA+1H7cjxre9irgzpEeiJko7l/17hHAt7IqDX2CuvB9WmZeGbXw49VZ5UtntNZLehDV4PEHai7BK4C1qdawQ6l5F2+kLmrfRfVIe1KcjYhYlqpg92RqOO+C1P59FDUZ/q/A9TmABR2HUc/F/xMz8+8RsQa1EP1DqXVclqUuMO4G3ppWYXxAoqqx7Q/sk5m/ab2xL6UaVr5CFah6eGaePcAwB6bnOFyRWhj8q5n5rnbbPDP5u3cytEbAo6je1f9Sy4ME8KbMvCIivg18qQ3VnPaiKvkuSU2xeR9wI3A8da34zpFe09bo91jgwpyiNQ5MsOZCT5L1aKq6y1Oo0sRLUmO876A+FJcMLsrhEBGrUBMTX0vNOXgeNQfmDirZCmoy94y+WItW9Y4qJ7wS91a9u4062ZwZER+ikoSVZvr+Gi1qQvs7gScBt2TmDm37c6ix2+tTvae3ZuY1Awt0SERVBdycSlSXp4Zarkm1KL7bVu25ExGbU/P+Xp+1kO0TqJ6sr2Tme9qQ1uUy868DDXRItfPnD6iiAOe37+6FqQIie1LzrfbMGbbwek9S9WxqLuq5mfnLiFiempv25cw8YKBBzhBRi9x/HNg1a6mQoBLdq6nj9qZ2v2lfLbR9X7+aKlbxOarR7oNUkZ/VqIa8/1LXh3dQPX1TtgHAMu3jiKrktARVzeWullzNm5nntS/GH1FrFry23X/xmXaifhD+R/UYPBd4Uft/C+pE8/HM3J1qvZ3peqverURVvbslIj4IvC0iPpyZ+0bE7VTLtwlW01pfb4+Ig6gkfr2oIiAntSGDx1DDB2f8YtUTlZmXRK3xdzeVWP07Mz834LCGUmu5fjfwusw8vX23nNPmBP45Iq7OzE9FhN8pD9wiVDXAp0ZVXF2FWph0Y6pxdLGZ+J3dkqtNqOGRHwIOj4gPZObHI+LpwN8jYsE2L1UdGjVFIqgG05uAtSLij5l5fRuZsh9VROjVMP2nm7T9cnv7Xh6pa/AVqlH5fdT14LHAqVTucvVUTq7AIhdzsg5VivhZ0UoT9yRZlwAvA14fEe9q959x47cnIiJWaMOL7pG1Hskl1AKOx7ex3ktS87A+OPlRTi3txDtS9e5IZl/17r/AQRGxema+J6t6pZqs9W7maWPXP0YVsNgW2LfN/XshtZyCeowce7PZPi9AG/58DJX4bxIRi431GI1rXmp42hkj3y/tIuMvVPL6V5j+F1Zd6z0W27yMH1FrCp2YmVtQPVfrZuZVU3VoUT9FeRR14bol9T1yFbB5RLwnM/9HVQU9bpyn0QPQ03O4aZtD/T6qEeDb1LD1PSLiTdQxujuwdMyQAl8957kbqXlXp1DJ5VOpUTxXUSNR7szMv2QVrZnS7MGajZFxx5n5+dZ9+y7go7QTTk+S9d+IeAY1QdQvwtloidVbqAWZv5n3r4BzMVWKfRmqJ2v9nOHr5oxq4RrpMf0iNedl/Yi4JmtttXdGxP6AQ9u4/xCK9vvdbR/eERHvoyqIbUMNw9rQeS33NerYexM13+pC4GuZecHIMOnMvDQivgvcnjOwMMADMZshPrdQvc4rjhyHUZVq187MT4zxGM1GVPGFzMw7qeuaO3qO1YPi3mIiz6YuXvcYaMAD1I6niyNiZ6pR8yPA44FnA7+KiGuzite4iHXHWnL1Iiqxegt1LP6YKryyH7ABlVC8gRo99ShqKNyM0Hr1D6X2y5fa5l2oXuj9qeH+1w4kuAfAHqwePS1fvStGr0C9uf8XEc+Pe9fTGUmyLkxLYY+pJVQ/p8bQbhO14ONIK9o8mflnYFPqQ7VeWoK4d92HPanyzV+iFsD9NFX5bquoBR/JzPfO9IQU7pcYrB01l2BJuOezOl9W6eGPUws3ftRj7f569uF6VA/9b6jE/gsRsdLIea/d9/Kc4Yt+T1RPy/UGEbFvROxIJa7HAd+IiF0jYidqraZ7Frf24nbOWu/fFtQwwJcCh7Ztd/d8p98VEatRSzPsm7Ug9owxsh8iYo2I2Kodj/+lLdbajrOrqbXWfj/yOI+/bkXEwlQiuz217x9GXR8dQ80D/hiVUDycSjBeNZ2HsM5m5MOF1JIz76WKUX2Jmo+2N9UI8PbMvHxSg3wQLHLRIyJWbCcdImJV4DDghVnlMnenhhftD/zKE8+c9VxU7EJVyFmJ+vAc3vbpyDA49+UoEbEHta7Q66hCAo+mTrx/At5KnYDfiVXv7iMi9qGGvZxHDf87siXx95TEHmR8wyBqras9qLLVx0TELKp8+FrAm9NCFg9IRGxGrb30Geq75BKqpXozqtX64cB3M/PYQcU4rCLiWVQhoPmogiE/H+N+K7Se2BnXMxMRG1IJ5gVUI/Lu1HCsA6me1McDb8zMXw4syGloNiMrlqIa/74D7JSZ/4yIPwOLAWtm5g3t+vOumdIIGBEbZlvuKCIWoRr3dqESq7OAnailVIaqgJw9WE1ELEktpLl423QBVWnoUQBZE7nPoJKudQcQ4tBpydVLgL2olba/DjyG1pOVzSBjnIoiYjGq0tVWVMW2m4BPUfvvadR8ovdm5k3uv3tFlWN+YWY+h5okuyGwY1T5a0yuZq+3FTGqitMfqAuAkV7SK6hlKf4OfDAi5ptNy6NGiYhHRBVVIWoexUupC4cbgKWpSdtfB36dme8EXmtyNXd6Gul+R/W2Xkf1Vi086n4jc6gvaP/PiPNmT8/VAsAjgW0y8wXURet7qF6Ug6i5z68xuepeuw5aPyK2a4nENdRxeg5wbRu2+kuqYuANLSH72wxKrhYC9ouI7wFkVU08mpqf+k1g9cz86rAlV2CCdY821OVV1DCDt2fmjcDlwLOj1s2AWmT4VKp1XLPRTiRb9mxaEfhtZl6UmR+lemC2B3ZrLeMapc1p+T9qHZwtgJ2pajrXtO3zZubVAwtwihgZrttzsX8d8NqIeCOwHNXrsgbwlqjKWBpl1NDKN1LrLV1EJfbrRcQBAFnl/z8MvCEz75wpF6gPVBtGuQ5waUQs2vbfftSE9v2oMvdfoopZfDMiHkJVZtQE9YyQWC2qaMOB1Hf4flSvIO22pWZq40rbP1tQ6wi9AdikbX8zcCm1z+bPzCNyhqyzNFl6ktu1qEThmcAbImK/9v09HzW3/0iq0NeZMP2T/6j59iM/b0Ul+s8HFo+IQ9vUkeuoIj+/pIauDqUZn2CNXKQBZOZt1JfcKyNiO2o44LOA90fEIdSQrD2yquxo9q6mSgyv1H7/A/DoNqeDzDyMqgazDNXLoNloJ5g7qApPDwN2oBL8TTPT8vVUlcD240rty+x3WcUC1qASgdOoVsLLqf2oUXqSq9dSwzAOadvPpyZcvygiPtK2uYD1BGVVRT0GuAz4TES8tM2VnAc4NWve7uLAL4B3Zeat7TGaoJY8bEpVYHsldaF6IVV6/PUR8V7gj9T6OTNS1MLzr6IaR74MrB1V3ILM3JvaXw8ZWIDTWDs+n0M1puyUmXtQCe3aEfGGrDUZ3w28oA3FnvajAlpnxQfaMHSo+gY3t3PfJtS1znfad84u1JI9Q/vdPaOrCEbPKuWtN+WurPVxXkONVb6b6m1ZhzpJv9/5B2NrLYpntuEw/46It1MtN6dShRlWpXphFgU+OdN7YXqPv1HbR3oVLqSOwQOohZg3G8Zu8q5FxLrACpn53TZXbReqteuSiDiQ6sk6KiL+j2o1fHEO0cTYydaGaGxCtSTeHBEj861+Qs1nOzIilja5mjtZlSsXBE4HNohaq+63wLoR8WVa73RWWXbNpYhYkWoE3Yw6Tu8G7s7MoyPiEqqk8xZt+OCME1Xo55vAWW2fLEytubRz1BpXX8rMPQcb5bT3dGoe9dnt9zOpY/ZjETErM987csfp3nPV3An8GXhBRNxErfN5Hdzz928SEbtRcwK3zSEoxT6eGZtgRZWDnAWcEBFvpua7PCQiDsjMn7ThMp8EHplVMtfu83H0DNeYJ2s18hdTaxlcRw1rex41sftuaiLtUH9wutCT3G9JJZ5XZ+bZbT/O1y7QXg0s1e5/xQDDnUqWouYCrQasTBVQWZEaZvARas7fzdTwq52GuQVsMmQtXP1TasHRC6lk9TRqPtv3I+K5WWuJaS5llbM/AriNKlpzOTUqYg3gK5l58gDDG0o9DVB3UlUY16J6+Hds3z0bAif37tveobAzQUQsl5kXRsRhwNYR8fTMPCUifkEtK/OqiPgJ8L/ZNfLpgem5DloJuDhr4eYrgHdExKmZ+deIOJMqVDXte6xGa+fDI4HbqcW+VwIWbPtkOaroyrE5Tdanm7EJFrXw4NIR8WhqMvzWwHrAYRGxXUuy3gocEBHfAK6ZSSfoiYpWebGdVHYAnhwRR2fm8RHxSmr4xv6ZeWj7YC2YmbcMNurBGjXvZRtq+MZvgGz77odZa7aMVL0zserRPpu3Uw0gZ2bmfyLiQio52B94XGa+JyIWyCrNrjk7hGpZ/E9mXt2Oy8dHVXS6ebChDae4dz3FyyLix9QF1WuBozLzJ+0+M+rC/8Ho2VeLUoVC/kcVnNqd6tG+PqpgwLuoXu17ylvPpH0cEQ+nLujPyczPRhX4OCAi9s/MUyPiGGrR5dFrUupB6EmuNqWOwRNaz/9rIuIRwLcj4pVZc61OG2y0g9POh8dQ58NVgeWp3uY1qSVB/jbOw4fKjCvTPvKl14ZuvJ1aSPOKzHx9u30raqzya1rr7UIzPSEYS9RkxfdRLd5XA2+iJiVuQq0zdFjUQsy/APbKzG8OLNgpKKp8/ROpBOsuapjLBsARmfmjQcY2DFrP3zeA12Xm4W3bD6hS14cPMrZhFTUndReqF3DbzDx7/EcI7nNxtQrVCntH6025Z2mAdpE1UpL905l5zgBDHkoR8UJqCYGTqfltpwAfAP5JDUXfh2rQ++HAghyAUY1281BTG54G/C0zD46Ivajvl7dl5imDi3T6GbXvV6MalbegioqsDWyemTdGxDuoc+tTs4qoTXujG5BmMy1nSyqx+nGOsbTCMJtRRS7amz3SHb4M8H7qpLxsRDy7tXh/n2oR+1RrvbWgwNhuBH5NdfPuSA3ReCf1hbd96wn8E/ACehYv1D02pi5kF8qqYvnL9u9VrRVM42gXUTtSwwUPaMNSV6E+03pgRqrZbW1yNXEtudqYOh9+GPhlRKzWeqJHFma+BDicml+wwuCiHU5RhZI+Ri1CugrwQiqxejXVGv5IKoH4YcT0LxjQqx1/60bE9u0a59tUgY8nt16TT1FzKtWhqKINu0YtrQI1/PIw6vhcH3h1S67WyswPUsOuZ1xyFREviohleoejtikPxwD/oOZeLTbdPrczaohgz5u9BzUnaBfgE1Qll+2AeSLipMz8TkQck1WPX6OMfHAy8+Y2jvsOal7B66meqiMi4m7gzRFxZ2Z+b6ABTwGjTjYLZ+bNmfmKiPgO8JOIWCMzL46IX1P784xBxjsssqovzQccRZ2st8yq0KYHoH2mvzGThlR1ISKeSg013z4zT4yIPakk6zmZ+a/eu1LD21zqY+4tA7yNum5ZFXhZZt4UEYvlqGINM/T4XYqqeHxXVgGgo6jiXHtGxEMy82MDjm86Wpq67lkwIr4KXExVY30jsEZmXhMRGwC7R8Rrsqrczgg91zt7UzUOXkXNQSUi5s3Mu7LmZH0XuD1reZppZSYOEdwaeAtVke3ykSGAEbEPNfH4/zLz946Nn71RicLDqcIMt7cely2Ac1prGVHrb/w5My8cWMBTwKh9tjvweGrS+36ZeWtEHAo8AXh6a4mcNy3ZPFci4rnAf3OaTI7V8IhaxPVkqvV6C+o4vCsiPkANFdx/1P0XsfFuzmYzvGgTaj3Aq4DntovXFwLPBT4wU3oGxtP20YeAD7ch+s+j5v29PzOnzdyWqaBnuskawMeBH1HH50uBTam1x86j3o8ZM2w1Ih4JXNsa69al9s1z23XimsD1WfOmZ1tFeTqZMT1YPSfrJ1Bd5bOiykFuGREXZuZWbYzsf2DGtoDNUU+isCc1n+DCiDg9Mz/fxn6/KCLekZkfTOcRAffZZ2+gKt5tR5VufmREvCszd4iIH1GVKp+NC47Otcw8ftAxaObomXO1KrXG2ubAD6iqlQe0u10MPGb0Y0yuJqbt32dTxad+QA15O4SqNvaQdtvHgHeYXJXM/FlEJHBIu7jdBHityVW3RqabRMTq1DXjPtRoqFuBY6lzwt7t//3aSItp32gfteD3vsDZEfFNqsf+DmqZnnWoTow1ImK9zPzr4CKdHNN6Dtao8Zzzt/8PA7ahVtC+iPpiXDCqrOkHM/PSSQ5z6ESVDn8ZNf8lgHdHlbc/hppDtGxEPHSQMU41EbE4Nbl9G6qF689UmeEvR8SjM3MLakFCk3tpimsX/5tT3yerZS07sTV1IXFUO0e+mmrFvucxg4l2OEXEM4EvUoWAPk0VAPoZcBbwQ+Ad1CLNM2KR1onKKhbwfOAvwCsz85cDDmnaaZ//Lageqydm5hlU0bRXABtn5vGZuWVm7jlTkqvmf1SFxMdSQ3h/D/yJ6tE7JjOfR+2zNQYV4GSatkMERw3LehVVBvJ04Ih2l9vah+RFwAep1bQthz0bo/blAtQwmN9SPTEbUCVJfwAckpnvi4hFbVG8v6jKlU8APpWZ67eLgiuo9cL2T9cakoZCGxb0DeDlmfmvqEVdb6Naa39GlQh/Y7tt2g+F6UpPz+BS1DzpGzPzuJawPhP4OfB9YF5gvjYMaaZcvGqKiKoWeijwhsw8vWe44NOAz1PFbD4zk4b693x2X0U1Ij+CKnh2VM/14zbUgvab5QyYKz1te7B63tDXAbsCP6YSqQOBJ7QDYSdqfOj2JlezN/rLKzNvz8wjqZ6rFwB7Z+ZZVJXArSLiYSZXs5eZt1FrCs0XEU8CXgT8ipr3Z3IlDY/bqEI0z4+Id1HJ1uFUy+zLqEXsd4B7FxTXnPX0DJ5C9VDt0bZ/Bfgd1UOwNXB3Zt488pgBhauZawHgSuDv7fd5ADLzNKrn+g8zKbmCez6721Of2XdSUx6eB7wyIkaG9L6bapSa9skVTMMEq3eoQGtVXJuaK/QE4AKqRO6u7QL3RGDTliBolIhYuSdR3SsivhYR+0ctLnwFdZHxxIh4I5VwbZCZVw0y5iFwAVXt7hNUOef3ZuYFgw1J0ly6kFoO4JXURdYbgO8BK7bhgi8HNoqIpQcX4vCJiMcBO1P79ZXAYhHxKYDM/DrwU2ptpzsHFaNmnpHryoh4ZivicANwDbB61PI+d0bEsyJif6rQ18mDjHeAHg8clrWY8tuoEuw7U1MjfkcVu5j2c69GTKshgqOGsr0BOJNaFfoxVFWdDSLiycBx1Bysz2Tm7QMLeIpqJ5MFqXlC36WGvHwc+BJV9nV16kOzEdWL9WRqYeYzBxHvsImI+YGHU62wFw86HkkPTLu4uj0ing58jVqm4lfttvlMBOasZ2jRU4A3U0UsdsnMCyNiJep75/zMfO0g49TMFrXO3eeAnTPzd63n+glUEnEhNfTtDZn5iwGGOVBRa1HuTM2N/GvbdhKVXL0vM68fXHSTb1olWCMiYktqjas92kn62VQytWZUOfHdgNdnLfyoUXq+8Fahhr1cRe2/Y6JW396dSrLemLWOgWWHJc04UYsIrwF8gSoV/sOe86dzgyYoIjak5m2cTA2d/inwk8y8LCIeA3ydWm/o7+5TTbaIWJYaebJ3Zp7Ys307YCVqkesfZuZxg4lwaoiIJYG3tl9/DSwE7EUVW5lxjcnTLsFqZSJPAn6TmTu1L8CgvgCfBCwKbDOTuinnxuiLgoh4BDV/7YzMfHXb9jCqFOeKVKGLu/zSkzQTRcQiwDKZeZ5J1dyLiCcA7wU+kZknR8RWwEuo+ak/b414D8nMWwcaqGacnsaSRwBfycwXte0LtwIrC2bmbfZW36sNodyq/bsTeEtm/mWwUQ3GtEuwANoJ+otUD9b32rYFgTWBi9oYeY0yaojlG4ElM/OgiHg01XpzRLY1XqLKsM+TmVcOLGBJ0lBqjZ8LUCXY1wYO6vm+3hLYierJ+pZD+TWZeqtZZuY1bdtPgLMz8+3t9xdQBS12AW63mM19tYanmMlFz6ZlggUQEZtRJSIPyszDBx3PMImI1wKvotYxuLBtewS1UvlvMvNtg4xPkjScei5e583Mu9rwq3cBNwLfGSk61RpK/+PcXg1CRGwCvI9akuaHwLVU4YYlgCOBtwDvycwfDihETXHTNsGCez4gBwN7ZuYPBh3PMIiIhYDvUD2Ap1IlcdcCfkINvTwS2MKeK0nS3OhJrjaiKoudRFXzvRw4CLgMODoz/zzAMDXDtWFun6cK16wFLExdDx1HzSm6DjgrM491WLDGMq0TLLhn8ux/Zkrd/S5ExG7UhOILgb+2/5+Sma+NiPnTNZskSQ9Aq8b2EWpNnFcDd1NVff8KfBK4GPhQZt4wsCA1Y0XE2lQly3Uzc582HWJHqpjFb4EfmVBpIqbdOlijZeZxJldz7RCq0uLOmfkO4Grg8W1MrRM5JUlzrVUZew5VMfAWYHlqkfq9gce2/79jcqVBiIjnAj8A1gfeHBEvysyrqSqW/wM2pJZYkeZo2vdg6YGLiHmoCZx7Adtm5tmDjUiSNExG5lr1/L40Vb7521QV2luBXwD/BXYdKSogTaaIeDy1ltWhmfmziHgZNURw+8z8cUQsDjw0M88fZJwaHtO+B0sPykOo4Rtbm1xJkiYqIhYDaIUs1o+IN7bFhG+kRkLM0yr6LgucB+xrcqUBejbVo/qCiFgsM48EXgn8MCK2zMzrTa40N+zB0ricwClJmhsRsTDwc+AzwJnA0cDfgBuAUzLzixFxKPA44GHUWjkWotKkiIhFMvOmUdvmBbYFng6cTi1Lc3PrybohM38xgFA1xEywJElSpyLiJdSC9FdTvVNnRsQ2wLrAnzPz621YVmbmP23M02SIiKWANwJfaPOrGFkoOCLmA3YGVgXOAb49koh5fGpuOURQkiR1qvVI7QesA2zUNh8J/A5YLyL2AP6Vmf9s9/fiVZNhAeAbwEJtKR9acjVvZt5JFbT4N/BkYKmRB3l8am7NN+gAJEnS9JOZx0XELsBBEXFRZn4nIo4E5gXOzMy7BxyiZpjMvCwi5gdeBzwzIu7KzGPbXMGRxa8PBh7R5ghKD4gJliRJ6ovMPDoibgfeHxELZOY3qcXspUnTs8j1gpl5W0QcQiviFRHzZObPe5KsO6n1P6UHzDlYkiSpryJiC+BDwAbApfZeabJFxIupNT7/TS0TcCo1H+vJVFELC1moMyZYkiSp7yJiVmZeMeg4NHP09FwtSc29+i6wOPAGKrk6qf3/JOB7mXncgELVNOMQQUmS1HcmV5psLblaG3gqcFpmfhcgIm4FPgvsDXwOeD2wJmCCpU5YRVCSJEnTRkRE+39d4BBgM2CLtuj1/Jl5CPB54IttuOpdwCYRseDAgta04hBBSZIkTSut5+pAYO/MPCsi3g8sSS0X8IfMvCMils/MCyPiWcBFmXn+4CLWdGIPliRJkqabJYD1gQ3b7++jFr5+JfCstu0igMz8ncmVumSCJUmSpGklM48FXgrsGhHbZeYdwPuBS4HL230cxqW+cIigJEmSpqWI2JRKrD6bmd8YcDiaIUywJEmSNG2NWoftssy8a8AhaZozwZIkSdK05jpsmkwmWJIkSZLUEYtcSJIkSVJHTLAkSZIkqSMmWJIkSZLUERMsSZIkSeqICZYkqe8i4q6IOCMizo6IIyJi4bb9xkmO47cRcWrP72tFxG8nMwZJ0vRmgiVJmgy3ZOYambk6cDvwun6/YJTZfc8tExGb9Pv1JUkzkwmWJGmynQis0rshIhaNiF9FxOkRcVZEbNm2vy8i9uq530ER8ab281sj4pSI+EtEvLdtWyki/hERhwBnA8vP5vU/Crxr9Mb22BNbDKdHxLpt+/Mi4viI+GFEnBsRH4qI7SPiTy3Wldv9ZkXEUS2mUyJivS52liRpuJhgSZImTUTMB2wCnDXqpluBl2TmU4H1gY9HRABfA3Zqj50H2AY4NCI2Ah4LPANYA3haRDynPddjgS9k5mqZ+d/ZhPFH4PaIWH/U9suBDVsMrwA+03PbU6hetycCOwKPy8xnAF8B9mj3+TTwycx8OvDSdpskaYaZb9ABSJJmhIUi4oz284nAV0fdHsAHWpJ0N/AoYNnMPD8iroqINYFlgT9n5lUtwdoI+HN7/KJUYnUB8N/MPGkO8RwI7Ae8vWfb/MDnImIN4C7gcT23nZKZlwBExH+AY9v2s6iEEGADYNXKCwFYPCIWzcxJnWcmSRosEyxJ0mS4JTPXGOf27YFZwNMy846IOB94SLvtK8DOwMOpHi2ohOyDmfml3ieJiJWAm+YUTGb+OiIOBNbp2fxm4DKqt2oeqldtxG09P9/d8/vd3PtdOg+wTmb2Pk6SNMM4RFCSNBUsAVzekqv1gRV7bvsBsDHwdOAXbdsvgFdFxKIAEfGoiFhmLl/zQOBto2K4JDPvpoYBzjuXz3cs9w4XpPWESZJmGHuwJElTwbeBH0fEWcCpwDkjN2Tm7RHxG+DazLyrbTs2Ip4I/LENybsR2IEa2jchmfnTiLiiZ9MXgKMiYifg50ygJ2yUPYHPR8RfqO/XE5iEaomSpKklMnPQMUiSNKZW3OJ04OWZ+a9BxyNJ0ngcIihJmrIiYlXg38CvTK4kScPAHixJkiRJ6og9WJIkSZLUERMsSZIkSeqICZYkSZIkdcQES5IkSZI6YoIlSZIkSR35f6f4NPVXf+T6AAAAAElFTkSuQmCC\n",
       "datasetInfos": [],
       "metadata": {},
       "removedWidgets": [],
       "type": "image"
      }
     },
     "output_type": "display_data"
    }
   ],
   "source": [
    "average_runs_pd = average_runs_in_wins.toPandas()\n",
    "\n",
    "# Using seaborn to plot average runs in winning matches\n",
    "plt.figure(figsize=(12, 8))\n",
    "top_scorers = average_runs_pd.nlargest(10, 'avg_runs_in_wins')\n",
    "sns.barplot(x='player_name', y='avg_runs_in_wins', data=top_scorers)\n",
    "plt.title('Average Runs Scored by Batsmen in Winning Matches (Top 10 Scorers)')\n",
    "plt.xlabel('Player Name')\n",
    "plt.ylabel('Average Runs in Wins')\n",
    "plt.xticks(rotation=45)\n",
    "plt.tight_layout()\n",
    "plt.show()\n"
   ]
  },
  {
   "cell_type": "markdown",
   "metadata": {
    "application/vnd.databricks.v1+cell": {
     "cellMetadata": {},
     "inputWidgets": {},
     "nuid": "cc19be80-0714-4d75-b93d-97304a2de11b",
     "showTitle": false,
     "title": ""
    }
   },
   "source": [
    "The graph presents the average runs scored by cricket players in matches won, along with the number of innings played. It provides insights into the performance of players in winning matches, highlighting their contribution to their team's success. Players like Rashid Khan and Shahid Afridi exhibit higher average runs in wins, indicating their crucial role in securing victories for their teams even with limited innings played. On the other hand, players such as BA Bhatt and AN Ahmed show a moderate average runs in wins, suggesting their consistent contribution to the team's success across multiple innings. This data aids in assessing the impact of individual players in winning matches and can inform team selection and strategy in cricket."
   ]
  },
  {
   "cell_type": "code",
   "execution_count": 0,
   "metadata": {
    "application/vnd.databricks.v1+cell": {
     "cellMetadata": {
      "byteLimit": 2048000,
      "rowLimit": 10000
     },
     "inputWidgets": {},
     "nuid": "887bda37-38f5-4dab-b58f-e8215c9077df",
     "showTitle": false,
     "title": ""
    }
   },
   "outputs": [],
   "source": [
    "# Execute SQL Query\n",
    "team_toss_win_performance = spark.sql(\"\"\"\n",
    "SELECT team1, COUNT(*) AS matches_played, SUM(CASE WHEN toss_winner = match_winner THEN 1 ELSE 0 END) AS wins_after_toss\n",
    "FROM match\n",
    "WHERE toss_winner = team1\n",
    "GROUP BY team1\n",
    "ORDER BY wins_after_toss DESC\n",
    "\"\"\")\n"
   ]
  },
  {
   "cell_type": "code",
   "execution_count": 0,
   "metadata": {
    "application/vnd.databricks.v1+cell": {
     "cellMetadata": {
      "byteLimit": 2048000,
      "rowLimit": 10000
     },
     "inputWidgets": {},
     "nuid": "f1746917-181e-4b10-ab53-154bc29a58fc",
     "showTitle": false,
     "title": ""
    }
   },
   "outputs": [
    {
     "output_type": "display_data",
     "data": {
      "image/png": "[encoded data removed]"
     },
     "metadata": {
      "application/vnd.databricks.v1+output": {
       "addedWidgets": {},
       "arguments": {},
       "data": "data:image/png;base64,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\n",
       "datasetInfos": [],
       "metadata": {},
       "removedWidgets": [],
       "type": "image"
      }
     },
     "output_type": "display_data"
    }
   ],
   "source": [
    "\n",
    "# Convert to Pandas DataFrame\n",
    "team_toss_win_pd = team_toss_win_performance.toPandas()\n",
    "\n",
    "# Plot\n",
    "plt.figure(figsize=(12, 8))\n",
    "sns.barplot(x='wins_after_toss', y='team1', data=team_toss_win_pd)\n",
    "plt.title('Team Performance After Winning Toss')\n",
    "plt.xlabel('Wins After Winning Toss')\n",
    "plt.ylabel('Team')\n",
    "plt.show()\n"
   ]
  },
  {
   "cell_type": "markdown",
   "metadata": {
    "application/vnd.databricks.v1+cell": {
     "cellMetadata": {},
     "inputWidgets": {},
     "nuid": "a823caca-43ce-4741-8539-acb2e6b36052",
     "showTitle": false,
     "title": ""
    }
   },
   "source": [
    "The barplot presents the number of wins achieved by various IPL teams after winning the toss. It illustrates the effectiveness of each team in converting the toss advantage into match victories. Chennai Super Kings lead the tally with 27 wins, closely followed by Mumbai Indians with 26 wins and Kolkata Knight Riders with 24 wins. Royal Challengers Bangalore, Delhi Daredevils, and Rajasthan Royals also demonstrate solid performances with 19, 17, and 16 wins, respectively. Conversely, teams like Rising Pune Supergiants, Gujarat Lions, Kochi Tuskers Kerala, and Pune Warriors have relatively fewer wins after winning the toss, indicating a lesser ability to capitalize on the toss advantage. This data underscores the strategic importance of the toss in cricket matches and highlights its correlation with match outcomes for IPL teams."
   ]
  },
  {
   "cell_type": "code",
   "execution_count": 0,
   "metadata": {
    "application/vnd.databricks.v1+cell": {
     "cellMetadata": {},
     "inputWidgets": {},
     "nuid": "d6387612-0651-41cd-a954-dff599e24ab4",
     "showTitle": false,
     "title": ""
    }
   },
   "outputs": [],
   "source": []
  }
 ],
 "metadata": {
  "application/vnd.databricks.v1+notebook": {
   "dashboards": [],
   "environmentMetadata": null,
   "language": "python",
   "notebookMetadata": {
    "pythonIndentUnit": 4
   },
   "notebookName": "ipl_data_analysis",
   "widgets": {}
  }
 },
 "nbformat": 4,
 "nbformat_minor": 0
}
